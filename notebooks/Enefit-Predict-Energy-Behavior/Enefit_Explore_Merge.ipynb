{
 "cells": [
  {
   "cell_type": "markdown",
   "metadata": {},
   "source": [
    "# Enefit - Predict Energy Behavior of Prosumers | Data Exploration | Merge"
   ]
  },
  {
   "cell_type": "markdown",
   "metadata": {},
   "source": [
    "<img src=\"./header.png\" width=\"1200\" height=\"400\"/>"
   ]
  },
  {
   "cell_type": "markdown",
   "metadata": {},
   "source": [
    "# 1. Import the necessary libraries"
   ]
  },
  {
   "cell_type": "code",
   "execution_count": 1,
   "metadata": {},
   "outputs": [],
   "source": [
    "import os\n",
    "import pandas as pd\n",
    "import numpy as np\n",
    "import warnings\n",
    "from tqdm.notebook import tqdm_notebook\n",
    "\n",
    "warnings.filterwarnings('ignore')"
   ]
  },
  {
   "cell_type": "markdown",
   "metadata": {},
   "source": [
    "# 2. Read the data"
   ]
  },
  {
   "cell_type": "code",
   "execution_count": 2,
   "metadata": {},
   "outputs": [],
   "source": [
    "INPUT_DIR = '../../../Kaggle_input/input/Enefit-Predict-Energy-Behavior/predict-energy-behavior-of-prosumers/'"
   ]
  },
  {
   "cell_type": "code",
   "execution_count": 3,
   "metadata": {},
   "outputs": [
    {
     "data": {
      "text/plain": [
       "['county_id_to_name_map.json',\n",
       " 'client.csv',\n",
       " 'example_test_files',\n",
       " 'enefit',\n",
       " 'weather_station_to_county_mapping.csv',\n",
       " 'train.csv',\n",
       " 'public_timeseries_testing_util.py',\n",
       " 'gas_prices.csv',\n",
       " 'historical_weather.csv',\n",
       " 'forecast_weather.csv',\n",
       " 'electricity_prices.csv']"
      ]
     },
     "execution_count": 3,
     "metadata": {},
     "output_type": "execute_result"
    }
   ],
   "source": [
    "os.listdir(INPUT_DIR)"
   ]
  },
  {
   "cell_type": "code",
   "execution_count": 4,
   "metadata": {},
   "outputs": [],
   "source": [
    "train = pd.read_csv(INPUT_DIR + 'train.csv', parse_dates=[\"datetime\"], engine=\"python\")\n",
    "client = pd.read_csv(INPUT_DIR + 'client.csv', parse_dates=[\"date\"], engine=\"python\")\n",
    "weather_map = pd.read_csv(INPUT_DIR + 'weather_station_to_county_mapping.csv', engine=\"python\")\n",
    "gas_price = pd.read_csv(INPUT_DIR + 'gas_prices.csv', parse_dates=[\"forecast_date\", \"origin_date\"], engine=\"python\")\n",
    "historic_weather = pd.read_csv(INPUT_DIR + 'historical_weather.csv', parse_dates=[\"datetime\"], engine=\"python\")\n",
    "forecast_weather = pd.read_csv(INPUT_DIR + 'forecast_weather.csv', parse_dates=[\"origin_datetime\", \"forecast_datetime\"], engine=\"python\")\n",
    "electricity_price = pd.read_csv(INPUT_DIR + 'electricity_prices.csv', parse_dates=[\"forecast_date\", \"origin_date\"], engine=\"python\")"
   ]
  },
  {
   "cell_type": "code",
   "execution_count": 5,
   "metadata": {},
   "outputs": [
    {
     "data": {
      "text/html": [
       "<div>\n",
       "<style scoped>\n",
       "    .dataframe tbody tr th:only-of-type {\n",
       "        vertical-align: middle;\n",
       "    }\n",
       "\n",
       "    .dataframe tbody tr th {\n",
       "        vertical-align: top;\n",
       "    }\n",
       "\n",
       "    .dataframe thead th {\n",
       "        text-align: right;\n",
       "    }\n",
       "</style>\n",
       "<table border=\"1\" class=\"dataframe\">\n",
       "  <thead>\n",
       "    <tr style=\"text-align: right;\">\n",
       "      <th></th>\n",
       "      <th>county</th>\n",
       "      <th>is_business</th>\n",
       "      <th>product_type</th>\n",
       "      <th>target</th>\n",
       "      <th>is_consumption</th>\n",
       "      <th>datetime</th>\n",
       "      <th>data_block_id</th>\n",
       "      <th>row_id</th>\n",
       "      <th>prediction_unit_id</th>\n",
       "    </tr>\n",
       "  </thead>\n",
       "  <tbody>\n",
       "    <tr>\n",
       "      <th>0</th>\n",
       "      <td>0</td>\n",
       "      <td>0</td>\n",
       "      <td>1</td>\n",
       "      <td>0.713</td>\n",
       "      <td>0</td>\n",
       "      <td>2021-09-01</td>\n",
       "      <td>0</td>\n",
       "      <td>0</td>\n",
       "      <td>0</td>\n",
       "    </tr>\n",
       "    <tr>\n",
       "      <th>1</th>\n",
       "      <td>0</td>\n",
       "      <td>0</td>\n",
       "      <td>1</td>\n",
       "      <td>96.590</td>\n",
       "      <td>1</td>\n",
       "      <td>2021-09-01</td>\n",
       "      <td>0</td>\n",
       "      <td>1</td>\n",
       "      <td>0</td>\n",
       "    </tr>\n",
       "    <tr>\n",
       "      <th>2</th>\n",
       "      <td>0</td>\n",
       "      <td>0</td>\n",
       "      <td>2</td>\n",
       "      <td>0.000</td>\n",
       "      <td>0</td>\n",
       "      <td>2021-09-01</td>\n",
       "      <td>0</td>\n",
       "      <td>2</td>\n",
       "      <td>1</td>\n",
       "    </tr>\n",
       "    <tr>\n",
       "      <th>3</th>\n",
       "      <td>0</td>\n",
       "      <td>0</td>\n",
       "      <td>2</td>\n",
       "      <td>17.314</td>\n",
       "      <td>1</td>\n",
       "      <td>2021-09-01</td>\n",
       "      <td>0</td>\n",
       "      <td>3</td>\n",
       "      <td>1</td>\n",
       "    </tr>\n",
       "    <tr>\n",
       "      <th>4</th>\n",
       "      <td>0</td>\n",
       "      <td>0</td>\n",
       "      <td>3</td>\n",
       "      <td>2.904</td>\n",
       "      <td>0</td>\n",
       "      <td>2021-09-01</td>\n",
       "      <td>0</td>\n",
       "      <td>4</td>\n",
       "      <td>2</td>\n",
       "    </tr>\n",
       "  </tbody>\n",
       "</table>\n",
       "</div>"
      ],
      "text/plain": [
       "   county  is_business  product_type  target  is_consumption   datetime  \\\n",
       "0       0            0             1   0.713               0 2021-09-01   \n",
       "1       0            0             1  96.590               1 2021-09-01   \n",
       "2       0            0             2   0.000               0 2021-09-01   \n",
       "3       0            0             2  17.314               1 2021-09-01   \n",
       "4       0            0             3   2.904               0 2021-09-01   \n",
       "\n",
       "   data_block_id  row_id  prediction_unit_id  \n",
       "0              0       0                   0  \n",
       "1              0       1                   0  \n",
       "2              0       2                   1  \n",
       "3              0       3                   1  \n",
       "4              0       4                   2  "
      ]
     },
     "execution_count": 5,
     "metadata": {},
     "output_type": "execute_result"
    }
   ],
   "source": [
    "train.head()"
   ]
  },
  {
   "cell_type": "code",
   "execution_count": 6,
   "metadata": {},
   "outputs": [
    {
     "data": {
      "text/html": [
       "<div>\n",
       "<style scoped>\n",
       "    .dataframe tbody tr th:only-of-type {\n",
       "        vertical-align: middle;\n",
       "    }\n",
       "\n",
       "    .dataframe tbody tr th {\n",
       "        vertical-align: top;\n",
       "    }\n",
       "\n",
       "    .dataframe thead th {\n",
       "        text-align: right;\n",
       "    }\n",
       "</style>\n",
       "<table border=\"1\" class=\"dataframe\">\n",
       "  <thead>\n",
       "    <tr style=\"text-align: right;\">\n",
       "      <th></th>\n",
       "      <th>product_type</th>\n",
       "      <th>county</th>\n",
       "      <th>eic_count</th>\n",
       "      <th>installed_capacity</th>\n",
       "      <th>is_business</th>\n",
       "      <th>date</th>\n",
       "      <th>data_block_id</th>\n",
       "    </tr>\n",
       "  </thead>\n",
       "  <tbody>\n",
       "    <tr>\n",
       "      <th>0</th>\n",
       "      <td>1</td>\n",
       "      <td>0</td>\n",
       "      <td>108</td>\n",
       "      <td>952.89</td>\n",
       "      <td>0</td>\n",
       "      <td>2021-09-01</td>\n",
       "      <td>2</td>\n",
       "    </tr>\n",
       "    <tr>\n",
       "      <th>1</th>\n",
       "      <td>2</td>\n",
       "      <td>0</td>\n",
       "      <td>17</td>\n",
       "      <td>166.40</td>\n",
       "      <td>0</td>\n",
       "      <td>2021-09-01</td>\n",
       "      <td>2</td>\n",
       "    </tr>\n",
       "    <tr>\n",
       "      <th>2</th>\n",
       "      <td>3</td>\n",
       "      <td>0</td>\n",
       "      <td>688</td>\n",
       "      <td>7207.88</td>\n",
       "      <td>0</td>\n",
       "      <td>2021-09-01</td>\n",
       "      <td>2</td>\n",
       "    </tr>\n",
       "    <tr>\n",
       "      <th>3</th>\n",
       "      <td>0</td>\n",
       "      <td>0</td>\n",
       "      <td>5</td>\n",
       "      <td>400.00</td>\n",
       "      <td>1</td>\n",
       "      <td>2021-09-01</td>\n",
       "      <td>2</td>\n",
       "    </tr>\n",
       "    <tr>\n",
       "      <th>4</th>\n",
       "      <td>1</td>\n",
       "      <td>0</td>\n",
       "      <td>43</td>\n",
       "      <td>1411.00</td>\n",
       "      <td>1</td>\n",
       "      <td>2021-09-01</td>\n",
       "      <td>2</td>\n",
       "    </tr>\n",
       "  </tbody>\n",
       "</table>\n",
       "</div>"
      ],
      "text/plain": [
       "   product_type  county  eic_count  installed_capacity  is_business  \\\n",
       "0             1       0        108              952.89            0   \n",
       "1             2       0         17              166.40            0   \n",
       "2             3       0        688             7207.88            0   \n",
       "3             0       0          5              400.00            1   \n",
       "4             1       0         43             1411.00            1   \n",
       "\n",
       "        date  data_block_id  \n",
       "0 2021-09-01              2  \n",
       "1 2021-09-01              2  \n",
       "2 2021-09-01              2  \n",
       "3 2021-09-01              2  \n",
       "4 2021-09-01              2  "
      ]
     },
     "execution_count": 6,
     "metadata": {},
     "output_type": "execute_result"
    }
   ],
   "source": [
    "client.head()"
   ]
  },
  {
   "cell_type": "code",
   "execution_count": 7,
   "metadata": {},
   "outputs": [
    {
     "data": {
      "text/html": [
       "<div>\n",
       "<style scoped>\n",
       "    .dataframe tbody tr th:only-of-type {\n",
       "        vertical-align: middle;\n",
       "    }\n",
       "\n",
       "    .dataframe tbody tr th {\n",
       "        vertical-align: top;\n",
       "    }\n",
       "\n",
       "    .dataframe thead th {\n",
       "        text-align: right;\n",
       "    }\n",
       "</style>\n",
       "<table border=\"1\" class=\"dataframe\">\n",
       "  <thead>\n",
       "    <tr style=\"text-align: right;\">\n",
       "      <th></th>\n",
       "      <th>county_name</th>\n",
       "      <th>longitude</th>\n",
       "      <th>latitude</th>\n",
       "      <th>county</th>\n",
       "    </tr>\n",
       "  </thead>\n",
       "  <tbody>\n",
       "    <tr>\n",
       "      <th>70</th>\n",
       "      <td>Harjumaa</td>\n",
       "      <td>25.7</td>\n",
       "      <td>59.4</td>\n",
       "      <td>0.0</td>\n",
       "    </tr>\n",
       "    <tr>\n",
       "      <th>99</th>\n",
       "      <td>NaN</td>\n",
       "      <td>27.7</td>\n",
       "      <td>58.5</td>\n",
       "      <td>NaN</td>\n",
       "    </tr>\n",
       "    <tr>\n",
       "      <th>81</th>\n",
       "      <td>Võrumaa</td>\n",
       "      <td>26.7</td>\n",
       "      <td>57.9</td>\n",
       "      <td>15.0</td>\n",
       "    </tr>\n",
       "    <tr>\n",
       "      <th>76</th>\n",
       "      <td>Jõgevamaa</td>\n",
       "      <td>26.2</td>\n",
       "      <td>58.8</td>\n",
       "      <td>4.0</td>\n",
       "    </tr>\n",
       "    <tr>\n",
       "      <th>77</th>\n",
       "      <td>Lääne-Virumaa</td>\n",
       "      <td>26.2</td>\n",
       "      <td>59.1</td>\n",
       "      <td>5.0</td>\n",
       "    </tr>\n",
       "  </tbody>\n",
       "</table>\n",
       "</div>"
      ],
      "text/plain": [
       "      county_name  longitude  latitude  county\n",
       "70       Harjumaa       25.7      59.4     0.0\n",
       "99            NaN       27.7      58.5     NaN\n",
       "81        Võrumaa       26.7      57.9    15.0\n",
       "76      Jõgevamaa       26.2      58.8     4.0\n",
       "77  Lääne-Virumaa       26.2      59.1     5.0"
      ]
     },
     "execution_count": 7,
     "metadata": {},
     "output_type": "execute_result"
    }
   ],
   "source": [
    "weather_map.sample(5)"
   ]
  },
  {
   "cell_type": "code",
   "execution_count": 8,
   "metadata": {},
   "outputs": [
    {
     "data": {
      "text/html": [
       "<div>\n",
       "<style scoped>\n",
       "    .dataframe tbody tr th:only-of-type {\n",
       "        vertical-align: middle;\n",
       "    }\n",
       "\n",
       "    .dataframe tbody tr th {\n",
       "        vertical-align: top;\n",
       "    }\n",
       "\n",
       "    .dataframe thead th {\n",
       "        text-align: right;\n",
       "    }\n",
       "</style>\n",
       "<table border=\"1\" class=\"dataframe\">\n",
       "  <thead>\n",
       "    <tr style=\"text-align: right;\">\n",
       "      <th></th>\n",
       "      <th>forecast_date</th>\n",
       "      <th>lowest_price_per_mwh</th>\n",
       "      <th>highest_price_per_mwh</th>\n",
       "      <th>origin_date</th>\n",
       "      <th>data_block_id</th>\n",
       "    </tr>\n",
       "  </thead>\n",
       "  <tbody>\n",
       "    <tr>\n",
       "      <th>0</th>\n",
       "      <td>2021-09-01</td>\n",
       "      <td>45.23</td>\n",
       "      <td>46.32</td>\n",
       "      <td>2021-08-31</td>\n",
       "      <td>1</td>\n",
       "    </tr>\n",
       "    <tr>\n",
       "      <th>1</th>\n",
       "      <td>2021-09-02</td>\n",
       "      <td>45.62</td>\n",
       "      <td>46.29</td>\n",
       "      <td>2021-09-01</td>\n",
       "      <td>2</td>\n",
       "    </tr>\n",
       "    <tr>\n",
       "      <th>2</th>\n",
       "      <td>2021-09-03</td>\n",
       "      <td>45.85</td>\n",
       "      <td>46.40</td>\n",
       "      <td>2021-09-02</td>\n",
       "      <td>3</td>\n",
       "    </tr>\n",
       "    <tr>\n",
       "      <th>3</th>\n",
       "      <td>2021-09-04</td>\n",
       "      <td>46.30</td>\n",
       "      <td>46.80</td>\n",
       "      <td>2021-09-03</td>\n",
       "      <td>4</td>\n",
       "    </tr>\n",
       "    <tr>\n",
       "      <th>4</th>\n",
       "      <td>2021-09-05</td>\n",
       "      <td>46.30</td>\n",
       "      <td>46.58</td>\n",
       "      <td>2021-09-04</td>\n",
       "      <td>5</td>\n",
       "    </tr>\n",
       "  </tbody>\n",
       "</table>\n",
       "</div>"
      ],
      "text/plain": [
       "  forecast_date  lowest_price_per_mwh  highest_price_per_mwh origin_date  \\\n",
       "0    2021-09-01                 45.23                  46.32  2021-08-31   \n",
       "1    2021-09-02                 45.62                  46.29  2021-09-01   \n",
       "2    2021-09-03                 45.85                  46.40  2021-09-02   \n",
       "3    2021-09-04                 46.30                  46.80  2021-09-03   \n",
       "4    2021-09-05                 46.30                  46.58  2021-09-04   \n",
       "\n",
       "   data_block_id  \n",
       "0              1  \n",
       "1              2  \n",
       "2              3  \n",
       "3              4  \n",
       "4              5  "
      ]
     },
     "execution_count": 8,
     "metadata": {},
     "output_type": "execute_result"
    }
   ],
   "source": [
    "gas_price.head()"
   ]
  },
  {
   "cell_type": "code",
   "execution_count": 9,
   "metadata": {},
   "outputs": [
    {
     "data": {
      "text/html": [
       "<div>\n",
       "<style scoped>\n",
       "    .dataframe tbody tr th:only-of-type {\n",
       "        vertical-align: middle;\n",
       "    }\n",
       "\n",
       "    .dataframe tbody tr th {\n",
       "        vertical-align: top;\n",
       "    }\n",
       "\n",
       "    .dataframe thead th {\n",
       "        text-align: right;\n",
       "    }\n",
       "</style>\n",
       "<table border=\"1\" class=\"dataframe\">\n",
       "  <thead>\n",
       "    <tr style=\"text-align: right;\">\n",
       "      <th></th>\n",
       "      <th>datetime</th>\n",
       "      <th>temperature</th>\n",
       "      <th>dewpoint</th>\n",
       "      <th>rain</th>\n",
       "      <th>snowfall</th>\n",
       "      <th>surface_pressure</th>\n",
       "      <th>cloudcover_total</th>\n",
       "      <th>cloudcover_low</th>\n",
       "      <th>cloudcover_mid</th>\n",
       "      <th>cloudcover_high</th>\n",
       "      <th>windspeed_10m</th>\n",
       "      <th>winddirection_10m</th>\n",
       "      <th>shortwave_radiation</th>\n",
       "      <th>direct_solar_radiation</th>\n",
       "      <th>diffuse_radiation</th>\n",
       "      <th>latitude</th>\n",
       "      <th>longitude</th>\n",
       "      <th>data_block_id</th>\n",
       "    </tr>\n",
       "  </thead>\n",
       "  <tbody>\n",
       "    <tr>\n",
       "      <th>0</th>\n",
       "      <td>2021-09-01</td>\n",
       "      <td>14.2</td>\n",
       "      <td>11.6</td>\n",
       "      <td>0.0</td>\n",
       "      <td>0.0</td>\n",
       "      <td>1015.9</td>\n",
       "      <td>31</td>\n",
       "      <td>31</td>\n",
       "      <td>0</td>\n",
       "      <td>11</td>\n",
       "      <td>7.083333</td>\n",
       "      <td>8</td>\n",
       "      <td>0.0</td>\n",
       "      <td>0.0</td>\n",
       "      <td>0.0</td>\n",
       "      <td>57.6</td>\n",
       "      <td>21.7</td>\n",
       "      <td>1.0</td>\n",
       "    </tr>\n",
       "    <tr>\n",
       "      <th>1</th>\n",
       "      <td>2021-09-01</td>\n",
       "      <td>13.9</td>\n",
       "      <td>11.5</td>\n",
       "      <td>0.0</td>\n",
       "      <td>0.0</td>\n",
       "      <td>1010.7</td>\n",
       "      <td>33</td>\n",
       "      <td>37</td>\n",
       "      <td>0</td>\n",
       "      <td>0</td>\n",
       "      <td>5.111111</td>\n",
       "      <td>359</td>\n",
       "      <td>0.0</td>\n",
       "      <td>0.0</td>\n",
       "      <td>0.0</td>\n",
       "      <td>57.6</td>\n",
       "      <td>22.2</td>\n",
       "      <td>1.0</td>\n",
       "    </tr>\n",
       "    <tr>\n",
       "      <th>2</th>\n",
       "      <td>2021-09-01</td>\n",
       "      <td>14.0</td>\n",
       "      <td>12.5</td>\n",
       "      <td>0.0</td>\n",
       "      <td>0.0</td>\n",
       "      <td>1015.0</td>\n",
       "      <td>31</td>\n",
       "      <td>34</td>\n",
       "      <td>0</td>\n",
       "      <td>0</td>\n",
       "      <td>6.333333</td>\n",
       "      <td>355</td>\n",
       "      <td>0.0</td>\n",
       "      <td>0.0</td>\n",
       "      <td>0.0</td>\n",
       "      <td>57.6</td>\n",
       "      <td>22.7</td>\n",
       "      <td>1.0</td>\n",
       "    </tr>\n",
       "    <tr>\n",
       "      <th>3</th>\n",
       "      <td>2021-09-01</td>\n",
       "      <td>14.6</td>\n",
       "      <td>11.5</td>\n",
       "      <td>0.0</td>\n",
       "      <td>0.0</td>\n",
       "      <td>1017.3</td>\n",
       "      <td>0</td>\n",
       "      <td>0</td>\n",
       "      <td>0</td>\n",
       "      <td>0</td>\n",
       "      <td>8.083333</td>\n",
       "      <td>297</td>\n",
       "      <td>358.0</td>\n",
       "      <td>277.0</td>\n",
       "      <td>81.0</td>\n",
       "      <td>57.6</td>\n",
       "      <td>23.2</td>\n",
       "      <td>1.0</td>\n",
       "    </tr>\n",
       "    <tr>\n",
       "      <th>4</th>\n",
       "      <td>2021-09-01</td>\n",
       "      <td>15.7</td>\n",
       "      <td>12.9</td>\n",
       "      <td>0.0</td>\n",
       "      <td>0.0</td>\n",
       "      <td>1014.0</td>\n",
       "      <td>22</td>\n",
       "      <td>25</td>\n",
       "      <td>0</td>\n",
       "      <td>0</td>\n",
       "      <td>8.416667</td>\n",
       "      <td>5</td>\n",
       "      <td>0.0</td>\n",
       "      <td>0.0</td>\n",
       "      <td>0.0</td>\n",
       "      <td>57.6</td>\n",
       "      <td>23.7</td>\n",
       "      <td>1.0</td>\n",
       "    </tr>\n",
       "  </tbody>\n",
       "</table>\n",
       "</div>"
      ],
      "text/plain": [
       "    datetime  temperature  dewpoint  rain  snowfall  surface_pressure  \\\n",
       "0 2021-09-01         14.2      11.6   0.0       0.0            1015.9   \n",
       "1 2021-09-01         13.9      11.5   0.0       0.0            1010.7   \n",
       "2 2021-09-01         14.0      12.5   0.0       0.0            1015.0   \n",
       "3 2021-09-01         14.6      11.5   0.0       0.0            1017.3   \n",
       "4 2021-09-01         15.7      12.9   0.0       0.0            1014.0   \n",
       "\n",
       "   cloudcover_total  cloudcover_low  cloudcover_mid  cloudcover_high  \\\n",
       "0                31              31               0               11   \n",
       "1                33              37               0                0   \n",
       "2                31              34               0                0   \n",
       "3                 0               0               0                0   \n",
       "4                22              25               0                0   \n",
       "\n",
       "   windspeed_10m  winddirection_10m  shortwave_radiation  \\\n",
       "0       7.083333                  8                  0.0   \n",
       "1       5.111111                359                  0.0   \n",
       "2       6.333333                355                  0.0   \n",
       "3       8.083333                297                358.0   \n",
       "4       8.416667                  5                  0.0   \n",
       "\n",
       "   direct_solar_radiation  diffuse_radiation  latitude  longitude  \\\n",
       "0                     0.0                0.0      57.6       21.7   \n",
       "1                     0.0                0.0      57.6       22.2   \n",
       "2                     0.0                0.0      57.6       22.7   \n",
       "3                   277.0               81.0      57.6       23.2   \n",
       "4                     0.0                0.0      57.6       23.7   \n",
       "\n",
       "   data_block_id  \n",
       "0            1.0  \n",
       "1            1.0  \n",
       "2            1.0  \n",
       "3            1.0  \n",
       "4            1.0  "
      ]
     },
     "execution_count": 9,
     "metadata": {},
     "output_type": "execute_result"
    }
   ],
   "source": [
    "historic_weather.head()"
   ]
  },
  {
   "cell_type": "code",
   "execution_count": 10,
   "metadata": {},
   "outputs": [
    {
     "data": {
      "text/html": [
       "<div>\n",
       "<style scoped>\n",
       "    .dataframe tbody tr th:only-of-type {\n",
       "        vertical-align: middle;\n",
       "    }\n",
       "\n",
       "    .dataframe tbody tr th {\n",
       "        vertical-align: top;\n",
       "    }\n",
       "\n",
       "    .dataframe thead th {\n",
       "        text-align: right;\n",
       "    }\n",
       "</style>\n",
       "<table border=\"1\" class=\"dataframe\">\n",
       "  <thead>\n",
       "    <tr style=\"text-align: right;\">\n",
       "      <th></th>\n",
       "      <th>latitude</th>\n",
       "      <th>longitude</th>\n",
       "      <th>origin_datetime</th>\n",
       "      <th>hours_ahead</th>\n",
       "      <th>temperature</th>\n",
       "      <th>dewpoint</th>\n",
       "      <th>cloudcover_high</th>\n",
       "      <th>cloudcover_low</th>\n",
       "      <th>cloudcover_mid</th>\n",
       "      <th>cloudcover_total</th>\n",
       "      <th>10_metre_u_wind_component</th>\n",
       "      <th>10_metre_v_wind_component</th>\n",
       "      <th>data_block_id</th>\n",
       "      <th>forecast_datetime</th>\n",
       "      <th>direct_solar_radiation</th>\n",
       "      <th>surface_solar_radiation_downwards</th>\n",
       "      <th>snowfall</th>\n",
       "      <th>total_precipitation</th>\n",
       "    </tr>\n",
       "  </thead>\n",
       "  <tbody>\n",
       "    <tr>\n",
       "      <th>0</th>\n",
       "      <td>57.6</td>\n",
       "      <td>21.7</td>\n",
       "      <td>2021-09-01 02:00:00</td>\n",
       "      <td>1</td>\n",
       "      <td>15.655786</td>\n",
       "      <td>11.553613</td>\n",
       "      <td>0.904816</td>\n",
       "      <td>0.019714</td>\n",
       "      <td>0.000000</td>\n",
       "      <td>0.905899</td>\n",
       "      <td>-0.411328</td>\n",
       "      <td>-9.106137</td>\n",
       "      <td>1</td>\n",
       "      <td>2021-09-01 03:00:00</td>\n",
       "      <td>0.0</td>\n",
       "      <td>0.0</td>\n",
       "      <td>0.0</td>\n",
       "      <td>0.0</td>\n",
       "    </tr>\n",
       "    <tr>\n",
       "      <th>1</th>\n",
       "      <td>57.6</td>\n",
       "      <td>22.2</td>\n",
       "      <td>2021-09-01 02:00:00</td>\n",
       "      <td>1</td>\n",
       "      <td>13.003931</td>\n",
       "      <td>10.689844</td>\n",
       "      <td>0.886322</td>\n",
       "      <td>0.004456</td>\n",
       "      <td>0.000000</td>\n",
       "      <td>0.886658</td>\n",
       "      <td>0.206347</td>\n",
       "      <td>-5.355405</td>\n",
       "      <td>1</td>\n",
       "      <td>2021-09-01 03:00:00</td>\n",
       "      <td>0.0</td>\n",
       "      <td>0.0</td>\n",
       "      <td>0.0</td>\n",
       "      <td>0.0</td>\n",
       "    </tr>\n",
       "    <tr>\n",
       "      <th>2</th>\n",
       "      <td>57.6</td>\n",
       "      <td>22.7</td>\n",
       "      <td>2021-09-01 02:00:00</td>\n",
       "      <td>1</td>\n",
       "      <td>14.206567</td>\n",
       "      <td>11.671777</td>\n",
       "      <td>0.729034</td>\n",
       "      <td>0.005615</td>\n",
       "      <td>0.000000</td>\n",
       "      <td>0.730499</td>\n",
       "      <td>1.451587</td>\n",
       "      <td>-7.417905</td>\n",
       "      <td>1</td>\n",
       "      <td>2021-09-01 03:00:00</td>\n",
       "      <td>0.0</td>\n",
       "      <td>0.0</td>\n",
       "      <td>0.0</td>\n",
       "      <td>0.0</td>\n",
       "    </tr>\n",
       "    <tr>\n",
       "      <th>3</th>\n",
       "      <td>57.6</td>\n",
       "      <td>23.2</td>\n",
       "      <td>2021-09-01 02:00:00</td>\n",
       "      <td>1</td>\n",
       "      <td>14.844507</td>\n",
       "      <td>12.264917</td>\n",
       "      <td>0.336304</td>\n",
       "      <td>0.074341</td>\n",
       "      <td>0.000626</td>\n",
       "      <td>0.385468</td>\n",
       "      <td>1.090869</td>\n",
       "      <td>-9.163999</td>\n",
       "      <td>1</td>\n",
       "      <td>2021-09-01 03:00:00</td>\n",
       "      <td>0.0</td>\n",
       "      <td>0.0</td>\n",
       "      <td>0.0</td>\n",
       "      <td>0.0</td>\n",
       "    </tr>\n",
       "    <tr>\n",
       "      <th>4</th>\n",
       "      <td>57.6</td>\n",
       "      <td>23.7</td>\n",
       "      <td>2021-09-01 02:00:00</td>\n",
       "      <td>1</td>\n",
       "      <td>15.293848</td>\n",
       "      <td>12.458887</td>\n",
       "      <td>0.102875</td>\n",
       "      <td>0.088074</td>\n",
       "      <td>0.000015</td>\n",
       "      <td>0.176590</td>\n",
       "      <td>1.268481</td>\n",
       "      <td>-8.975766</td>\n",
       "      <td>1</td>\n",
       "      <td>2021-09-01 03:00:00</td>\n",
       "      <td>0.0</td>\n",
       "      <td>0.0</td>\n",
       "      <td>0.0</td>\n",
       "      <td>0.0</td>\n",
       "    </tr>\n",
       "  </tbody>\n",
       "</table>\n",
       "</div>"
      ],
      "text/plain": [
       "   latitude  longitude     origin_datetime  hours_ahead  temperature  \\\n",
       "0      57.6       21.7 2021-09-01 02:00:00            1    15.655786   \n",
       "1      57.6       22.2 2021-09-01 02:00:00            1    13.003931   \n",
       "2      57.6       22.7 2021-09-01 02:00:00            1    14.206567   \n",
       "3      57.6       23.2 2021-09-01 02:00:00            1    14.844507   \n",
       "4      57.6       23.7 2021-09-01 02:00:00            1    15.293848   \n",
       "\n",
       "    dewpoint  cloudcover_high  cloudcover_low  cloudcover_mid  \\\n",
       "0  11.553613         0.904816        0.019714        0.000000   \n",
       "1  10.689844         0.886322        0.004456        0.000000   \n",
       "2  11.671777         0.729034        0.005615        0.000000   \n",
       "3  12.264917         0.336304        0.074341        0.000626   \n",
       "4  12.458887         0.102875        0.088074        0.000015   \n",
       "\n",
       "   cloudcover_total  10_metre_u_wind_component  10_metre_v_wind_component  \\\n",
       "0          0.905899                  -0.411328                  -9.106137   \n",
       "1          0.886658                   0.206347                  -5.355405   \n",
       "2          0.730499                   1.451587                  -7.417905   \n",
       "3          0.385468                   1.090869                  -9.163999   \n",
       "4          0.176590                   1.268481                  -8.975766   \n",
       "\n",
       "   data_block_id   forecast_datetime  direct_solar_radiation  \\\n",
       "0              1 2021-09-01 03:00:00                     0.0   \n",
       "1              1 2021-09-01 03:00:00                     0.0   \n",
       "2              1 2021-09-01 03:00:00                     0.0   \n",
       "3              1 2021-09-01 03:00:00                     0.0   \n",
       "4              1 2021-09-01 03:00:00                     0.0   \n",
       "\n",
       "   surface_solar_radiation_downwards  snowfall  total_precipitation  \n",
       "0                                0.0       0.0                  0.0  \n",
       "1                                0.0       0.0                  0.0  \n",
       "2                                0.0       0.0                  0.0  \n",
       "3                                0.0       0.0                  0.0  \n",
       "4                                0.0       0.0                  0.0  "
      ]
     },
     "execution_count": 10,
     "metadata": {},
     "output_type": "execute_result"
    }
   ],
   "source": [
    "forecast_weather.head()"
   ]
  },
  {
   "cell_type": "code",
   "execution_count": 11,
   "metadata": {},
   "outputs": [
    {
     "data": {
      "text/html": [
       "<div>\n",
       "<style scoped>\n",
       "    .dataframe tbody tr th:only-of-type {\n",
       "        vertical-align: middle;\n",
       "    }\n",
       "\n",
       "    .dataframe tbody tr th {\n",
       "        vertical-align: top;\n",
       "    }\n",
       "\n",
       "    .dataframe thead th {\n",
       "        text-align: right;\n",
       "    }\n",
       "</style>\n",
       "<table border=\"1\" class=\"dataframe\">\n",
       "  <thead>\n",
       "    <tr style=\"text-align: right;\">\n",
       "      <th></th>\n",
       "      <th>forecast_date</th>\n",
       "      <th>euros_per_mwh</th>\n",
       "      <th>origin_date</th>\n",
       "      <th>data_block_id</th>\n",
       "    </tr>\n",
       "  </thead>\n",
       "  <tbody>\n",
       "    <tr>\n",
       "      <th>0</th>\n",
       "      <td>2021-09-01 00:00:00</td>\n",
       "      <td>92.51</td>\n",
       "      <td>2021-08-31 00:00:00</td>\n",
       "      <td>1</td>\n",
       "    </tr>\n",
       "    <tr>\n",
       "      <th>1</th>\n",
       "      <td>2021-09-01 01:00:00</td>\n",
       "      <td>88.90</td>\n",
       "      <td>2021-08-31 01:00:00</td>\n",
       "      <td>1</td>\n",
       "    </tr>\n",
       "    <tr>\n",
       "      <th>2</th>\n",
       "      <td>2021-09-01 02:00:00</td>\n",
       "      <td>87.35</td>\n",
       "      <td>2021-08-31 02:00:00</td>\n",
       "      <td>1</td>\n",
       "    </tr>\n",
       "    <tr>\n",
       "      <th>3</th>\n",
       "      <td>2021-09-01 03:00:00</td>\n",
       "      <td>86.88</td>\n",
       "      <td>2021-08-31 03:00:00</td>\n",
       "      <td>1</td>\n",
       "    </tr>\n",
       "    <tr>\n",
       "      <th>4</th>\n",
       "      <td>2021-09-01 04:00:00</td>\n",
       "      <td>88.43</td>\n",
       "      <td>2021-08-31 04:00:00</td>\n",
       "      <td>1</td>\n",
       "    </tr>\n",
       "  </tbody>\n",
       "</table>\n",
       "</div>"
      ],
      "text/plain": [
       "        forecast_date  euros_per_mwh         origin_date  data_block_id\n",
       "0 2021-09-01 00:00:00          92.51 2021-08-31 00:00:00              1\n",
       "1 2021-09-01 01:00:00          88.90 2021-08-31 01:00:00              1\n",
       "2 2021-09-01 02:00:00          87.35 2021-08-31 02:00:00              1\n",
       "3 2021-09-01 03:00:00          86.88 2021-08-31 03:00:00              1\n",
       "4 2021-09-01 04:00:00          88.43 2021-08-31 04:00:00              1"
      ]
     },
     "execution_count": 11,
     "metadata": {},
     "output_type": "execute_result"
    }
   ],
   "source": [
    "electricity_price.head()"
   ]
  },
  {
   "cell_type": "markdown",
   "metadata": {},
   "source": [
    "# 3. Explore individual datasets"
   ]
  },
  {
   "cell_type": "markdown",
   "metadata": {},
   "source": [
    "## 3.1 Explore train data"
   ]
  },
  {
   "cell_type": "code",
   "execution_count": 12,
   "metadata": {},
   "outputs": [
    {
     "data": {
      "text/html": [
       "<div>\n",
       "<style scoped>\n",
       "    .dataframe tbody tr th:only-of-type {\n",
       "        vertical-align: middle;\n",
       "    }\n",
       "\n",
       "    .dataframe tbody tr th {\n",
       "        vertical-align: top;\n",
       "    }\n",
       "\n",
       "    .dataframe thead th {\n",
       "        text-align: right;\n",
       "    }\n",
       "</style>\n",
       "<table border=\"1\" class=\"dataframe\">\n",
       "  <thead>\n",
       "    <tr style=\"text-align: right;\">\n",
       "      <th></th>\n",
       "      <th>county</th>\n",
       "      <th>is_business</th>\n",
       "      <th>product_type</th>\n",
       "      <th>target</th>\n",
       "      <th>is_consumption</th>\n",
       "      <th>datetime</th>\n",
       "      <th>data_block_id</th>\n",
       "      <th>row_id</th>\n",
       "      <th>prediction_unit_id</th>\n",
       "    </tr>\n",
       "  </thead>\n",
       "  <tbody>\n",
       "    <tr>\n",
       "      <th>2018347</th>\n",
       "      <td>15</td>\n",
       "      <td>1</td>\n",
       "      <td>0</td>\n",
       "      <td>197.233</td>\n",
       "      <td>1</td>\n",
       "      <td>2023-05-31 23:00:00</td>\n",
       "      <td>637</td>\n",
       "      <td>2018347</td>\n",
       "      <td>64</td>\n",
       "    </tr>\n",
       "    <tr>\n",
       "      <th>2018348</th>\n",
       "      <td>15</td>\n",
       "      <td>1</td>\n",
       "      <td>1</td>\n",
       "      <td>0.000</td>\n",
       "      <td>0</td>\n",
       "      <td>2023-05-31 23:00:00</td>\n",
       "      <td>637</td>\n",
       "      <td>2018348</td>\n",
       "      <td>59</td>\n",
       "    </tr>\n",
       "    <tr>\n",
       "      <th>2018349</th>\n",
       "      <td>15</td>\n",
       "      <td>1</td>\n",
       "      <td>1</td>\n",
       "      <td>28.404</td>\n",
       "      <td>1</td>\n",
       "      <td>2023-05-31 23:00:00</td>\n",
       "      <td>637</td>\n",
       "      <td>2018349</td>\n",
       "      <td>59</td>\n",
       "    </tr>\n",
       "    <tr>\n",
       "      <th>2018350</th>\n",
       "      <td>15</td>\n",
       "      <td>1</td>\n",
       "      <td>3</td>\n",
       "      <td>0.000</td>\n",
       "      <td>0</td>\n",
       "      <td>2023-05-31 23:00:00</td>\n",
       "      <td>637</td>\n",
       "      <td>2018350</td>\n",
       "      <td>60</td>\n",
       "    </tr>\n",
       "    <tr>\n",
       "      <th>2018351</th>\n",
       "      <td>15</td>\n",
       "      <td>1</td>\n",
       "      <td>3</td>\n",
       "      <td>196.240</td>\n",
       "      <td>1</td>\n",
       "      <td>2023-05-31 23:00:00</td>\n",
       "      <td>637</td>\n",
       "      <td>2018351</td>\n",
       "      <td>60</td>\n",
       "    </tr>\n",
       "  </tbody>\n",
       "</table>\n",
       "</div>"
      ],
      "text/plain": [
       "         county  is_business  product_type   target  is_consumption  \\\n",
       "2018347      15            1             0  197.233               1   \n",
       "2018348      15            1             1    0.000               0   \n",
       "2018349      15            1             1   28.404               1   \n",
       "2018350      15            1             3    0.000               0   \n",
       "2018351      15            1             3  196.240               1   \n",
       "\n",
       "                   datetime  data_block_id   row_id  prediction_unit_id  \n",
       "2018347 2023-05-31 23:00:00            637  2018347                  64  \n",
       "2018348 2023-05-31 23:00:00            637  2018348                  59  \n",
       "2018349 2023-05-31 23:00:00            637  2018349                  59  \n",
       "2018350 2023-05-31 23:00:00            637  2018350                  60  \n",
       "2018351 2023-05-31 23:00:00            637  2018351                  60  "
      ]
     },
     "execution_count": 12,
     "metadata": {},
     "output_type": "execute_result"
    }
   ],
   "source": [
    "train.tail()"
   ]
  },
  {
   "cell_type": "code",
   "execution_count": 13,
   "metadata": {},
   "outputs": [
    {
     "data": {
      "text/plain": [
       "(2018352, 9)"
      ]
     },
     "execution_count": 13,
     "metadata": {},
     "output_type": "execute_result"
    }
   ],
   "source": [
    "# Shape of data\n",
    "train.shape"
   ]
  },
  {
   "cell_type": "markdown",
   "metadata": {},
   "source": [
    "* We have total **2018352** records and **9** columns in the data."
   ]
  },
  {
   "cell_type": "code",
   "execution_count": 14,
   "metadata": {},
   "outputs": [
    {
     "data": {
      "text/plain": [
       "county                         int64\n",
       "is_business                    int64\n",
       "product_type                   int64\n",
       "target                       float64\n",
       "is_consumption                 int64\n",
       "datetime              datetime64[ns]\n",
       "data_block_id                  int64\n",
       "row_id                         int64\n",
       "prediction_unit_id             int64\n",
       "dtype: object"
      ]
     },
     "execution_count": 14,
     "metadata": {},
     "output_type": "execute_result"
    }
   ],
   "source": [
    "# Check all columns and there datatypes\n",
    "train.dtypes"
   ]
  },
  {
   "cell_type": "code",
   "execution_count": 15,
   "metadata": {},
   "outputs": [
    {
     "data": {
      "text/plain": [
       "county                  0\n",
       "is_business             0\n",
       "product_type            0\n",
       "target                528\n",
       "is_consumption          0\n",
       "datetime                0\n",
       "data_block_id           0\n",
       "row_id                  0\n",
       "prediction_unit_id      0\n",
       "dtype: int64"
      ]
     },
     "execution_count": 15,
     "metadata": {},
     "output_type": "execute_result"
    }
   ],
   "source": [
    "# Missing values\n",
    "train.isna().sum()"
   ]
  },
  {
   "cell_type": "markdown",
   "metadata": {},
   "source": [
    "* We have **528** missing values in the target column, let's check these values"
   ]
  },
  {
   "cell_type": "code",
   "execution_count": 16,
   "metadata": {},
   "outputs": [
    {
     "data": {
      "text/html": [
       "<div>\n",
       "<style scoped>\n",
       "    .dataframe tbody tr th:only-of-type {\n",
       "        vertical-align: middle;\n",
       "    }\n",
       "\n",
       "    .dataframe tbody tr th {\n",
       "        vertical-align: top;\n",
       "    }\n",
       "\n",
       "    .dataframe thead th {\n",
       "        text-align: right;\n",
       "    }\n",
       "</style>\n",
       "<table border=\"1\" class=\"dataframe\">\n",
       "  <thead>\n",
       "    <tr style=\"text-align: right;\">\n",
       "      <th></th>\n",
       "      <th>county</th>\n",
       "      <th>is_business</th>\n",
       "      <th>product_type</th>\n",
       "      <th>target</th>\n",
       "      <th>is_consumption</th>\n",
       "      <th>datetime</th>\n",
       "      <th>data_block_id</th>\n",
       "      <th>row_id</th>\n",
       "      <th>prediction_unit_id</th>\n",
       "    </tr>\n",
       "  </thead>\n",
       "  <tbody>\n",
       "    <tr>\n",
       "      <th>178938</th>\n",
       "      <td>0</td>\n",
       "      <td>0</td>\n",
       "      <td>1</td>\n",
       "      <td>NaN</td>\n",
       "      <td>0</td>\n",
       "      <td>2021-10-31 03:00:00</td>\n",
       "      <td>60</td>\n",
       "      <td>178938</td>\n",
       "      <td>0</td>\n",
       "    </tr>\n",
       "    <tr>\n",
       "      <th>178939</th>\n",
       "      <td>0</td>\n",
       "      <td>0</td>\n",
       "      <td>1</td>\n",
       "      <td>NaN</td>\n",
       "      <td>1</td>\n",
       "      <td>2021-10-31 03:00:00</td>\n",
       "      <td>60</td>\n",
       "      <td>178939</td>\n",
       "      <td>0</td>\n",
       "    </tr>\n",
       "    <tr>\n",
       "      <th>178940</th>\n",
       "      <td>0</td>\n",
       "      <td>0</td>\n",
       "      <td>2</td>\n",
       "      <td>NaN</td>\n",
       "      <td>0</td>\n",
       "      <td>2021-10-31 03:00:00</td>\n",
       "      <td>60</td>\n",
       "      <td>178940</td>\n",
       "      <td>1</td>\n",
       "    </tr>\n",
       "    <tr>\n",
       "      <th>178941</th>\n",
       "      <td>0</td>\n",
       "      <td>0</td>\n",
       "      <td>2</td>\n",
       "      <td>NaN</td>\n",
       "      <td>1</td>\n",
       "      <td>2021-10-31 03:00:00</td>\n",
       "      <td>60</td>\n",
       "      <td>178941</td>\n",
       "      <td>1</td>\n",
       "    </tr>\n",
       "    <tr>\n",
       "      <th>178942</th>\n",
       "      <td>0</td>\n",
       "      <td>0</td>\n",
       "      <td>3</td>\n",
       "      <td>NaN</td>\n",
       "      <td>0</td>\n",
       "      <td>2021-10-31 03:00:00</td>\n",
       "      <td>60</td>\n",
       "      <td>178942</td>\n",
       "      <td>2</td>\n",
       "    </tr>\n",
       "    <tr>\n",
       "      <th>...</th>\n",
       "      <td>...</td>\n",
       "      <td>...</td>\n",
       "      <td>...</td>\n",
       "      <td>...</td>\n",
       "      <td>...</td>\n",
       "      <td>...</td>\n",
       "      <td>...</td>\n",
       "      <td>...</td>\n",
       "      <td>...</td>\n",
       "    </tr>\n",
       "    <tr>\n",
       "      <th>1806379</th>\n",
       "      <td>15</td>\n",
       "      <td>1</td>\n",
       "      <td>0</td>\n",
       "      <td>NaN</td>\n",
       "      <td>1</td>\n",
       "      <td>2023-03-26 03:00:00</td>\n",
       "      <td>571</td>\n",
       "      <td>1806379</td>\n",
       "      <td>64</td>\n",
       "    </tr>\n",
       "    <tr>\n",
       "      <th>1806380</th>\n",
       "      <td>15</td>\n",
       "      <td>1</td>\n",
       "      <td>1</td>\n",
       "      <td>NaN</td>\n",
       "      <td>0</td>\n",
       "      <td>2023-03-26 03:00:00</td>\n",
       "      <td>571</td>\n",
       "      <td>1806380</td>\n",
       "      <td>59</td>\n",
       "    </tr>\n",
       "    <tr>\n",
       "      <th>1806381</th>\n",
       "      <td>15</td>\n",
       "      <td>1</td>\n",
       "      <td>1</td>\n",
       "      <td>NaN</td>\n",
       "      <td>1</td>\n",
       "      <td>2023-03-26 03:00:00</td>\n",
       "      <td>571</td>\n",
       "      <td>1806381</td>\n",
       "      <td>59</td>\n",
       "    </tr>\n",
       "    <tr>\n",
       "      <th>1806382</th>\n",
       "      <td>15</td>\n",
       "      <td>1</td>\n",
       "      <td>3</td>\n",
       "      <td>NaN</td>\n",
       "      <td>0</td>\n",
       "      <td>2023-03-26 03:00:00</td>\n",
       "      <td>571</td>\n",
       "      <td>1806382</td>\n",
       "      <td>60</td>\n",
       "    </tr>\n",
       "    <tr>\n",
       "      <th>1806383</th>\n",
       "      <td>15</td>\n",
       "      <td>1</td>\n",
       "      <td>3</td>\n",
       "      <td>NaN</td>\n",
       "      <td>1</td>\n",
       "      <td>2023-03-26 03:00:00</td>\n",
       "      <td>571</td>\n",
       "      <td>1806383</td>\n",
       "      <td>60</td>\n",
       "    </tr>\n",
       "  </tbody>\n",
       "</table>\n",
       "<p>528 rows × 9 columns</p>\n",
       "</div>"
      ],
      "text/plain": [
       "         county  is_business  product_type  target  is_consumption  \\\n",
       "178938        0            0             1     NaN               0   \n",
       "178939        0            0             1     NaN               1   \n",
       "178940        0            0             2     NaN               0   \n",
       "178941        0            0             2     NaN               1   \n",
       "178942        0            0             3     NaN               0   \n",
       "...         ...          ...           ...     ...             ...   \n",
       "1806379      15            1             0     NaN               1   \n",
       "1806380      15            1             1     NaN               0   \n",
       "1806381      15            1             1     NaN               1   \n",
       "1806382      15            1             3     NaN               0   \n",
       "1806383      15            1             3     NaN               1   \n",
       "\n",
       "                   datetime  data_block_id   row_id  prediction_unit_id  \n",
       "178938  2021-10-31 03:00:00             60   178938                   0  \n",
       "178939  2021-10-31 03:00:00             60   178939                   0  \n",
       "178940  2021-10-31 03:00:00             60   178940                   1  \n",
       "178941  2021-10-31 03:00:00             60   178941                   1  \n",
       "178942  2021-10-31 03:00:00             60   178942                   2  \n",
       "...                     ...            ...      ...                 ...  \n",
       "1806379 2023-03-26 03:00:00            571  1806379                  64  \n",
       "1806380 2023-03-26 03:00:00            571  1806380                  59  \n",
       "1806381 2023-03-26 03:00:00            571  1806381                  59  \n",
       "1806382 2023-03-26 03:00:00            571  1806382                  60  \n",
       "1806383 2023-03-26 03:00:00            571  1806383                  60  \n",
       "\n",
       "[528 rows x 9 columns]"
      ]
     },
     "execution_count": 16,
     "metadata": {},
     "output_type": "execute_result"
    }
   ],
   "source": [
    "train[train.target.isna()]"
   ]
  },
  {
   "cell_type": "code",
   "execution_count": 17,
   "metadata": {},
   "outputs": [
    {
     "data": {
      "text/plain": [
       "2022-10-30 03:00:00    136\n",
       "2022-03-27 03:00:00    134\n",
       "2023-03-26 03:00:00    132\n",
       "2021-10-31 03:00:00    126\n",
       "Name: datetime, dtype: int64"
      ]
     },
     "execution_count": 17,
     "metadata": {},
     "output_type": "execute_result"
    }
   ],
   "source": [
    "train[train.target.isna()][\"datetime\"].value_counts()"
   ]
  },
  {
   "cell_type": "markdown",
   "metadata": {},
   "source": [
    "* We can see the target is missing for the hour **03:00:00**. We need to handle these values. Let's impute these values using ffill."
   ]
  },
  {
   "cell_type": "code",
   "execution_count": 18,
   "metadata": {},
   "outputs": [
    {
     "data": {
      "text/plain": [
       "dtype('<M8[ns]')"
      ]
     },
     "execution_count": 18,
     "metadata": {},
     "output_type": "execute_result"
    }
   ],
   "source": [
    "train.datetime.dtype"
   ]
  },
  {
   "cell_type": "code",
   "execution_count": 19,
   "metadata": {},
   "outputs": [],
   "source": [
    "train[\"date\"] = pd.to_datetime(train[\"datetime\"].dt.date)\n",
    "train[\"time\"] = train[\"datetime\"].dt.time"
   ]
  },
  {
   "cell_type": "code",
   "execution_count": 20,
   "metadata": {},
   "outputs": [
    {
     "data": {
      "text/plain": [
       "False    2018352\n",
       "dtype: int64"
      ]
     },
     "execution_count": 20,
     "metadata": {},
     "output_type": "execute_result"
    }
   ],
   "source": [
    "train[[\"county\", \"is_business\", \"product_type\", \"is_consumption\", \"time\", \"date\"]].duplicated().value_counts()"
   ]
  },
  {
   "cell_type": "code",
   "execution_count": 21,
   "metadata": {},
   "outputs": [],
   "source": [
    "missing_train = train.groupby([\"county\", \"is_business\", \"product_type\", \"is_consumption\", \"time\", \"date\"])[\"target\"].mean().reset_index().ffill()"
   ]
  },
  {
   "cell_type": "code",
   "execution_count": 22,
   "metadata": {},
   "outputs": [
    {
     "data": {
      "text/html": [
       "<div>\n",
       "<style scoped>\n",
       "    .dataframe tbody tr th:only-of-type {\n",
       "        vertical-align: middle;\n",
       "    }\n",
       "\n",
       "    .dataframe tbody tr th {\n",
       "        vertical-align: top;\n",
       "    }\n",
       "\n",
       "    .dataframe thead th {\n",
       "        text-align: right;\n",
       "    }\n",
       "</style>\n",
       "<table border=\"1\" class=\"dataframe\">\n",
       "  <thead>\n",
       "    <tr style=\"text-align: right;\">\n",
       "      <th></th>\n",
       "      <th>county</th>\n",
       "      <th>is_business</th>\n",
       "      <th>product_type</th>\n",
       "      <th>is_consumption</th>\n",
       "      <th>time</th>\n",
       "      <th>date</th>\n",
       "      <th>target</th>\n",
       "    </tr>\n",
       "  </thead>\n",
       "  <tbody>\n",
       "    <tr>\n",
       "      <th>2018347</th>\n",
       "      <td>15</td>\n",
       "      <td>1</td>\n",
       "      <td>3</td>\n",
       "      <td>1</td>\n",
       "      <td>23:00:00</td>\n",
       "      <td>2023-05-27</td>\n",
       "      <td>183.756</td>\n",
       "    </tr>\n",
       "    <tr>\n",
       "      <th>2018348</th>\n",
       "      <td>15</td>\n",
       "      <td>1</td>\n",
       "      <td>3</td>\n",
       "      <td>1</td>\n",
       "      <td>23:00:00</td>\n",
       "      <td>2023-05-28</td>\n",
       "      <td>161.650</td>\n",
       "    </tr>\n",
       "    <tr>\n",
       "      <th>2018349</th>\n",
       "      <td>15</td>\n",
       "      <td>1</td>\n",
       "      <td>3</td>\n",
       "      <td>1</td>\n",
       "      <td>23:00:00</td>\n",
       "      <td>2023-05-29</td>\n",
       "      <td>177.056</td>\n",
       "    </tr>\n",
       "    <tr>\n",
       "      <th>2018350</th>\n",
       "      <td>15</td>\n",
       "      <td>1</td>\n",
       "      <td>3</td>\n",
       "      <td>1</td>\n",
       "      <td>23:00:00</td>\n",
       "      <td>2023-05-30</td>\n",
       "      <td>200.718</td>\n",
       "    </tr>\n",
       "    <tr>\n",
       "      <th>2018351</th>\n",
       "      <td>15</td>\n",
       "      <td>1</td>\n",
       "      <td>3</td>\n",
       "      <td>1</td>\n",
       "      <td>23:00:00</td>\n",
       "      <td>2023-05-31</td>\n",
       "      <td>196.240</td>\n",
       "    </tr>\n",
       "  </tbody>\n",
       "</table>\n",
       "</div>"
      ],
      "text/plain": [
       "         county  is_business  product_type  is_consumption      time  \\\n",
       "2018347      15            1             3               1  23:00:00   \n",
       "2018348      15            1             3               1  23:00:00   \n",
       "2018349      15            1             3               1  23:00:00   \n",
       "2018350      15            1             3               1  23:00:00   \n",
       "2018351      15            1             3               1  23:00:00   \n",
       "\n",
       "              date   target  \n",
       "2018347 2023-05-27  183.756  \n",
       "2018348 2023-05-28  161.650  \n",
       "2018349 2023-05-29  177.056  \n",
       "2018350 2023-05-30  200.718  \n",
       "2018351 2023-05-31  196.240  "
      ]
     },
     "execution_count": 22,
     "metadata": {},
     "output_type": "execute_result"
    }
   ],
   "source": [
    "missing_train.tail()"
   ]
  },
  {
   "cell_type": "code",
   "execution_count": 23,
   "metadata": {},
   "outputs": [
    {
     "data": {
      "text/plain": [
       "(2018352, 11)"
      ]
     },
     "execution_count": 23,
     "metadata": {},
     "output_type": "execute_result"
    }
   ],
   "source": [
    "train.drop(columns=[\"target\"], inplace=True)\n",
    "train = train.merge(\n",
    "    missing_train,\n",
    "    on=[\"county\", \"is_business\", \"product_type\", \"is_consumption\", \"time\", \"date\"],\n",
    "    suffixes=(\"\", \"_train\")\n",
    ")\n",
    "train.shape"
   ]
  },
  {
   "cell_type": "code",
   "execution_count": 24,
   "metadata": {},
   "outputs": [
    {
     "data": {
      "text/plain": [
       "county                0\n",
       "is_business           0\n",
       "product_type          0\n",
       "is_consumption        0\n",
       "datetime              0\n",
       "data_block_id         0\n",
       "row_id                0\n",
       "prediction_unit_id    0\n",
       "date                  0\n",
       "time                  0\n",
       "target                0\n",
       "dtype: int64"
      ]
     },
     "execution_count": 24,
     "metadata": {},
     "output_type": "execute_result"
    }
   ],
   "source": [
    "train.isna().sum()"
   ]
  },
  {
   "cell_type": "markdown",
   "metadata": {},
   "source": [
    "* No missing data anymore."
   ]
  },
  {
   "cell_type": "code",
   "execution_count": 25,
   "metadata": {},
   "outputs": [
    {
     "data": {
      "text/plain": [
       "Series([], Name: datetime, dtype: int64)"
      ]
     },
     "execution_count": 25,
     "metadata": {},
     "output_type": "execute_result"
    }
   ],
   "source": [
    "train[train.target.isna()][\"datetime\"].value_counts()"
   ]
  },
  {
   "cell_type": "code",
   "execution_count": 26,
   "metadata": {},
   "outputs": [
    {
     "name": "stdout",
     "output_type": "stream",
     "text": [
      "2021-09-01 00:00:00 2023-05-31 00:00:00\n"
     ]
    }
   ],
   "source": [
    "# Check the date present\n",
    "train_start_date = train.date.min()\n",
    "train_end_date = train.date.max()\n",
    "print(train_start_date, train_end_date)\n",
    "# Create a date range\n",
    "train_date_range = pd.date_range(start=train_start_date, end=train_end_date, freq='D')"
   ]
  },
  {
   "cell_type": "markdown",
   "metadata": {},
   "source": [
    "* We have data from **'2021-09-01 00:00:00** to **2023-05-31 23:00:00**"
   ]
  },
  {
   "cell_type": "code",
   "execution_count": 27,
   "metadata": {},
   "outputs": [
    {
     "name": "stdout",
     "output_type": "stream",
     "text": [
      "Missing Dates:\n",
      "DatetimeIndex([], dtype='datetime64[ns]', freq='D')\n"
     ]
    }
   ],
   "source": [
    "# Check for missing dates\n",
    "missing_dates = train_date_range[~train_date_range.isin(train.date)]\n",
    "\n",
    "# Print the missing dates\n",
    "print(\"Missing Dates:\")\n",
    "print(missing_dates)"
   ]
  },
  {
   "cell_type": "markdown",
   "metadata": {},
   "source": [
    "* Nice we have no missing dates. Let's check for missing time as well as we have hourly data."
   ]
  },
  {
   "cell_type": "code",
   "execution_count": 28,
   "metadata": {},
   "outputs": [
    {
     "name": "stdout",
     "output_type": "stream",
     "text": [
      "2021-09-01 00:00:00 2023-05-31 23:00:00\n"
     ]
    }
   ],
   "source": [
    "# Check the datetime present\n",
    "start_datetime = train.datetime.min()\n",
    "end_datetime = train.datetime.max()\n",
    "print(start_datetime, end_datetime)\n",
    "# Create a date range\n",
    "datetime_range = pd.date_range(start=start_datetime, end=end_datetime, freq='H')"
   ]
  },
  {
   "cell_type": "code",
   "execution_count": 29,
   "metadata": {},
   "outputs": [
    {
     "name": "stdout",
     "output_type": "stream",
     "text": [
      "Missing Dates:\n",
      "DatetimeIndex([], dtype='datetime64[ns]', freq='H')\n"
     ]
    }
   ],
   "source": [
    "# Check for missing dates\n",
    "missing_datetimes = datetime_range[~datetime_range.isin(train.datetime)]\n",
    "\n",
    "# Print the missing dates\n",
    "print(\"Missing Dates:\")\n",
    "print(missing_datetimes)"
   ]
  },
  {
   "cell_type": "markdown",
   "metadata": {},
   "source": [
    "* Great!! No time is missing as well."
   ]
  },
  {
   "cell_type": "code",
   "execution_count": 30,
   "metadata": {},
   "outputs": [
    {
     "data": {
      "text/plain": [
       "0     212928\n",
       "1      91872\n",
       "2     115200\n",
       "3     122496\n",
       "4     147264\n",
       "5     151632\n",
       "6      30624\n",
       "7     173088\n",
       "8      91872\n",
       "9     122496\n",
       "10    134640\n",
       "11    198000\n",
       "12     30624\n",
       "13    121056\n",
       "14    125808\n",
       "15    148752\n",
       "Name: county, dtype: int64"
      ]
     },
     "execution_count": 30,
     "metadata": {},
     "output_type": "execute_result"
    }
   ],
   "source": [
    "# Counties\n",
    "train.county.value_counts().sort_index()"
   ]
  },
  {
   "cell_type": "markdown",
   "metadata": {},
   "source": [
    "## 3.2 Explore the client data"
   ]
  },
  {
   "cell_type": "code",
   "execution_count": 31,
   "metadata": {},
   "outputs": [
    {
     "data": {
      "text/plain": [
       "(41919, 7)"
      ]
     },
     "execution_count": 31,
     "metadata": {},
     "output_type": "execute_result"
    }
   ],
   "source": [
    "# Shape\n",
    "client.shape"
   ]
  },
  {
   "cell_type": "markdown",
   "metadata": {},
   "source": [
    "* We have total **41919** reccords and **7** columns in the client data."
   ]
  },
  {
   "cell_type": "code",
   "execution_count": 32,
   "metadata": {},
   "outputs": [
    {
     "data": {
      "text/plain": [
       "product_type                   int64\n",
       "county                         int64\n",
       "eic_count                      int64\n",
       "installed_capacity           float64\n",
       "is_business                    int64\n",
       "date                  datetime64[ns]\n",
       "data_block_id                  int64\n",
       "dtype: object"
      ]
     },
     "execution_count": 32,
     "metadata": {},
     "output_type": "execute_result"
    }
   ],
   "source": [
    "# Chec kall columns and there data types\n",
    "client.dtypes"
   ]
  },
  {
   "cell_type": "code",
   "execution_count": 33,
   "metadata": {},
   "outputs": [
    {
     "data": {
      "text/plain": [
       "product_type          0\n",
       "county                0\n",
       "eic_count             0\n",
       "installed_capacity    0\n",
       "is_business           0\n",
       "date                  0\n",
       "data_block_id         0\n",
       "dtype: int64"
      ]
     },
     "execution_count": 33,
     "metadata": {},
     "output_type": "execute_result"
    }
   ],
   "source": [
    "# Missing values\n",
    "client.isna().sum()"
   ]
  },
  {
   "cell_type": "markdown",
   "metadata": {},
   "source": [
    "* No missing values in the client data."
   ]
  },
  {
   "cell_type": "code",
   "execution_count": 34,
   "metadata": {},
   "outputs": [
    {
     "name": "stdout",
     "output_type": "stream",
     "text": [
      "2021-09-01 00:00:00 2023-05-29 00:00:00\n"
     ]
    }
   ],
   "source": [
    "# Define the start and end dates based on your data\n",
    "start_date = client.date.min()\n",
    "end_date = client.date.max()\n",
    "print(start_date, end_date)\n",
    "# Create a date range\n",
    "date_range = pd.date_range(start=start_date, end=end_date, freq='D')"
   ]
  },
  {
   "cell_type": "markdown",
   "metadata": {},
   "source": [
    "* We have client data till **2023-05-29**, we will impute the values for missing dates."
   ]
  },
  {
   "cell_type": "code",
   "execution_count": 35,
   "metadata": {},
   "outputs": [
    {
     "name": "stdout",
     "output_type": "stream",
     "text": [
      "Missing Dates:\n",
      "DatetimeIndex([], dtype='datetime64[ns]', freq='D')\n"
     ]
    }
   ],
   "source": [
    "# Check for missing dates\n",
    "missing_dates = date_range[~date_range.isin(client.date)]\n",
    "\n",
    "# Print the missing dates\n",
    "print(\"Missing Dates:\")\n",
    "print(missing_dates)"
   ]
  },
  {
   "cell_type": "markdown",
   "metadata": {},
   "source": [
    "* No missing dates in client data as well."
   ]
  },
  {
   "cell_type": "markdown",
   "metadata": {},
   "source": [
    "## 3.3 Explore weather_map data"
   ]
  },
  {
   "cell_type": "code",
   "execution_count": 36,
   "metadata": {},
   "outputs": [
    {
     "data": {
      "text/plain": [
       "(112, 4)"
      ]
     },
     "execution_count": 36,
     "metadata": {},
     "output_type": "execute_result"
    }
   ],
   "source": [
    "# Shape\n",
    "weather_map.shape"
   ]
  },
  {
   "cell_type": "code",
   "execution_count": 37,
   "metadata": {},
   "outputs": [
    {
     "data": {
      "text/plain": [
       "county_name     object\n",
       "longitude      float64\n",
       "latitude       float64\n",
       "county         float64\n",
       "dtype: object"
      ]
     },
     "execution_count": 37,
     "metadata": {},
     "output_type": "execute_result"
    }
   ],
   "source": [
    "# Check all columns and there types\n",
    "weather_map.dtypes"
   ]
  },
  {
   "cell_type": "code",
   "execution_count": 38,
   "metadata": {},
   "outputs": [
    {
     "data": {
      "text/plain": [
       "county_name    63\n",
       "longitude       0\n",
       "latitude        0\n",
       "county         63\n",
       "dtype: int64"
      ]
     },
     "execution_count": 38,
     "metadata": {},
     "output_type": "execute_result"
    }
   ],
   "source": [
    "# Missing values\n",
    "weather_map.isna().sum()"
   ]
  },
  {
   "cell_type": "code",
   "execution_count": 39,
   "metadata": {},
   "outputs": [
    {
     "data": {
      "text/plain": [
       "county  county_name  \n",
       "0.0     Harjumaa         6\n",
       "1.0     Hiiumaa          1\n",
       "2.0     Ida-Virumaa      4\n",
       "3.0     Järvamaa         3\n",
       "4.0     Jõgevamaa        3\n",
       "5.0     Lääne-Virumaa    4\n",
       "6.0     Läänemaa         2\n",
       "7.0     Pärnumaa         5\n",
       "8.0     Põlvamaa         1\n",
       "9.0     Raplamaa         3\n",
       "10.0    Saaremaa         4\n",
       "11.0    Tartumaa         4\n",
       "13.0    Valgamaa         1\n",
       "14.0    Viljandimaa      3\n",
       "15.0    Võrumaa          5\n",
       "dtype: int64"
      ]
     },
     "execution_count": 39,
     "metadata": {},
     "output_type": "execute_result"
    }
   ],
   "source": [
    "weather_map[[\"county\", \"county_name\"]].value_counts().sort_index()"
   ]
  },
  {
   "cell_type": "code",
   "execution_count": 40,
   "metadata": {},
   "outputs": [
    {
     "data": {
      "text/plain": [
       "county_name    63\n",
       "longitude       0\n",
       "latitude        0\n",
       "county         63\n",
       "dtype: int64"
      ]
     },
     "execution_count": 40,
     "metadata": {},
     "output_type": "execute_result"
    }
   ],
   "source": [
    "weather_map.isna().sum()"
   ]
  },
  {
   "cell_type": "code",
   "execution_count": 41,
   "metadata": {},
   "outputs": [
    {
     "data": {
      "text/html": [
       "<div>\n",
       "<style scoped>\n",
       "    .dataframe tbody tr th:only-of-type {\n",
       "        vertical-align: middle;\n",
       "    }\n",
       "\n",
       "    .dataframe tbody tr th {\n",
       "        vertical-align: top;\n",
       "    }\n",
       "\n",
       "    .dataframe thead th {\n",
       "        text-align: right;\n",
       "    }\n",
       "</style>\n",
       "<table border=\"1\" class=\"dataframe\">\n",
       "  <thead>\n",
       "    <tr style=\"text-align: right;\">\n",
       "      <th></th>\n",
       "      <th>county_name</th>\n",
       "      <th>longitude</th>\n",
       "      <th>latitude</th>\n",
       "      <th>county</th>\n",
       "    </tr>\n",
       "  </thead>\n",
       "  <tbody>\n",
       "    <tr>\n",
       "      <th>0</th>\n",
       "      <td>NaN</td>\n",
       "      <td>21.7</td>\n",
       "      <td>57.6</td>\n",
       "      <td>NaN</td>\n",
       "    </tr>\n",
       "    <tr>\n",
       "      <th>1</th>\n",
       "      <td>NaN</td>\n",
       "      <td>21.7</td>\n",
       "      <td>57.9</td>\n",
       "      <td>NaN</td>\n",
       "    </tr>\n",
       "    <tr>\n",
       "      <th>2</th>\n",
       "      <td>NaN</td>\n",
       "      <td>21.7</td>\n",
       "      <td>58.2</td>\n",
       "      <td>NaN</td>\n",
       "    </tr>\n",
       "    <tr>\n",
       "      <th>3</th>\n",
       "      <td>NaN</td>\n",
       "      <td>21.7</td>\n",
       "      <td>58.5</td>\n",
       "      <td>NaN</td>\n",
       "    </tr>\n",
       "    <tr>\n",
       "      <th>4</th>\n",
       "      <td>NaN</td>\n",
       "      <td>21.7</td>\n",
       "      <td>58.8</td>\n",
       "      <td>NaN</td>\n",
       "    </tr>\n",
       "    <tr>\n",
       "      <th>...</th>\n",
       "      <td>...</td>\n",
       "      <td>...</td>\n",
       "      <td>...</td>\n",
       "      <td>...</td>\n",
       "    </tr>\n",
       "    <tr>\n",
       "      <th>107</th>\n",
       "      <td>NaN</td>\n",
       "      <td>28.2</td>\n",
       "      <td>58.5</td>\n",
       "      <td>NaN</td>\n",
       "    </tr>\n",
       "    <tr>\n",
       "      <th>108</th>\n",
       "      <td>NaN</td>\n",
       "      <td>28.2</td>\n",
       "      <td>58.8</td>\n",
       "      <td>NaN</td>\n",
       "    </tr>\n",
       "    <tr>\n",
       "      <th>109</th>\n",
       "      <td>NaN</td>\n",
       "      <td>28.2</td>\n",
       "      <td>59.1</td>\n",
       "      <td>NaN</td>\n",
       "    </tr>\n",
       "    <tr>\n",
       "      <th>110</th>\n",
       "      <td>NaN</td>\n",
       "      <td>28.2</td>\n",
       "      <td>59.4</td>\n",
       "      <td>NaN</td>\n",
       "    </tr>\n",
       "    <tr>\n",
       "      <th>111</th>\n",
       "      <td>NaN</td>\n",
       "      <td>28.2</td>\n",
       "      <td>59.7</td>\n",
       "      <td>NaN</td>\n",
       "    </tr>\n",
       "  </tbody>\n",
       "</table>\n",
       "<p>63 rows × 4 columns</p>\n",
       "</div>"
      ],
      "text/plain": [
       "    county_name  longitude  latitude  county\n",
       "0           NaN       21.7      57.6     NaN\n",
       "1           NaN       21.7      57.9     NaN\n",
       "2           NaN       21.7      58.2     NaN\n",
       "3           NaN       21.7      58.5     NaN\n",
       "4           NaN       21.7      58.8     NaN\n",
       "..          ...        ...       ...     ...\n",
       "107         NaN       28.2      58.5     NaN\n",
       "108         NaN       28.2      58.8     NaN\n",
       "109         NaN       28.2      59.1     NaN\n",
       "110         NaN       28.2      59.4     NaN\n",
       "111         NaN       28.2      59.7     NaN\n",
       "\n",
       "[63 rows x 4 columns]"
      ]
     },
     "execution_count": 41,
     "metadata": {},
     "output_type": "execute_result"
    }
   ],
   "source": [
    "weather_map[weather_map.county.isna()]"
   ]
  },
  {
   "cell_type": "markdown",
   "metadata": {},
   "source": [
    "* County **12 - UNKOWN** is missing."
   ]
  },
  {
   "cell_type": "code",
   "execution_count": 42,
   "metadata": {},
   "outputs": [],
   "source": [
    "weather_map.county = weather_map.county.fillna(12)\n",
    "weather_map.county_name = weather_map.county_name.fillna('UNKOWN')\n",
    "weather_map.county = weather_map.county.astype(\"int\")"
   ]
  },
  {
   "cell_type": "code",
   "execution_count": 43,
   "metadata": {},
   "outputs": [
    {
     "data": {
      "text/plain": [
       "0"
      ]
     },
     "execution_count": 43,
     "metadata": {},
     "output_type": "execute_result"
    }
   ],
   "source": [
    "weather_map.county.isna().sum()"
   ]
  },
  {
   "cell_type": "markdown",
   "metadata": {},
   "source": [
    "## 3.4 Explore gas_price data"
   ]
  },
  {
   "cell_type": "code",
   "execution_count": 44,
   "metadata": {},
   "outputs": [
    {
     "data": {
      "text/plain": [
       "(637, 5)"
      ]
     },
     "execution_count": 44,
     "metadata": {},
     "output_type": "execute_result"
    }
   ],
   "source": [
    "# Shape\n",
    "gas_price.shape"
   ]
  },
  {
   "cell_type": "code",
   "execution_count": 45,
   "metadata": {},
   "outputs": [
    {
     "data": {
      "text/plain": [
       "forecast_date            datetime64[ns]\n",
       "lowest_price_per_mwh            float64\n",
       "highest_price_per_mwh           float64\n",
       "origin_date              datetime64[ns]\n",
       "data_block_id                     int64\n",
       "dtype: object"
      ]
     },
     "execution_count": 45,
     "metadata": {},
     "output_type": "execute_result"
    }
   ],
   "source": [
    "# Columns and data types\n",
    "gas_price.dtypes"
   ]
  },
  {
   "cell_type": "code",
   "execution_count": 46,
   "metadata": {},
   "outputs": [
    {
     "data": {
      "text/plain": [
       "forecast_date            0\n",
       "lowest_price_per_mwh     0\n",
       "highest_price_per_mwh    0\n",
       "origin_date              0\n",
       "data_block_id            0\n",
       "dtype: int64"
      ]
     },
     "execution_count": 46,
     "metadata": {},
     "output_type": "execute_result"
    }
   ],
   "source": [
    "# Missing values\n",
    "gas_price.isna().sum()"
   ]
  },
  {
   "cell_type": "code",
   "execution_count": 47,
   "metadata": {},
   "outputs": [
    {
     "name": "stdout",
     "output_type": "stream",
     "text": [
      "2021-09-01 00:00:00 2023-05-30 00:00:00\n"
     ]
    }
   ],
   "source": [
    "# Dates for which gas price is available\n",
    "start_date = gas_price.forecast_date.min()\n",
    "end_date = gas_price.forecast_date.max()\n",
    "print(start_date, end_date)"
   ]
  },
  {
   "cell_type": "markdown",
   "metadata": {},
   "source": [
    "*  gas prices are not available for **2023-05-31**. WE will impute them using fill forward method."
   ]
  },
  {
   "cell_type": "markdown",
   "metadata": {},
   "source": [
    "## 3.5 Explore historic_weather data"
   ]
  },
  {
   "cell_type": "code",
   "execution_count": 48,
   "metadata": {},
   "outputs": [
    {
     "data": {
      "text/plain": [
       "(1710802, 18)"
      ]
     },
     "execution_count": 48,
     "metadata": {},
     "output_type": "execute_result"
    }
   ],
   "source": [
    "# Shape\n",
    "historic_weather.shape"
   ]
  },
  {
   "cell_type": "code",
   "execution_count": 49,
   "metadata": {},
   "outputs": [
    {
     "data": {
      "text/plain": [
       "datetime                  datetime64[ns]\n",
       "temperature                      float64\n",
       "dewpoint                         float64\n",
       "rain                             float64\n",
       "snowfall                         float64\n",
       "surface_pressure                 float64\n",
       "cloudcover_total                   int64\n",
       "cloudcover_low                     int64\n",
       "cloudcover_mid                     int64\n",
       "cloudcover_high                    int64\n",
       "windspeed_10m                    float64\n",
       "winddirection_10m                  int64\n",
       "shortwave_radiation              float64\n",
       "direct_solar_radiation           float64\n",
       "diffuse_radiation                float64\n",
       "latitude                         float64\n",
       "longitude                        float64\n",
       "data_block_id                    float64\n",
       "dtype: object"
      ]
     },
     "execution_count": 49,
     "metadata": {},
     "output_type": "execute_result"
    }
   ],
   "source": [
    "# Columns and datatypes\n",
    "historic_weather.dtypes"
   ]
  },
  {
   "cell_type": "code",
   "execution_count": 50,
   "metadata": {},
   "outputs": [
    {
     "data": {
      "text/plain": [
       "datetime                  0\n",
       "temperature               0\n",
       "dewpoint                  0\n",
       "rain                      0\n",
       "snowfall                  0\n",
       "surface_pressure          0\n",
       "cloudcover_total          0\n",
       "cloudcover_low            0\n",
       "cloudcover_mid            0\n",
       "cloudcover_high           0\n",
       "windspeed_10m             0\n",
       "winddirection_10m         0\n",
       "shortwave_radiation       0\n",
       "direct_solar_radiation    0\n",
       "diffuse_radiation         0\n",
       "latitude                  0\n",
       "longitude                 0\n",
       "data_block_id             0\n",
       "dtype: int64"
      ]
     },
     "execution_count": 50,
     "metadata": {},
     "output_type": "execute_result"
    }
   ],
   "source": [
    "# Missing values\n",
    "historic_weather.isna().sum()"
   ]
  },
  {
   "cell_type": "code",
   "execution_count": 51,
   "metadata": {},
   "outputs": [
    {
     "name": "stdout",
     "output_type": "stream",
     "text": [
      "2021-09-01 00:00:00 2023-05-30 10:00:00\n"
     ]
    }
   ],
   "source": [
    "# Dates for which historic weather data is available\n",
    "start_date = historic_weather.datetime.min()\n",
    "end_date = historic_weather.datetime.max()\n",
    "print(start_date, end_date)"
   ]
  },
  {
   "cell_type": "markdown",
   "metadata": {},
   "source": [
    "*  historic weather is not available for **2023-05-31**. We can see if we can get that from the frecast data."
   ]
  },
  {
   "cell_type": "markdown",
   "metadata": {},
   "source": [
    "## 3.6 Explore forecast_weather data"
   ]
  },
  {
   "cell_type": "code",
   "execution_count": 52,
   "metadata": {},
   "outputs": [
    {
     "data": {
      "text/plain": [
       "(3424512, 18)"
      ]
     },
     "execution_count": 52,
     "metadata": {},
     "output_type": "execute_result"
    }
   ],
   "source": [
    "# Shape\n",
    "forecast_weather.shape"
   ]
  },
  {
   "cell_type": "code",
   "execution_count": 53,
   "metadata": {},
   "outputs": [
    {
     "data": {
      "text/plain": [
       "latitude                                    float64\n",
       "longitude                                   float64\n",
       "origin_datetime                      datetime64[ns]\n",
       "hours_ahead                                   int64\n",
       "temperature                                 float64\n",
       "dewpoint                                    float64\n",
       "cloudcover_high                             float64\n",
       "cloudcover_low                              float64\n",
       "cloudcover_mid                              float64\n",
       "cloudcover_total                            float64\n",
       "10_metre_u_wind_component                   float64\n",
       "10_metre_v_wind_component                   float64\n",
       "data_block_id                                 int64\n",
       "forecast_datetime                    datetime64[ns]\n",
       "direct_solar_radiation                      float64\n",
       "surface_solar_radiation_downwards           float64\n",
       "snowfall                                    float64\n",
       "total_precipitation                         float64\n",
       "dtype: object"
      ]
     },
     "execution_count": 53,
     "metadata": {},
     "output_type": "execute_result"
    }
   ],
   "source": [
    "# Columns and there data types\n",
    "forecast_weather.dtypes"
   ]
  },
  {
   "cell_type": "code",
   "execution_count": 54,
   "metadata": {},
   "outputs": [
    {
     "data": {
      "text/plain": [
       "latitude                             0\n",
       "longitude                            0\n",
       "origin_datetime                      0\n",
       "hours_ahead                          0\n",
       "temperature                          0\n",
       "dewpoint                             0\n",
       "cloudcover_high                      0\n",
       "cloudcover_low                       0\n",
       "cloudcover_mid                       0\n",
       "cloudcover_total                     0\n",
       "10_metre_u_wind_component            0\n",
       "10_metre_v_wind_component            0\n",
       "data_block_id                        0\n",
       "forecast_datetime                    0\n",
       "direct_solar_radiation               0\n",
       "surface_solar_radiation_downwards    2\n",
       "snowfall                             0\n",
       "total_precipitation                  0\n",
       "dtype: int64"
      ]
     },
     "execution_count": 54,
     "metadata": {},
     "output_type": "execute_result"
    }
   ],
   "source": [
    "# Missing values\n",
    "forecast_weather.isna().sum()"
   ]
  },
  {
   "cell_type": "markdown",
   "metadata": {},
   "source": [
    "* We have **2** missing values in **surface_solar_radiation_downwards**, let's check them in detail. "
   ]
  },
  {
   "cell_type": "code",
   "execution_count": 55,
   "metadata": {},
   "outputs": [
    {
     "data": {
      "text/html": [
       "<div>\n",
       "<style scoped>\n",
       "    .dataframe tbody tr th:only-of-type {\n",
       "        vertical-align: middle;\n",
       "    }\n",
       "\n",
       "    .dataframe tbody tr th {\n",
       "        vertical-align: top;\n",
       "    }\n",
       "\n",
       "    .dataframe thead th {\n",
       "        text-align: right;\n",
       "    }\n",
       "</style>\n",
       "<table border=\"1\" class=\"dataframe\">\n",
       "  <thead>\n",
       "    <tr style=\"text-align: right;\">\n",
       "      <th></th>\n",
       "      <th>latitude</th>\n",
       "      <th>longitude</th>\n",
       "      <th>origin_datetime</th>\n",
       "      <th>hours_ahead</th>\n",
       "      <th>temperature</th>\n",
       "      <th>dewpoint</th>\n",
       "      <th>cloudcover_high</th>\n",
       "      <th>cloudcover_low</th>\n",
       "      <th>cloudcover_mid</th>\n",
       "      <th>cloudcover_total</th>\n",
       "      <th>10_metre_u_wind_component</th>\n",
       "      <th>10_metre_v_wind_component</th>\n",
       "      <th>data_block_id</th>\n",
       "      <th>forecast_datetime</th>\n",
       "      <th>direct_solar_radiation</th>\n",
       "      <th>surface_solar_radiation_downwards</th>\n",
       "      <th>snowfall</th>\n",
       "      <th>total_precipitation</th>\n",
       "    </tr>\n",
       "  </thead>\n",
       "  <tbody>\n",
       "    <tr>\n",
       "      <th>1849670</th>\n",
       "      <td>59.7</td>\n",
       "      <td>23.7</td>\n",
       "      <td>2022-08-11 02:00:00</td>\n",
       "      <td>3</td>\n",
       "      <td>19.043604</td>\n",
       "      <td>16.849023</td>\n",
       "      <td>0.908295</td>\n",
       "      <td>0.0</td>\n",
       "      <td>0.0</td>\n",
       "      <td>0.908295</td>\n",
       "      <td>5.913838</td>\n",
       "      <td>7.620130</td>\n",
       "      <td>345</td>\n",
       "      <td>2022-08-11 05:00:00</td>\n",
       "      <td>17.096667</td>\n",
       "      <td>NaN</td>\n",
       "      <td>0.0</td>\n",
       "      <td>0.0</td>\n",
       "    </tr>\n",
       "    <tr>\n",
       "      <th>1849782</th>\n",
       "      <td>59.7</td>\n",
       "      <td>23.7</td>\n",
       "      <td>2022-08-11 02:00:00</td>\n",
       "      <td>4</td>\n",
       "      <td>18.796777</td>\n",
       "      <td>16.994287</td>\n",
       "      <td>0.844788</td>\n",
       "      <td>0.0</td>\n",
       "      <td>0.0</td>\n",
       "      <td>0.844788</td>\n",
       "      <td>5.421923</td>\n",
       "      <td>8.103373</td>\n",
       "      <td>345</td>\n",
       "      <td>2022-08-11 06:00:00</td>\n",
       "      <td>206.413750</td>\n",
       "      <td>NaN</td>\n",
       "      <td>0.0</td>\n",
       "      <td>0.0</td>\n",
       "    </tr>\n",
       "  </tbody>\n",
       "</table>\n",
       "</div>"
      ],
      "text/plain": [
       "         latitude  longitude     origin_datetime  hours_ahead  temperature  \\\n",
       "1849670      59.7       23.7 2022-08-11 02:00:00            3    19.043604   \n",
       "1849782      59.7       23.7 2022-08-11 02:00:00            4    18.796777   \n",
       "\n",
       "          dewpoint  cloudcover_high  cloudcover_low  cloudcover_mid  \\\n",
       "1849670  16.849023         0.908295             0.0             0.0   \n",
       "1849782  16.994287         0.844788             0.0             0.0   \n",
       "\n",
       "         cloudcover_total  10_metre_u_wind_component  \\\n",
       "1849670          0.908295                   5.913838   \n",
       "1849782          0.844788                   5.421923   \n",
       "\n",
       "         10_metre_v_wind_component  data_block_id   forecast_datetime  \\\n",
       "1849670                   7.620130            345 2022-08-11 05:00:00   \n",
       "1849782                   8.103373            345 2022-08-11 06:00:00   \n",
       "\n",
       "         direct_solar_radiation  surface_solar_radiation_downwards  snowfall  \\\n",
       "1849670               17.096667                                NaN       0.0   \n",
       "1849782              206.413750                                NaN       0.0   \n",
       "\n",
       "         total_precipitation  \n",
       "1849670                  0.0  \n",
       "1849782                  0.0  "
      ]
     },
     "execution_count": 55,
     "metadata": {},
     "output_type": "execute_result"
    }
   ],
   "source": [
    "forecast_weather[forecast_weather.surface_solar_radiation_downwards.isna()]"
   ]
  },
  {
   "cell_type": "markdown",
   "metadata": {},
   "source": [
    "* These are morning hours **surface_solar_radiation_downwards** is 0, we will impute these values with 0."
   ]
  },
  {
   "cell_type": "code",
   "execution_count": 56,
   "metadata": {},
   "outputs": [
    {
     "data": {
      "text/html": [
       "<div>\n",
       "<style scoped>\n",
       "    .dataframe tbody tr th:only-of-type {\n",
       "        vertical-align: middle;\n",
       "    }\n",
       "\n",
       "    .dataframe tbody tr th {\n",
       "        vertical-align: top;\n",
       "    }\n",
       "\n",
       "    .dataframe thead th {\n",
       "        text-align: right;\n",
       "    }\n",
       "</style>\n",
       "<table border=\"1\" class=\"dataframe\">\n",
       "  <thead>\n",
       "    <tr style=\"text-align: right;\">\n",
       "      <th></th>\n",
       "      <th>latitude</th>\n",
       "      <th>longitude</th>\n",
       "      <th>origin_datetime</th>\n",
       "      <th>hours_ahead</th>\n",
       "      <th>temperature</th>\n",
       "      <th>dewpoint</th>\n",
       "      <th>cloudcover_high</th>\n",
       "      <th>cloudcover_low</th>\n",
       "      <th>cloudcover_mid</th>\n",
       "      <th>cloudcover_total</th>\n",
       "      <th>10_metre_u_wind_component</th>\n",
       "      <th>10_metre_v_wind_component</th>\n",
       "      <th>data_block_id</th>\n",
       "      <th>forecast_datetime</th>\n",
       "      <th>direct_solar_radiation</th>\n",
       "      <th>surface_solar_radiation_downwards</th>\n",
       "      <th>snowfall</th>\n",
       "      <th>total_precipitation</th>\n",
       "    </tr>\n",
       "  </thead>\n",
       "  <tbody>\n",
       "    <tr>\n",
       "      <th>1851379</th>\n",
       "      <td>57.9</td>\n",
       "      <td>24.2</td>\n",
       "      <td>2022-08-11 02:00:00</td>\n",
       "      <td>19</td>\n",
       "      <td>20.156763</td>\n",
       "      <td>17.051904</td>\n",
       "      <td>0.234711</td>\n",
       "      <td>0.0</td>\n",
       "      <td>0.0</td>\n",
       "      <td>0.234711</td>\n",
       "      <td>1.890010</td>\n",
       "      <td>1.374841</td>\n",
       "      <td>345</td>\n",
       "      <td>2022-08-11 21:00:00</td>\n",
       "      <td>3.422222</td>\n",
       "      <td>0.586667</td>\n",
       "      <td>0.0</td>\n",
       "      <td>0.0</td>\n",
       "    </tr>\n",
       "    <tr>\n",
       "      <th>1854560</th>\n",
       "      <td>58.8</td>\n",
       "      <td>25.7</td>\n",
       "      <td>2022-08-11 02:00:00</td>\n",
       "      <td>47</td>\n",
       "      <td>14.322290</td>\n",
       "      <td>13.013208</td>\n",
       "      <td>0.772888</td>\n",
       "      <td>0.0</td>\n",
       "      <td>0.0</td>\n",
       "      <td>0.772888</td>\n",
       "      <td>1.555817</td>\n",
       "      <td>0.067767</td>\n",
       "      <td>345</td>\n",
       "      <td>2022-08-13 01:00:00</td>\n",
       "      <td>0.000000</td>\n",
       "      <td>0.000000</td>\n",
       "      <td>0.0</td>\n",
       "      <td>0.0</td>\n",
       "    </tr>\n",
       "    <tr>\n",
       "      <th>1850120</th>\n",
       "      <td>59.7</td>\n",
       "      <td>24.7</td>\n",
       "      <td>2022-08-11 02:00:00</td>\n",
       "      <td>7</td>\n",
       "      <td>19.163477</td>\n",
       "      <td>16.047388</td>\n",
       "      <td>0.995468</td>\n",
       "      <td>0.0</td>\n",
       "      <td>0.0</td>\n",
       "      <td>0.995468</td>\n",
       "      <td>5.204838</td>\n",
       "      <td>7.176234</td>\n",
       "      <td>345</td>\n",
       "      <td>2022-08-11 09:00:00</td>\n",
       "      <td>649.882500</td>\n",
       "      <td>406.272222</td>\n",
       "      <td>0.0</td>\n",
       "      <td>0.0</td>\n",
       "    </tr>\n",
       "    <tr>\n",
       "      <th>1853321</th>\n",
       "      <td>58.8</td>\n",
       "      <td>22.2</td>\n",
       "      <td>2022-08-11 02:00:00</td>\n",
       "      <td>36</td>\n",
       "      <td>19.394922</td>\n",
       "      <td>17.360620</td>\n",
       "      <td>0.131012</td>\n",
       "      <td>0.0</td>\n",
       "      <td>0.0</td>\n",
       "      <td>0.131012</td>\n",
       "      <td>5.372705</td>\n",
       "      <td>2.457233</td>\n",
       "      <td>345</td>\n",
       "      <td>2022-08-12 14:00:00</td>\n",
       "      <td>842.773333</td>\n",
       "      <td>683.244444</td>\n",
       "      <td>0.0</td>\n",
       "      <td>0.0</td>\n",
       "    </tr>\n",
       "    <tr>\n",
       "      <th>1854071</th>\n",
       "      <td>57.9</td>\n",
       "      <td>26.2</td>\n",
       "      <td>2022-08-11 02:00:00</td>\n",
       "      <td>43</td>\n",
       "      <td>18.631250</td>\n",
       "      <td>14.891260</td>\n",
       "      <td>0.356903</td>\n",
       "      <td>0.0</td>\n",
       "      <td>0.0</td>\n",
       "      <td>0.356903</td>\n",
       "      <td>2.087479</td>\n",
       "      <td>0.112079</td>\n",
       "      <td>345</td>\n",
       "      <td>2022-08-12 21:00:00</td>\n",
       "      <td>0.013333</td>\n",
       "      <td>0.000000</td>\n",
       "      <td>0.0</td>\n",
       "      <td>0.0</td>\n",
       "    </tr>\n",
       "  </tbody>\n",
       "</table>\n",
       "</div>"
      ],
      "text/plain": [
       "         latitude  longitude     origin_datetime  hours_ahead  temperature  \\\n",
       "1851379      57.9       24.2 2022-08-11 02:00:00           19    20.156763   \n",
       "1854560      58.8       25.7 2022-08-11 02:00:00           47    14.322290   \n",
       "1850120      59.7       24.7 2022-08-11 02:00:00            7    19.163477   \n",
       "1853321      58.8       22.2 2022-08-11 02:00:00           36    19.394922   \n",
       "1854071      57.9       26.2 2022-08-11 02:00:00           43    18.631250   \n",
       "\n",
       "          dewpoint  cloudcover_high  cloudcover_low  cloudcover_mid  \\\n",
       "1851379  17.051904         0.234711             0.0             0.0   \n",
       "1854560  13.013208         0.772888             0.0             0.0   \n",
       "1850120  16.047388         0.995468             0.0             0.0   \n",
       "1853321  17.360620         0.131012             0.0             0.0   \n",
       "1854071  14.891260         0.356903             0.0             0.0   \n",
       "\n",
       "         cloudcover_total  10_metre_u_wind_component  \\\n",
       "1851379          0.234711                   1.890010   \n",
       "1854560          0.772888                   1.555817   \n",
       "1850120          0.995468                   5.204838   \n",
       "1853321          0.131012                   5.372705   \n",
       "1854071          0.356903                   2.087479   \n",
       "\n",
       "         10_metre_v_wind_component  data_block_id   forecast_datetime  \\\n",
       "1851379                   1.374841            345 2022-08-11 21:00:00   \n",
       "1854560                   0.067767            345 2022-08-13 01:00:00   \n",
       "1850120                   7.176234            345 2022-08-11 09:00:00   \n",
       "1853321                   2.457233            345 2022-08-12 14:00:00   \n",
       "1854071                   0.112079            345 2022-08-12 21:00:00   \n",
       "\n",
       "         direct_solar_radiation  surface_solar_radiation_downwards  snowfall  \\\n",
       "1851379                3.422222                           0.586667       0.0   \n",
       "1854560                0.000000                           0.000000       0.0   \n",
       "1850120              649.882500                         406.272222       0.0   \n",
       "1853321              842.773333                         683.244444       0.0   \n",
       "1854071                0.013333                           0.000000       0.0   \n",
       "\n",
       "         total_precipitation  \n",
       "1851379                  0.0  \n",
       "1854560                  0.0  \n",
       "1850120                  0.0  \n",
       "1853321                  0.0  \n",
       "1854071                  0.0  "
      ]
     },
     "execution_count": 56,
     "metadata": {},
     "output_type": "execute_result"
    }
   ],
   "source": [
    "forecast_weather[pd.to_datetime(forecast_weather[\"origin_datetime\"].dt.date)==pd.to_datetime(\"2022-08-11\")].sample(5)"
   ]
  },
  {
   "cell_type": "code",
   "execution_count": 57,
   "metadata": {},
   "outputs": [
    {
     "data": {
      "text/plain": [
       "latitude                             0\n",
       "longitude                            0\n",
       "origin_datetime                      0\n",
       "hours_ahead                          0\n",
       "temperature                          0\n",
       "dewpoint                             0\n",
       "cloudcover_high                      0\n",
       "cloudcover_low                       0\n",
       "cloudcover_mid                       0\n",
       "cloudcover_total                     0\n",
       "10_metre_u_wind_component            0\n",
       "10_metre_v_wind_component            0\n",
       "data_block_id                        0\n",
       "forecast_datetime                    0\n",
       "direct_solar_radiation               0\n",
       "surface_solar_radiation_downwards    0\n",
       "snowfall                             0\n",
       "total_precipitation                  0\n",
       "dtype: int64"
      ]
     },
     "execution_count": 57,
     "metadata": {},
     "output_type": "execute_result"
    }
   ],
   "source": [
    "forecast_weather.surface_solar_radiation_downwards.fillna(0, inplace=True)\n",
    "# Missing values\n",
    "forecast_weather.isna().sum()"
   ]
  },
  {
   "cell_type": "markdown",
   "metadata": {},
   "source": [
    "* Good, no missing values now."
   ]
  },
  {
   "cell_type": "code",
   "execution_count": 58,
   "metadata": {},
   "outputs": [
    {
     "name": "stdout",
     "output_type": "stream",
     "text": [
      "2021-09-01 03:00:00 2023-06-01 02:00:00\n"
     ]
    }
   ],
   "source": [
    "# Dates for which historic weather data is available\n",
    "start_date = forecast_weather.forecast_datetime.min()\n",
    "end_date = forecast_weather.forecast_datetime.max()\n",
    "print(start_date, end_date)"
   ]
  },
  {
   "cell_type": "markdown",
   "metadata": {},
   "source": [
    "* We have forecast data for next week from the last date in train data till **01-06-2023**"
   ]
  },
  {
   "cell_type": "markdown",
   "metadata": {},
   "source": [
    "# 4. Merging Data"
   ]
  },
  {
   "cell_type": "markdown",
   "metadata": {},
   "source": [
    "## 4.1 Merging client data"
   ]
  },
  {
   "cell_type": "code",
   "execution_count": 59,
   "metadata": {},
   "outputs": [
    {
     "data": {
      "text/html": [
       "<div>\n",
       "<style scoped>\n",
       "    .dataframe tbody tr th:only-of-type {\n",
       "        vertical-align: middle;\n",
       "    }\n",
       "\n",
       "    .dataframe tbody tr th {\n",
       "        vertical-align: top;\n",
       "    }\n",
       "\n",
       "    .dataframe thead th {\n",
       "        text-align: right;\n",
       "    }\n",
       "</style>\n",
       "<table border=\"1\" class=\"dataframe\">\n",
       "  <thead>\n",
       "    <tr style=\"text-align: right;\">\n",
       "      <th></th>\n",
       "      <th>county</th>\n",
       "      <th>is_business</th>\n",
       "      <th>product_type</th>\n",
       "      <th>is_consumption</th>\n",
       "      <th>datetime</th>\n",
       "      <th>data_block_id</th>\n",
       "      <th>row_id</th>\n",
       "      <th>prediction_unit_id</th>\n",
       "      <th>date</th>\n",
       "      <th>time</th>\n",
       "      <th>target</th>\n",
       "    </tr>\n",
       "  </thead>\n",
       "  <tbody>\n",
       "    <tr>\n",
       "      <th>864330</th>\n",
       "      <td>11</td>\n",
       "      <td>1</td>\n",
       "      <td>1</td>\n",
       "      <td>0</td>\n",
       "      <td>2022-06-06 01:00:00</td>\n",
       "      <td>278</td>\n",
       "      <td>864330</td>\n",
       "      <td>46</td>\n",
       "      <td>2022-06-06</td>\n",
       "      <td>01:00:00</td>\n",
       "      <td>0.000</td>\n",
       "    </tr>\n",
       "    <tr>\n",
       "      <th>828111</th>\n",
       "      <td>7</td>\n",
       "      <td>0</td>\n",
       "      <td>3</td>\n",
       "      <td>1</td>\n",
       "      <td>2022-05-25 19:00:00</td>\n",
       "      <td>266</td>\n",
       "      <td>828111</td>\n",
       "      <td>27</td>\n",
       "      <td>2022-05-25</td>\n",
       "      <td>19:00:00</td>\n",
       "      <td>98.463</td>\n",
       "    </tr>\n",
       "    <tr>\n",
       "      <th>230799</th>\n",
       "      <td>9</td>\n",
       "      <td>0</td>\n",
       "      <td>3</td>\n",
       "      <td>1</td>\n",
       "      <td>2021-11-17 06:00:00</td>\n",
       "      <td>77</td>\n",
       "      <td>230799</td>\n",
       "      <td>35</td>\n",
       "      <td>2021-11-17</td>\n",
       "      <td>06:00:00</td>\n",
       "      <td>134.213</td>\n",
       "    </tr>\n",
       "    <tr>\n",
       "      <th>1884152</th>\n",
       "      <td>14</td>\n",
       "      <td>0</td>\n",
       "      <td>3</td>\n",
       "      <td>0</td>\n",
       "      <td>2023-04-19 21:00:00</td>\n",
       "      <td>595</td>\n",
       "      <td>1884152</td>\n",
       "      <td>54</td>\n",
       "      <td>2023-04-19</td>\n",
       "      <td>21:00:00</td>\n",
       "      <td>2.787</td>\n",
       "    </tr>\n",
       "    <tr>\n",
       "      <th>517930</th>\n",
       "      <td>14</td>\n",
       "      <td>1</td>\n",
       "      <td>1</td>\n",
       "      <td>0</td>\n",
       "      <td>2022-02-18 09:00:00</td>\n",
       "      <td>170</td>\n",
       "      <td>517930</td>\n",
       "      <td>55</td>\n",
       "      <td>2022-02-18</td>\n",
       "      <td>09:00:00</td>\n",
       "      <td>1.879</td>\n",
       "    </tr>\n",
       "  </tbody>\n",
       "</table>\n",
       "</div>"
      ],
      "text/plain": [
       "         county  is_business  product_type  is_consumption  \\\n",
       "864330       11            1             1               0   \n",
       "828111        7            0             3               1   \n",
       "230799        9            0             3               1   \n",
       "1884152      14            0             3               0   \n",
       "517930       14            1             1               0   \n",
       "\n",
       "                   datetime  data_block_id   row_id  prediction_unit_id  \\\n",
       "864330  2022-06-06 01:00:00            278   864330                  46   \n",
       "828111  2022-05-25 19:00:00            266   828111                  27   \n",
       "230799  2021-11-17 06:00:00             77   230799                  35   \n",
       "1884152 2023-04-19 21:00:00            595  1884152                  54   \n",
       "517930  2022-02-18 09:00:00            170   517930                  55   \n",
       "\n",
       "              date      time   target  \n",
       "864330  2022-06-06  01:00:00    0.000  \n",
       "828111  2022-05-25  19:00:00   98.463  \n",
       "230799  2021-11-17  06:00:00  134.213  \n",
       "1884152 2023-04-19  21:00:00    2.787  \n",
       "517930  2022-02-18  09:00:00    1.879  "
      ]
     },
     "execution_count": 59,
     "metadata": {},
     "output_type": "execute_result"
    }
   ],
   "source": [
    "train.sample(5)"
   ]
  },
  {
   "cell_type": "code",
   "execution_count": 60,
   "metadata": {},
   "outputs": [
    {
     "data": {
      "text/html": [
       "<div>\n",
       "<style scoped>\n",
       "    .dataframe tbody tr th:only-of-type {\n",
       "        vertical-align: middle;\n",
       "    }\n",
       "\n",
       "    .dataframe tbody tr th {\n",
       "        vertical-align: top;\n",
       "    }\n",
       "\n",
       "    .dataframe thead th {\n",
       "        text-align: right;\n",
       "    }\n",
       "</style>\n",
       "<table border=\"1\" class=\"dataframe\">\n",
       "  <thead>\n",
       "    <tr style=\"text-align: right;\">\n",
       "      <th></th>\n",
       "      <th>product_type</th>\n",
       "      <th>county</th>\n",
       "      <th>eic_count</th>\n",
       "      <th>installed_capacity</th>\n",
       "      <th>is_business</th>\n",
       "      <th>date</th>\n",
       "      <th>data_block_id</th>\n",
       "    </tr>\n",
       "  </thead>\n",
       "  <tbody>\n",
       "    <tr>\n",
       "      <th>41656</th>\n",
       "      <td>3</td>\n",
       "      <td>15</td>\n",
       "      <td>55</td>\n",
       "      <td>2188.2</td>\n",
       "      <td>1</td>\n",
       "      <td>2023-05-25</td>\n",
       "      <td>633</td>\n",
       "    </tr>\n",
       "    <tr>\n",
       "      <th>41722</th>\n",
       "      <td>3</td>\n",
       "      <td>15</td>\n",
       "      <td>55</td>\n",
       "      <td>2188.2</td>\n",
       "      <td>1</td>\n",
       "      <td>2023-05-26</td>\n",
       "      <td>634</td>\n",
       "    </tr>\n",
       "    <tr>\n",
       "      <th>41788</th>\n",
       "      <td>3</td>\n",
       "      <td>15</td>\n",
       "      <td>55</td>\n",
       "      <td>2188.2</td>\n",
       "      <td>1</td>\n",
       "      <td>2023-05-27</td>\n",
       "      <td>635</td>\n",
       "    </tr>\n",
       "    <tr>\n",
       "      <th>41853</th>\n",
       "      <td>3</td>\n",
       "      <td>15</td>\n",
       "      <td>55</td>\n",
       "      <td>2188.2</td>\n",
       "      <td>1</td>\n",
       "      <td>2023-05-28</td>\n",
       "      <td>636</td>\n",
       "    </tr>\n",
       "    <tr>\n",
       "      <th>41918</th>\n",
       "      <td>3</td>\n",
       "      <td>15</td>\n",
       "      <td>55</td>\n",
       "      <td>2188.2</td>\n",
       "      <td>1</td>\n",
       "      <td>2023-05-29</td>\n",
       "      <td>637</td>\n",
       "    </tr>\n",
       "  </tbody>\n",
       "</table>\n",
       "</div>"
      ],
      "text/plain": [
       "       product_type  county  eic_count  installed_capacity  is_business  \\\n",
       "41656             3      15         55              2188.2            1   \n",
       "41722             3      15         55              2188.2            1   \n",
       "41788             3      15         55              2188.2            1   \n",
       "41853             3      15         55              2188.2            1   \n",
       "41918             3      15         55              2188.2            1   \n",
       "\n",
       "            date  data_block_id  \n",
       "41656 2023-05-25            633  \n",
       "41722 2023-05-26            634  \n",
       "41788 2023-05-27            635  \n",
       "41853 2023-05-28            636  \n",
       "41918 2023-05-29            637  "
      ]
     },
     "execution_count": 60,
     "metadata": {},
     "output_type": "execute_result"
    }
   ],
   "source": [
    "client.sort_values(by=[\"county\", \"is_business\", \"product_type\", \"date\"]).tail(5)"
   ]
  },
  {
   "cell_type": "code",
   "execution_count": 61,
   "metadata": {},
   "outputs": [
    {
     "data": {
      "text/plain": [
       "((2018352, 11), (41919, 7))"
      ]
     },
     "execution_count": 61,
     "metadata": {},
     "output_type": "execute_result"
    }
   ],
   "source": [
    "train.shape, client.shape"
   ]
  },
  {
   "cell_type": "code",
   "execution_count": 62,
   "metadata": {},
   "outputs": [
    {
     "data": {
      "text/plain": [
       "(2018352, 14)"
      ]
     },
     "execution_count": 62,
     "metadata": {},
     "output_type": "execute_result"
    }
   ],
   "source": [
    "train_m = train.merge(\n",
    "    client,\n",
    "    how=\"left\",\n",
    "    on=[\"county\", \"is_business\", \"product_type\", \"date\"],\n",
    "    suffixes=(\"\", \"_client\")\n",
    ") \n",
    "train_m.shape"
   ]
  },
  {
   "cell_type": "code",
   "execution_count": 63,
   "metadata": {},
   "outputs": [],
   "source": [
    "del train"
   ]
  },
  {
   "cell_type": "code",
   "execution_count": 64,
   "metadata": {},
   "outputs": [
    {
     "data": {
      "text/plain": [
       "county                     0\n",
       "is_business                0\n",
       "product_type               0\n",
       "is_consumption             0\n",
       "datetime                   0\n",
       "data_block_id              0\n",
       "row_id                     0\n",
       "prediction_unit_id         0\n",
       "date                       0\n",
       "time                       0\n",
       "target                     0\n",
       "eic_count               6240\n",
       "installed_capacity      6240\n",
       "data_block_id_client    6240\n",
       "dtype: int64"
      ]
     },
     "execution_count": 64,
     "metadata": {},
     "output_type": "execute_result"
    }
   ],
   "source": [
    "train_m.isna().sum()"
   ]
  },
  {
   "cell_type": "markdown",
   "metadata": {},
   "source": [
    "* We have missing data for some dates in client data, we will impute it with previous dates."
   ]
  },
  {
   "cell_type": "code",
   "execution_count": 65,
   "metadata": {},
   "outputs": [
    {
     "data": {
      "text/html": [
       "<div>\n",
       "<style scoped>\n",
       "    .dataframe tbody tr th:only-of-type {\n",
       "        vertical-align: middle;\n",
       "    }\n",
       "\n",
       "    .dataframe tbody tr th {\n",
       "        vertical-align: top;\n",
       "    }\n",
       "\n",
       "    .dataframe thead th {\n",
       "        text-align: right;\n",
       "    }\n",
       "</style>\n",
       "<table border=\"1\" class=\"dataframe\">\n",
       "  <thead>\n",
       "    <tr style=\"text-align: right;\">\n",
       "      <th></th>\n",
       "      <th>county</th>\n",
       "      <th>is_business</th>\n",
       "      <th>product_type</th>\n",
       "      <th>date</th>\n",
       "      <th>eic_count</th>\n",
       "      <th>installed_capacity</th>\n",
       "    </tr>\n",
       "  </thead>\n",
       "  <tbody>\n",
       "    <tr>\n",
       "      <th>0</th>\n",
       "      <td>0</td>\n",
       "      <td>0</td>\n",
       "      <td>1</td>\n",
       "      <td>2021-09-01</td>\n",
       "      <td>108.0</td>\n",
       "      <td>952.89</td>\n",
       "    </tr>\n",
       "    <tr>\n",
       "      <th>1</th>\n",
       "      <td>0</td>\n",
       "      <td>0</td>\n",
       "      <td>1</td>\n",
       "      <td>2021-09-01</td>\n",
       "      <td>108.0</td>\n",
       "      <td>952.89</td>\n",
       "    </tr>\n",
       "    <tr>\n",
       "      <th>2</th>\n",
       "      <td>0</td>\n",
       "      <td>0</td>\n",
       "      <td>2</td>\n",
       "      <td>2021-09-01</td>\n",
       "      <td>17.0</td>\n",
       "      <td>166.40</td>\n",
       "    </tr>\n",
       "    <tr>\n",
       "      <th>3</th>\n",
       "      <td>0</td>\n",
       "      <td>0</td>\n",
       "      <td>2</td>\n",
       "      <td>2021-09-01</td>\n",
       "      <td>17.0</td>\n",
       "      <td>166.40</td>\n",
       "    </tr>\n",
       "    <tr>\n",
       "      <th>4</th>\n",
       "      <td>0</td>\n",
       "      <td>0</td>\n",
       "      <td>3</td>\n",
       "      <td>2021-09-01</td>\n",
       "      <td>688.0</td>\n",
       "      <td>7207.88</td>\n",
       "    </tr>\n",
       "    <tr>\n",
       "      <th>...</th>\n",
       "      <td>...</td>\n",
       "      <td>...</td>\n",
       "      <td>...</td>\n",
       "      <td>...</td>\n",
       "      <td>...</td>\n",
       "      <td>...</td>\n",
       "    </tr>\n",
       "    <tr>\n",
       "      <th>2018347</th>\n",
       "      <td>15</td>\n",
       "      <td>1</td>\n",
       "      <td>0</td>\n",
       "      <td>2023-05-31</td>\n",
       "      <td>NaN</td>\n",
       "      <td>NaN</td>\n",
       "    </tr>\n",
       "    <tr>\n",
       "      <th>2018348</th>\n",
       "      <td>15</td>\n",
       "      <td>1</td>\n",
       "      <td>1</td>\n",
       "      <td>2023-05-31</td>\n",
       "      <td>NaN</td>\n",
       "      <td>NaN</td>\n",
       "    </tr>\n",
       "    <tr>\n",
       "      <th>2018349</th>\n",
       "      <td>15</td>\n",
       "      <td>1</td>\n",
       "      <td>1</td>\n",
       "      <td>2023-05-31</td>\n",
       "      <td>NaN</td>\n",
       "      <td>NaN</td>\n",
       "    </tr>\n",
       "    <tr>\n",
       "      <th>2018350</th>\n",
       "      <td>15</td>\n",
       "      <td>1</td>\n",
       "      <td>3</td>\n",
       "      <td>2023-05-31</td>\n",
       "      <td>NaN</td>\n",
       "      <td>NaN</td>\n",
       "    </tr>\n",
       "    <tr>\n",
       "      <th>2018351</th>\n",
       "      <td>15</td>\n",
       "      <td>1</td>\n",
       "      <td>3</td>\n",
       "      <td>2023-05-31</td>\n",
       "      <td>NaN</td>\n",
       "      <td>NaN</td>\n",
       "    </tr>\n",
       "  </tbody>\n",
       "</table>\n",
       "<p>2018352 rows × 6 columns</p>\n",
       "</div>"
      ],
      "text/plain": [
       "         county  is_business  product_type       date  eic_count  \\\n",
       "0             0            0             1 2021-09-01      108.0   \n",
       "1             0            0             1 2021-09-01      108.0   \n",
       "2             0            0             2 2021-09-01       17.0   \n",
       "3             0            0             2 2021-09-01       17.0   \n",
       "4             0            0             3 2021-09-01      688.0   \n",
       "...         ...          ...           ...        ...        ...   \n",
       "2018347      15            1             0 2023-05-31        NaN   \n",
       "2018348      15            1             1 2023-05-31        NaN   \n",
       "2018349      15            1             1 2023-05-31        NaN   \n",
       "2018350      15            1             3 2023-05-31        NaN   \n",
       "2018351      15            1             3 2023-05-31        NaN   \n",
       "\n",
       "         installed_capacity  \n",
       "0                    952.89  \n",
       "1                    952.89  \n",
       "2                    166.40  \n",
       "3                    166.40  \n",
       "4                   7207.88  \n",
       "...                     ...  \n",
       "2018347                 NaN  \n",
       "2018348                 NaN  \n",
       "2018349                 NaN  \n",
       "2018350                 NaN  \n",
       "2018351                 NaN  \n",
       "\n",
       "[2018352 rows x 6 columns]"
      ]
     },
     "execution_count": 65,
     "metadata": {},
     "output_type": "execute_result"
    }
   ],
   "source": [
    "train_m[[\"county\", \"is_business\", \"product_type\", \"date\", \"eic_count\", \"installed_capacity\"]]"
   ]
  },
  {
   "cell_type": "code",
   "execution_count": 66,
   "metadata": {},
   "outputs": [],
   "source": [
    "missing_client = train_m.groupby([\"county\", \"is_business\", \"product_type\", \"date\"])[\"eic_count\", \"installed_capacity\"].mean().reset_index().ffill()"
   ]
  },
  {
   "cell_type": "code",
   "execution_count": 67,
   "metadata": {},
   "outputs": [
    {
     "data": {
      "text/html": [
       "<div>\n",
       "<style scoped>\n",
       "    .dataframe tbody tr th:only-of-type {\n",
       "        vertical-align: middle;\n",
       "    }\n",
       "\n",
       "    .dataframe tbody tr th {\n",
       "        vertical-align: top;\n",
       "    }\n",
       "\n",
       "    .dataframe thead th {\n",
       "        text-align: right;\n",
       "    }\n",
       "</style>\n",
       "<table border=\"1\" class=\"dataframe\">\n",
       "  <thead>\n",
       "    <tr style=\"text-align: right;\">\n",
       "      <th></th>\n",
       "      <th>county</th>\n",
       "      <th>is_business</th>\n",
       "      <th>product_type</th>\n",
       "      <th>date</th>\n",
       "      <th>eic_count</th>\n",
       "      <th>installed_capacity</th>\n",
       "    </tr>\n",
       "  </thead>\n",
       "  <tbody>\n",
       "    <tr>\n",
       "      <th>42044</th>\n",
       "      <td>15</td>\n",
       "      <td>1</td>\n",
       "      <td>3</td>\n",
       "      <td>2023-05-27</td>\n",
       "      <td>55.0</td>\n",
       "      <td>2188.2</td>\n",
       "    </tr>\n",
       "    <tr>\n",
       "      <th>42045</th>\n",
       "      <td>15</td>\n",
       "      <td>1</td>\n",
       "      <td>3</td>\n",
       "      <td>2023-05-28</td>\n",
       "      <td>55.0</td>\n",
       "      <td>2188.2</td>\n",
       "    </tr>\n",
       "    <tr>\n",
       "      <th>42046</th>\n",
       "      <td>15</td>\n",
       "      <td>1</td>\n",
       "      <td>3</td>\n",
       "      <td>2023-05-29</td>\n",
       "      <td>55.0</td>\n",
       "      <td>2188.2</td>\n",
       "    </tr>\n",
       "    <tr>\n",
       "      <th>42047</th>\n",
       "      <td>15</td>\n",
       "      <td>1</td>\n",
       "      <td>3</td>\n",
       "      <td>2023-05-30</td>\n",
       "      <td>55.0</td>\n",
       "      <td>2188.2</td>\n",
       "    </tr>\n",
       "    <tr>\n",
       "      <th>42048</th>\n",
       "      <td>15</td>\n",
       "      <td>1</td>\n",
       "      <td>3</td>\n",
       "      <td>2023-05-31</td>\n",
       "      <td>55.0</td>\n",
       "      <td>2188.2</td>\n",
       "    </tr>\n",
       "  </tbody>\n",
       "</table>\n",
       "</div>"
      ],
      "text/plain": [
       "       county  is_business  product_type       date  eic_count  \\\n",
       "42044      15            1             3 2023-05-27       55.0   \n",
       "42045      15            1             3 2023-05-28       55.0   \n",
       "42046      15            1             3 2023-05-29       55.0   \n",
       "42047      15            1             3 2023-05-30       55.0   \n",
       "42048      15            1             3 2023-05-31       55.0   \n",
       "\n",
       "       installed_capacity  \n",
       "42044              2188.2  \n",
       "42045              2188.2  \n",
       "42046              2188.2  \n",
       "42047              2188.2  \n",
       "42048              2188.2  "
      ]
     },
     "execution_count": 67,
     "metadata": {},
     "output_type": "execute_result"
    }
   ],
   "source": [
    "missing_client.tail()"
   ]
  },
  {
   "cell_type": "code",
   "execution_count": 68,
   "metadata": {},
   "outputs": [
    {
     "data": {
      "text/plain": [
       "(2018352, 13)"
      ]
     },
     "execution_count": 68,
     "metadata": {},
     "output_type": "execute_result"
    }
   ],
   "source": [
    "train_m.drop(columns=[\"eic_count\", \"installed_capacity\", \"data_block_id_client\"], inplace=True)\n",
    "train_m = train_m.merge(\n",
    "    missing_client,\n",
    "    on=[\"county\", \"is_business\", \"product_type\", \"date\"],\n",
    "    suffixes=(\"\", \"_client\")\n",
    ")\n",
    "train_m.shape"
   ]
  },
  {
   "cell_type": "code",
   "execution_count": 69,
   "metadata": {},
   "outputs": [
    {
     "data": {
      "text/plain": [
       "county                0\n",
       "is_business           0\n",
       "product_type          0\n",
       "is_consumption        0\n",
       "datetime              0\n",
       "data_block_id         0\n",
       "row_id                0\n",
       "prediction_unit_id    0\n",
       "date                  0\n",
       "time                  0\n",
       "target                0\n",
       "eic_count             0\n",
       "installed_capacity    0\n",
       "dtype: int64"
      ]
     },
     "execution_count": 69,
     "metadata": {},
     "output_type": "execute_result"
    }
   ],
   "source": [
    "train_m.isna().sum()"
   ]
  },
  {
   "cell_type": "markdown",
   "metadata": {},
   "source": [
    "* No missing data anymore, let's move to next dataset."
   ]
  },
  {
   "cell_type": "markdown",
   "metadata": {},
   "source": [
    "## 4.2 Merging weather_map with forecast_weather data"
   ]
  },
  {
   "cell_type": "code",
   "execution_count": 70,
   "metadata": {},
   "outputs": [
    {
     "data": {
      "text/html": [
       "<div>\n",
       "<style scoped>\n",
       "    .dataframe tbody tr th:only-of-type {\n",
       "        vertical-align: middle;\n",
       "    }\n",
       "\n",
       "    .dataframe tbody tr th {\n",
       "        vertical-align: top;\n",
       "    }\n",
       "\n",
       "    .dataframe thead th {\n",
       "        text-align: right;\n",
       "    }\n",
       "</style>\n",
       "<table border=\"1\" class=\"dataframe\">\n",
       "  <thead>\n",
       "    <tr style=\"text-align: right;\">\n",
       "      <th></th>\n",
       "      <th>county_name</th>\n",
       "      <th>longitude</th>\n",
       "      <th>latitude</th>\n",
       "      <th>county</th>\n",
       "    </tr>\n",
       "  </thead>\n",
       "  <tbody>\n",
       "    <tr>\n",
       "      <th>36</th>\n",
       "      <td>Läänemaa</td>\n",
       "      <td>23.7</td>\n",
       "      <td>58.8</td>\n",
       "      <td>6</td>\n",
       "    </tr>\n",
       "    <tr>\n",
       "      <th>61</th>\n",
       "      <td>Harjumaa</td>\n",
       "      <td>25.2</td>\n",
       "      <td>59.1</td>\n",
       "      <td>0</td>\n",
       "    </tr>\n",
       "    <tr>\n",
       "      <th>34</th>\n",
       "      <td>UNKOWN</td>\n",
       "      <td>23.7</td>\n",
       "      <td>58.2</td>\n",
       "      <td>12</td>\n",
       "    </tr>\n",
       "    <tr>\n",
       "      <th>41</th>\n",
       "      <td>UNKOWN</td>\n",
       "      <td>24.2</td>\n",
       "      <td>57.9</td>\n",
       "      <td>12</td>\n",
       "    </tr>\n",
       "    <tr>\n",
       "      <th>85</th>\n",
       "      <td>Lääne-Virumaa</td>\n",
       "      <td>26.7</td>\n",
       "      <td>59.1</td>\n",
       "      <td>5</td>\n",
       "    </tr>\n",
       "  </tbody>\n",
       "</table>\n",
       "</div>"
      ],
      "text/plain": [
       "      county_name  longitude  latitude  county\n",
       "36       Läänemaa       23.7      58.8       6\n",
       "61       Harjumaa       25.2      59.1       0\n",
       "34         UNKOWN       23.7      58.2      12\n",
       "41         UNKOWN       24.2      57.9      12\n",
       "85  Lääne-Virumaa       26.7      59.1       5"
      ]
     },
     "execution_count": 70,
     "metadata": {},
     "output_type": "execute_result"
    }
   ],
   "source": [
    "weather_map.sample(5)"
   ]
  },
  {
   "cell_type": "code",
   "execution_count": 71,
   "metadata": {},
   "outputs": [
    {
     "data": {
      "text/html": [
       "<div>\n",
       "<style scoped>\n",
       "    .dataframe tbody tr th:only-of-type {\n",
       "        vertical-align: middle;\n",
       "    }\n",
       "\n",
       "    .dataframe tbody tr th {\n",
       "        vertical-align: top;\n",
       "    }\n",
       "\n",
       "    .dataframe thead th {\n",
       "        text-align: right;\n",
       "    }\n",
       "</style>\n",
       "<table border=\"1\" class=\"dataframe\">\n",
       "  <thead>\n",
       "    <tr style=\"text-align: right;\">\n",
       "      <th></th>\n",
       "      <th>latitude</th>\n",
       "      <th>longitude</th>\n",
       "      <th>origin_datetime</th>\n",
       "      <th>hours_ahead</th>\n",
       "      <th>temperature</th>\n",
       "      <th>dewpoint</th>\n",
       "      <th>cloudcover_high</th>\n",
       "      <th>cloudcover_low</th>\n",
       "      <th>cloudcover_mid</th>\n",
       "      <th>cloudcover_total</th>\n",
       "      <th>10_metre_u_wind_component</th>\n",
       "      <th>10_metre_v_wind_component</th>\n",
       "      <th>data_block_id</th>\n",
       "      <th>forecast_datetime</th>\n",
       "      <th>direct_solar_radiation</th>\n",
       "      <th>surface_solar_radiation_downwards</th>\n",
       "      <th>snowfall</th>\n",
       "      <th>total_precipitation</th>\n",
       "    </tr>\n",
       "  </thead>\n",
       "  <tbody>\n",
       "    <tr>\n",
       "      <th>975593</th>\n",
       "      <td>59.1</td>\n",
       "      <td>23.2</td>\n",
       "      <td>2022-03-01 01:00:00</td>\n",
       "      <td>23</td>\n",
       "      <td>0.905176</td>\n",
       "      <td>-0.694678</td>\n",
       "      <td>0.959442</td>\n",
       "      <td>0.000000</td>\n",
       "      <td>0.000000</td>\n",
       "      <td>0.959442</td>\n",
       "      <td>4.224582</td>\n",
       "      <td>4.492805</td>\n",
       "      <td>182</td>\n",
       "      <td>2022-03-02 00:00:00</td>\n",
       "      <td>0.0</td>\n",
       "      <td>0.0</td>\n",
       "      <td>0.0</td>\n",
       "      <td>0.000000</td>\n",
       "    </tr>\n",
       "    <tr>\n",
       "      <th>2048676</th>\n",
       "      <td>59.4</td>\n",
       "      <td>21.7</td>\n",
       "      <td>2022-09-17 02:00:00</td>\n",
       "      <td>4</td>\n",
       "      <td>12.388696</td>\n",
       "      <td>9.097925</td>\n",
       "      <td>0.377411</td>\n",
       "      <td>0.995979</td>\n",
       "      <td>0.837708</td>\n",
       "      <td>0.999328</td>\n",
       "      <td>3.622288</td>\n",
       "      <td>-1.442930</td>\n",
       "      <td>382</td>\n",
       "      <td>2022-09-17 06:00:00</td>\n",
       "      <td>0.0</td>\n",
       "      <td>0.0</td>\n",
       "      <td>0.0</td>\n",
       "      <td>0.001238</td>\n",
       "    </tr>\n",
       "  </tbody>\n",
       "</table>\n",
       "</div>"
      ],
      "text/plain": [
       "         latitude  longitude     origin_datetime  hours_ahead  temperature  \\\n",
       "975593       59.1       23.2 2022-03-01 01:00:00           23     0.905176   \n",
       "2048676      59.4       21.7 2022-09-17 02:00:00            4    12.388696   \n",
       "\n",
       "         dewpoint  cloudcover_high  cloudcover_low  cloudcover_mid  \\\n",
       "975593  -0.694678         0.959442        0.000000        0.000000   \n",
       "2048676  9.097925         0.377411        0.995979        0.837708   \n",
       "\n",
       "         cloudcover_total  10_metre_u_wind_component  \\\n",
       "975593           0.959442                   4.224582   \n",
       "2048676          0.999328                   3.622288   \n",
       "\n",
       "         10_metre_v_wind_component  data_block_id   forecast_datetime  \\\n",
       "975593                    4.492805            182 2022-03-02 00:00:00   \n",
       "2048676                  -1.442930            382 2022-09-17 06:00:00   \n",
       "\n",
       "         direct_solar_radiation  surface_solar_radiation_downwards  snowfall  \\\n",
       "975593                      0.0                                0.0       0.0   \n",
       "2048676                     0.0                                0.0       0.0   \n",
       "\n",
       "         total_precipitation  \n",
       "975593              0.000000  \n",
       "2048676             0.001238  "
      ]
     },
     "execution_count": 71,
     "metadata": {},
     "output_type": "execute_result"
    }
   ],
   "source": [
    "forecast_weather.sample(2)"
   ]
  },
  {
   "cell_type": "code",
   "execution_count": 72,
   "metadata": {},
   "outputs": [
    {
     "data": {
      "text/plain": [
       "(3424512, 18)"
      ]
     },
     "execution_count": 72,
     "metadata": {},
     "output_type": "execute_result"
    }
   ],
   "source": [
    "forecast_weather.shape"
   ]
  },
  {
   "cell_type": "code",
   "execution_count": 73,
   "metadata": {},
   "outputs": [
    {
     "data": {
      "text/plain": [
       "(dtype('float64'), dtype('float64'), dtype('float64'), dtype('float64'))"
      ]
     },
     "execution_count": 73,
     "metadata": {},
     "output_type": "execute_result"
    }
   ],
   "source": [
    "weather_map.longitude.dtype, weather_map.latitude.dtype, forecast_weather.longitude.dtype, forecast_weather.latitude.dtype"
   ]
  },
  {
   "cell_type": "code",
   "execution_count": 74,
   "metadata": {},
   "outputs": [],
   "source": [
    "weather_map.latitude = weather_map.latitude.round(1)\n",
    "weather_map.longitude = weather_map.longitude.round(1)\n",
    "forecast_weather.latitude = forecast_weather.latitude.round(1)\n",
    "forecast_weather.longitude = forecast_weather.longitude.round(1)"
   ]
  },
  {
   "cell_type": "code",
   "execution_count": 75,
   "metadata": {},
   "outputs": [
    {
     "data": {
      "text/plain": [
       "(3424512, 20)"
      ]
     },
     "execution_count": 75,
     "metadata": {},
     "output_type": "execute_result"
    }
   ],
   "source": [
    "forecast_weather_m = forecast_weather.merge(\n",
    "    weather_map,\n",
    "    how=\"left\",\n",
    "    on=[\"longitude\", \"latitude\"],\n",
    "    suffixes=(\"\", \"_map\")\n",
    ")\n",
    "forecast_weather_m.shape"
   ]
  },
  {
   "cell_type": "code",
   "execution_count": 76,
   "metadata": {},
   "outputs": [
    {
     "data": {
      "text/plain": [
       "latitude                             0\n",
       "longitude                            0\n",
       "origin_datetime                      0\n",
       "hours_ahead                          0\n",
       "temperature                          0\n",
       "dewpoint                             0\n",
       "cloudcover_high                      0\n",
       "cloudcover_low                       0\n",
       "cloudcover_mid                       0\n",
       "cloudcover_total                     0\n",
       "10_metre_u_wind_component            0\n",
       "10_metre_v_wind_component            0\n",
       "data_block_id                        0\n",
       "forecast_datetime                    0\n",
       "direct_solar_radiation               0\n",
       "surface_solar_radiation_downwards    0\n",
       "snowfall                             0\n",
       "total_precipitation                  0\n",
       "county_name                          0\n",
       "county                               0\n",
       "dtype: int64"
      ]
     },
     "execution_count": 76,
     "metadata": {},
     "output_type": "execute_result"
    }
   ],
   "source": [
    "forecast_weather_m.isna().sum()"
   ]
  },
  {
   "cell_type": "code",
   "execution_count": 77,
   "metadata": {},
   "outputs": [
    {
     "data": {
      "text/plain": [
       "12    1926288\n",
       "0      183456\n",
       "15     152880\n",
       "7      152880\n",
       "10     122304\n",
       "11     122304\n",
       "5      122304\n",
       "2      122304\n",
       "14      91728\n",
       "4       91728\n",
       "9       91728\n",
       "3       91728\n",
       "6       61152\n",
       "13      30576\n",
       "8       30576\n",
       "1       30576\n",
       "Name: county, dtype: int64"
      ]
     },
     "execution_count": 77,
     "metadata": {},
     "output_type": "execute_result"
    }
   ],
   "source": [
    "forecast_weather_m.county.value_counts()"
   ]
  },
  {
   "cell_type": "code",
   "execution_count": 78,
   "metadata": {},
   "outputs": [],
   "source": [
    "del forecast_weather"
   ]
  },
  {
   "cell_type": "markdown",
   "metadata": {},
   "source": [
    "## 4.3 Merging weather_map with historic_weather data"
   ]
  },
  {
   "cell_type": "code",
   "execution_count": 79,
   "metadata": {},
   "outputs": [
    {
     "data": {
      "text/html": [
       "<div>\n",
       "<style scoped>\n",
       "    .dataframe tbody tr th:only-of-type {\n",
       "        vertical-align: middle;\n",
       "    }\n",
       "\n",
       "    .dataframe tbody tr th {\n",
       "        vertical-align: top;\n",
       "    }\n",
       "\n",
       "    .dataframe thead th {\n",
       "        text-align: right;\n",
       "    }\n",
       "</style>\n",
       "<table border=\"1\" class=\"dataframe\">\n",
       "  <thead>\n",
       "    <tr style=\"text-align: right;\">\n",
       "      <th></th>\n",
       "      <th>county_name</th>\n",
       "      <th>longitude</th>\n",
       "      <th>latitude</th>\n",
       "      <th>county</th>\n",
       "    </tr>\n",
       "  </thead>\n",
       "  <tbody>\n",
       "    <tr>\n",
       "      <th>80</th>\n",
       "      <td>Võrumaa</td>\n",
       "      <td>26.7</td>\n",
       "      <td>57.6</td>\n",
       "      <td>15</td>\n",
       "    </tr>\n",
       "    <tr>\n",
       "      <th>68</th>\n",
       "      <td>Järvamaa</td>\n",
       "      <td>25.7</td>\n",
       "      <td>58.8</td>\n",
       "      <td>3</td>\n",
       "    </tr>\n",
       "    <tr>\n",
       "      <th>2</th>\n",
       "      <td>UNKOWN</td>\n",
       "      <td>21.7</td>\n",
       "      <td>58.2</td>\n",
       "      <td>12</td>\n",
       "    </tr>\n",
       "    <tr>\n",
       "      <th>21</th>\n",
       "      <td>UNKOWN</td>\n",
       "      <td>22.7</td>\n",
       "      <td>59.1</td>\n",
       "      <td>12</td>\n",
       "    </tr>\n",
       "    <tr>\n",
       "      <th>102</th>\n",
       "      <td>Ida-Virumaa</td>\n",
       "      <td>27.7</td>\n",
       "      <td>59.4</td>\n",
       "      <td>2</td>\n",
       "    </tr>\n",
       "  </tbody>\n",
       "</table>\n",
       "</div>"
      ],
      "text/plain": [
       "     county_name  longitude  latitude  county\n",
       "80       Võrumaa       26.7      57.6      15\n",
       "68      Järvamaa       25.7      58.8       3\n",
       "2         UNKOWN       21.7      58.2      12\n",
       "21        UNKOWN       22.7      59.1      12\n",
       "102  Ida-Virumaa       27.7      59.4       2"
      ]
     },
     "execution_count": 79,
     "metadata": {},
     "output_type": "execute_result"
    }
   ],
   "source": [
    "weather_map.sample(5)"
   ]
  },
  {
   "cell_type": "code",
   "execution_count": 80,
   "metadata": {},
   "outputs": [
    {
     "data": {
      "text/html": [
       "<div>\n",
       "<style scoped>\n",
       "    .dataframe tbody tr th:only-of-type {\n",
       "        vertical-align: middle;\n",
       "    }\n",
       "\n",
       "    .dataframe tbody tr th {\n",
       "        vertical-align: top;\n",
       "    }\n",
       "\n",
       "    .dataframe thead th {\n",
       "        text-align: right;\n",
       "    }\n",
       "</style>\n",
       "<table border=\"1\" class=\"dataframe\">\n",
       "  <thead>\n",
       "    <tr style=\"text-align: right;\">\n",
       "      <th></th>\n",
       "      <th>datetime</th>\n",
       "      <th>temperature</th>\n",
       "      <th>dewpoint</th>\n",
       "      <th>rain</th>\n",
       "      <th>snowfall</th>\n",
       "      <th>surface_pressure</th>\n",
       "      <th>cloudcover_total</th>\n",
       "      <th>cloudcover_low</th>\n",
       "      <th>cloudcover_mid</th>\n",
       "      <th>cloudcover_high</th>\n",
       "      <th>windspeed_10m</th>\n",
       "      <th>winddirection_10m</th>\n",
       "      <th>shortwave_radiation</th>\n",
       "      <th>direct_solar_radiation</th>\n",
       "      <th>diffuse_radiation</th>\n",
       "      <th>latitude</th>\n",
       "      <th>longitude</th>\n",
       "      <th>data_block_id</th>\n",
       "    </tr>\n",
       "  </thead>\n",
       "  <tbody>\n",
       "    <tr>\n",
       "      <th>678811</th>\n",
       "      <td>2022-05-11 12:00:00</td>\n",
       "      <td>10.8</td>\n",
       "      <td>8.2</td>\n",
       "      <td>0.0</td>\n",
       "      <td>0.0</td>\n",
       "      <td>1001.0</td>\n",
       "      <td>94</td>\n",
       "      <td>100</td>\n",
       "      <td>6</td>\n",
       "      <td>0</td>\n",
       "      <td>6.444444</td>\n",
       "      <td>228</td>\n",
       "      <td>217.0</td>\n",
       "      <td>16.0</td>\n",
       "      <td>201.0</td>\n",
       "      <td>59.4</td>\n",
       "      <td>25.2</td>\n",
       "      <td>254.0</td>\n",
       "    </tr>\n",
       "    <tr>\n",
       "      <th>241669</th>\n",
       "      <td>2021-11-29 21:00:00</td>\n",
       "      <td>-1.2</td>\n",
       "      <td>-4.6</td>\n",
       "      <td>0.0</td>\n",
       "      <td>0.0</td>\n",
       "      <td>997.8</td>\n",
       "      <td>100</td>\n",
       "      <td>99</td>\n",
       "      <td>96</td>\n",
       "      <td>99</td>\n",
       "      <td>8.861111</td>\n",
       "      <td>27</td>\n",
       "      <td>0.0</td>\n",
       "      <td>0.0</td>\n",
       "      <td>0.0</td>\n",
       "      <td>59.4</td>\n",
       "      <td>22.2</td>\n",
       "      <td>91.0</td>\n",
       "    </tr>\n",
       "  </tbody>\n",
       "</table>\n",
       "</div>"
      ],
      "text/plain": [
       "                  datetime  temperature  dewpoint  rain  snowfall  \\\n",
       "678811 2022-05-11 12:00:00         10.8       8.2   0.0       0.0   \n",
       "241669 2021-11-29 21:00:00         -1.2      -4.6   0.0       0.0   \n",
       "\n",
       "        surface_pressure  cloudcover_total  cloudcover_low  cloudcover_mid  \\\n",
       "678811            1001.0                94             100               6   \n",
       "241669             997.8               100              99              96   \n",
       "\n",
       "        cloudcover_high  windspeed_10m  winddirection_10m  \\\n",
       "678811                0       6.444444                228   \n",
       "241669               99       8.861111                 27   \n",
       "\n",
       "        shortwave_radiation  direct_solar_radiation  diffuse_radiation  \\\n",
       "678811                217.0                    16.0              201.0   \n",
       "241669                  0.0                     0.0                0.0   \n",
       "\n",
       "        latitude  longitude  data_block_id  \n",
       "678811      59.4       25.2          254.0  \n",
       "241669      59.4       22.2           91.0  "
      ]
     },
     "execution_count": 80,
     "metadata": {},
     "output_type": "execute_result"
    }
   ],
   "source": [
    "historic_weather.sample(2)"
   ]
  },
  {
   "cell_type": "code",
   "execution_count": 81,
   "metadata": {},
   "outputs": [
    {
     "data": {
      "text/plain": [
       "(1710802, 18)"
      ]
     },
     "execution_count": 81,
     "metadata": {},
     "output_type": "execute_result"
    }
   ],
   "source": [
    "historic_weather.shape"
   ]
  },
  {
   "cell_type": "code",
   "execution_count": 82,
   "metadata": {},
   "outputs": [],
   "source": [
    "historic_weather.latitude = historic_weather.latitude.round(1)\n",
    "historic_weather.longitude = historic_weather.longitude.round(1)"
   ]
  },
  {
   "cell_type": "code",
   "execution_count": 83,
   "metadata": {},
   "outputs": [
    {
     "data": {
      "text/plain": [
       "(1710802, 20)"
      ]
     },
     "execution_count": 83,
     "metadata": {},
     "output_type": "execute_result"
    }
   ],
   "source": [
    "historic_weather_m = historic_weather.merge(\n",
    "    weather_map,\n",
    "    how=\"left\",\n",
    "    on=[\"latitude\", \"longitude\"],\n",
    "    suffixes=(\"\", \"_map\")\n",
    ")\n",
    "historic_weather_m.shape"
   ]
  },
  {
   "cell_type": "code",
   "execution_count": 84,
   "metadata": {},
   "outputs": [
    {
     "data": {
      "text/plain": [
       "datetime                  0\n",
       "temperature               0\n",
       "dewpoint                  0\n",
       "rain                      0\n",
       "snowfall                  0\n",
       "surface_pressure          0\n",
       "cloudcover_total          0\n",
       "cloudcover_low            0\n",
       "cloudcover_mid            0\n",
       "cloudcover_high           0\n",
       "windspeed_10m             0\n",
       "winddirection_10m         0\n",
       "shortwave_radiation       0\n",
       "direct_solar_radiation    0\n",
       "diffuse_radiation         0\n",
       "latitude                  0\n",
       "longitude                 0\n",
       "data_block_id             0\n",
       "county_name               0\n",
       "county                    0\n",
       "dtype: int64"
      ]
     },
     "execution_count": 84,
     "metadata": {},
     "output_type": "execute_result"
    }
   ],
   "source": [
    "historic_weather_m.isna().sum()"
   ]
  },
  {
   "cell_type": "markdown",
   "metadata": {},
   "source": [
    "* Great!! No missing values."
   ]
  },
  {
   "cell_type": "code",
   "execution_count": 85,
   "metadata": {},
   "outputs": [],
   "source": [
    "del historic_weather"
   ]
  },
  {
   "cell_type": "markdown",
   "metadata": {},
   "source": [
    "## 4.4 Merging gas prices to train data"
   ]
  },
  {
   "cell_type": "code",
   "execution_count": 86,
   "metadata": {},
   "outputs": [
    {
     "data": {
      "text/html": [
       "<div>\n",
       "<style scoped>\n",
       "    .dataframe tbody tr th:only-of-type {\n",
       "        vertical-align: middle;\n",
       "    }\n",
       "\n",
       "    .dataframe tbody tr th {\n",
       "        vertical-align: top;\n",
       "    }\n",
       "\n",
       "    .dataframe thead th {\n",
       "        text-align: right;\n",
       "    }\n",
       "</style>\n",
       "<table border=\"1\" class=\"dataframe\">\n",
       "  <thead>\n",
       "    <tr style=\"text-align: right;\">\n",
       "      <th></th>\n",
       "      <th>forecast_date</th>\n",
       "      <th>lowest_price_per_mwh</th>\n",
       "      <th>highest_price_per_mwh</th>\n",
       "      <th>origin_date</th>\n",
       "      <th>data_block_id</th>\n",
       "    </tr>\n",
       "  </thead>\n",
       "  <tbody>\n",
       "    <tr>\n",
       "      <th>632</th>\n",
       "      <td>2023-05-26</td>\n",
       "      <td>29.10</td>\n",
       "      <td>34.10</td>\n",
       "      <td>2023-05-25</td>\n",
       "      <td>633</td>\n",
       "    </tr>\n",
       "    <tr>\n",
       "      <th>633</th>\n",
       "      <td>2023-05-27</td>\n",
       "      <td>28.30</td>\n",
       "      <td>34.10</td>\n",
       "      <td>2023-05-26</td>\n",
       "      <td>634</td>\n",
       "    </tr>\n",
       "    <tr>\n",
       "      <th>634</th>\n",
       "      <td>2023-05-28</td>\n",
       "      <td>28.10</td>\n",
       "      <td>34.10</td>\n",
       "      <td>2023-05-27</td>\n",
       "      <td>635</td>\n",
       "    </tr>\n",
       "    <tr>\n",
       "      <th>635</th>\n",
       "      <td>2023-05-29</td>\n",
       "      <td>28.16</td>\n",
       "      <td>36.98</td>\n",
       "      <td>2023-05-28</td>\n",
       "      <td>636</td>\n",
       "    </tr>\n",
       "    <tr>\n",
       "      <th>636</th>\n",
       "      <td>2023-05-30</td>\n",
       "      <td>29.00</td>\n",
       "      <td>34.00</td>\n",
       "      <td>2023-05-29</td>\n",
       "      <td>637</td>\n",
       "    </tr>\n",
       "  </tbody>\n",
       "</table>\n",
       "</div>"
      ],
      "text/plain": [
       "    forecast_date  lowest_price_per_mwh  highest_price_per_mwh origin_date  \\\n",
       "632    2023-05-26                 29.10                  34.10  2023-05-25   \n",
       "633    2023-05-27                 28.30                  34.10  2023-05-26   \n",
       "634    2023-05-28                 28.10                  34.10  2023-05-27   \n",
       "635    2023-05-29                 28.16                  36.98  2023-05-28   \n",
       "636    2023-05-30                 29.00                  34.00  2023-05-29   \n",
       "\n",
       "     data_block_id  \n",
       "632            633  \n",
       "633            634  \n",
       "634            635  \n",
       "635            636  \n",
       "636            637  "
      ]
     },
     "execution_count": 86,
     "metadata": {},
     "output_type": "execute_result"
    }
   ],
   "source": [
    "gas_price.tail(5)"
   ]
  },
  {
   "cell_type": "code",
   "execution_count": 87,
   "metadata": {},
   "outputs": [
    {
     "data": {
      "text/html": [
       "<div>\n",
       "<style scoped>\n",
       "    .dataframe tbody tr th:only-of-type {\n",
       "        vertical-align: middle;\n",
       "    }\n",
       "\n",
       "    .dataframe tbody tr th {\n",
       "        vertical-align: top;\n",
       "    }\n",
       "\n",
       "    .dataframe thead th {\n",
       "        text-align: right;\n",
       "    }\n",
       "</style>\n",
       "<table border=\"1\" class=\"dataframe\">\n",
       "  <thead>\n",
       "    <tr style=\"text-align: right;\">\n",
       "      <th></th>\n",
       "      <th>county</th>\n",
       "      <th>is_business</th>\n",
       "      <th>product_type</th>\n",
       "      <th>is_consumption</th>\n",
       "      <th>datetime</th>\n",
       "      <th>data_block_id</th>\n",
       "      <th>row_id</th>\n",
       "      <th>prediction_unit_id</th>\n",
       "      <th>date</th>\n",
       "      <th>time</th>\n",
       "      <th>target</th>\n",
       "      <th>eic_count</th>\n",
       "      <th>installed_capacity</th>\n",
       "    </tr>\n",
       "  </thead>\n",
       "  <tbody>\n",
       "    <tr>\n",
       "      <th>2018350</th>\n",
       "      <td>15</td>\n",
       "      <td>1</td>\n",
       "      <td>3</td>\n",
       "      <td>0</td>\n",
       "      <td>2023-05-31 23:00:00</td>\n",
       "      <td>637</td>\n",
       "      <td>2018350</td>\n",
       "      <td>60</td>\n",
       "      <td>2023-05-31</td>\n",
       "      <td>23:00:00</td>\n",
       "      <td>0.00</td>\n",
       "      <td>55.0</td>\n",
       "      <td>2188.2</td>\n",
       "    </tr>\n",
       "    <tr>\n",
       "      <th>2018351</th>\n",
       "      <td>15</td>\n",
       "      <td>1</td>\n",
       "      <td>3</td>\n",
       "      <td>1</td>\n",
       "      <td>2023-05-31 23:00:00</td>\n",
       "      <td>637</td>\n",
       "      <td>2018351</td>\n",
       "      <td>60</td>\n",
       "      <td>2023-05-31</td>\n",
       "      <td>23:00:00</td>\n",
       "      <td>196.24</td>\n",
       "      <td>55.0</td>\n",
       "      <td>2188.2</td>\n",
       "    </tr>\n",
       "  </tbody>\n",
       "</table>\n",
       "</div>"
      ],
      "text/plain": [
       "         county  is_business  product_type  is_consumption  \\\n",
       "2018350      15            1             3               0   \n",
       "2018351      15            1             3               1   \n",
       "\n",
       "                   datetime  data_block_id   row_id  prediction_unit_id  \\\n",
       "2018350 2023-05-31 23:00:00            637  2018350                  60   \n",
       "2018351 2023-05-31 23:00:00            637  2018351                  60   \n",
       "\n",
       "              date      time  target  eic_count  installed_capacity  \n",
       "2018350 2023-05-31  23:00:00    0.00       55.0              2188.2  \n",
       "2018351 2023-05-31  23:00:00  196.24       55.0              2188.2  "
      ]
     },
     "execution_count": 87,
     "metadata": {},
     "output_type": "execute_result"
    }
   ],
   "source": [
    "train_m.tail(2)"
   ]
  },
  {
   "cell_type": "code",
   "execution_count": 88,
   "metadata": {},
   "outputs": [
    {
     "data": {
      "text/plain": [
       "(2018352, 13)"
      ]
     },
     "execution_count": 88,
     "metadata": {},
     "output_type": "execute_result"
    }
   ],
   "source": [
    "train_m.shape"
   ]
  },
  {
   "cell_type": "code",
   "execution_count": 89,
   "metadata": {},
   "outputs": [
    {
     "data": {
      "text/plain": [
       "(dtype('<M8[ns]'), dtype('<M8[ns]'))"
      ]
     },
     "execution_count": 89,
     "metadata": {},
     "output_type": "execute_result"
    }
   ],
   "source": [
    "gas_price.forecast_date.dtype, train_m.date.dtype"
   ]
  },
  {
   "cell_type": "code",
   "execution_count": 90,
   "metadata": {},
   "outputs": [],
   "source": [
    "gas_price.rename(columns={\"forecast_date\": \"date\"}, inplace=True)"
   ]
  },
  {
   "cell_type": "code",
   "execution_count": 91,
   "metadata": {},
   "outputs": [
    {
     "data": {
      "text/plain": [
       "(2018352, 17)"
      ]
     },
     "execution_count": 91,
     "metadata": {},
     "output_type": "execute_result"
    }
   ],
   "source": [
    "train_m_2 = train_m.merge(\n",
    "    gas_price,\n",
    "    how=\"left\",\n",
    "    on=\"date\",\n",
    "    suffixes=(\"\", \"_gas\")\n",
    ")\n",
    "train_m_2.shape"
   ]
  },
  {
   "cell_type": "code",
   "execution_count": 92,
   "metadata": {},
   "outputs": [
    {
     "data": {
      "text/plain": [
       "county                      0\n",
       "is_business                 0\n",
       "product_type                0\n",
       "is_consumption              0\n",
       "datetime                    0\n",
       "data_block_id               0\n",
       "row_id                      0\n",
       "prediction_unit_id          0\n",
       "date                        0\n",
       "time                        0\n",
       "target                      0\n",
       "eic_count                   0\n",
       "installed_capacity          0\n",
       "lowest_price_per_mwh     3120\n",
       "highest_price_per_mwh    3120\n",
       "origin_date              3120\n",
       "data_block_id_gas        3120\n",
       "dtype: int64"
      ]
     },
     "execution_count": 92,
     "metadata": {},
     "output_type": "execute_result"
    }
   ],
   "source": [
    "train_m_2.isna().sum()"
   ]
  },
  {
   "cell_type": "code",
   "execution_count": 93,
   "metadata": {},
   "outputs": [
    {
     "data": {
      "text/plain": [
       "2023-05-31    3120\n",
       "Name: date, dtype: int64"
      ]
     },
     "execution_count": 93,
     "metadata": {},
     "output_type": "execute_result"
    }
   ],
   "source": [
    "train_m_2[train_m_2.lowest_price_per_mwh.isna()][\"date\"].value_counts()"
   ]
  },
  {
   "cell_type": "markdown",
   "metadata": {},
   "source": [
    "* We do not have gas price data for *31*, let's imput this with previous day values."
   ]
  },
  {
   "cell_type": "code",
   "execution_count": 94,
   "metadata": {},
   "outputs": [
    {
     "data": {
      "text/html": [
       "<div>\n",
       "<style scoped>\n",
       "    .dataframe tbody tr th:only-of-type {\n",
       "        vertical-align: middle;\n",
       "    }\n",
       "\n",
       "    .dataframe tbody tr th {\n",
       "        vertical-align: top;\n",
       "    }\n",
       "\n",
       "    .dataframe thead th {\n",
       "        text-align: right;\n",
       "    }\n",
       "</style>\n",
       "<table border=\"1\" class=\"dataframe\">\n",
       "  <thead>\n",
       "    <tr style=\"text-align: right;\">\n",
       "      <th></th>\n",
       "      <th>county</th>\n",
       "      <th>is_business</th>\n",
       "      <th>product_type</th>\n",
       "      <th>date</th>\n",
       "      <th>lowest_price_per_mwh</th>\n",
       "      <th>highest_price_per_mwh</th>\n",
       "      <th>origin_date</th>\n",
       "      <th>data_block_id_gas</th>\n",
       "    </tr>\n",
       "  </thead>\n",
       "  <tbody>\n",
       "    <tr>\n",
       "      <th>0</th>\n",
       "      <td>0</td>\n",
       "      <td>0</td>\n",
       "      <td>1</td>\n",
       "      <td>2021-09-01</td>\n",
       "      <td>45.23</td>\n",
       "      <td>46.32</td>\n",
       "      <td>2021-08-31</td>\n",
       "      <td>1.0</td>\n",
       "    </tr>\n",
       "    <tr>\n",
       "      <th>1</th>\n",
       "      <td>0</td>\n",
       "      <td>0</td>\n",
       "      <td>1</td>\n",
       "      <td>2021-09-01</td>\n",
       "      <td>45.23</td>\n",
       "      <td>46.32</td>\n",
       "      <td>2021-08-31</td>\n",
       "      <td>1.0</td>\n",
       "    </tr>\n",
       "    <tr>\n",
       "      <th>2</th>\n",
       "      <td>0</td>\n",
       "      <td>0</td>\n",
       "      <td>1</td>\n",
       "      <td>2021-09-01</td>\n",
       "      <td>45.23</td>\n",
       "      <td>46.32</td>\n",
       "      <td>2021-08-31</td>\n",
       "      <td>1.0</td>\n",
       "    </tr>\n",
       "    <tr>\n",
       "      <th>3</th>\n",
       "      <td>0</td>\n",
       "      <td>0</td>\n",
       "      <td>1</td>\n",
       "      <td>2021-09-01</td>\n",
       "      <td>45.23</td>\n",
       "      <td>46.32</td>\n",
       "      <td>2021-08-31</td>\n",
       "      <td>1.0</td>\n",
       "    </tr>\n",
       "    <tr>\n",
       "      <th>4</th>\n",
       "      <td>0</td>\n",
       "      <td>0</td>\n",
       "      <td>1</td>\n",
       "      <td>2021-09-01</td>\n",
       "      <td>45.23</td>\n",
       "      <td>46.32</td>\n",
       "      <td>2021-08-31</td>\n",
       "      <td>1.0</td>\n",
       "    </tr>\n",
       "    <tr>\n",
       "      <th>...</th>\n",
       "      <td>...</td>\n",
       "      <td>...</td>\n",
       "      <td>...</td>\n",
       "      <td>...</td>\n",
       "      <td>...</td>\n",
       "      <td>...</td>\n",
       "      <td>...</td>\n",
       "      <td>...</td>\n",
       "    </tr>\n",
       "    <tr>\n",
       "      <th>2018347</th>\n",
       "      <td>15</td>\n",
       "      <td>1</td>\n",
       "      <td>3</td>\n",
       "      <td>2023-05-31</td>\n",
       "      <td>NaN</td>\n",
       "      <td>NaN</td>\n",
       "      <td>NaT</td>\n",
       "      <td>NaN</td>\n",
       "    </tr>\n",
       "    <tr>\n",
       "      <th>2018348</th>\n",
       "      <td>15</td>\n",
       "      <td>1</td>\n",
       "      <td>3</td>\n",
       "      <td>2023-05-31</td>\n",
       "      <td>NaN</td>\n",
       "      <td>NaN</td>\n",
       "      <td>NaT</td>\n",
       "      <td>NaN</td>\n",
       "    </tr>\n",
       "    <tr>\n",
       "      <th>2018349</th>\n",
       "      <td>15</td>\n",
       "      <td>1</td>\n",
       "      <td>3</td>\n",
       "      <td>2023-05-31</td>\n",
       "      <td>NaN</td>\n",
       "      <td>NaN</td>\n",
       "      <td>NaT</td>\n",
       "      <td>NaN</td>\n",
       "    </tr>\n",
       "    <tr>\n",
       "      <th>2018350</th>\n",
       "      <td>15</td>\n",
       "      <td>1</td>\n",
       "      <td>3</td>\n",
       "      <td>2023-05-31</td>\n",
       "      <td>NaN</td>\n",
       "      <td>NaN</td>\n",
       "      <td>NaT</td>\n",
       "      <td>NaN</td>\n",
       "    </tr>\n",
       "    <tr>\n",
       "      <th>2018351</th>\n",
       "      <td>15</td>\n",
       "      <td>1</td>\n",
       "      <td>3</td>\n",
       "      <td>2023-05-31</td>\n",
       "      <td>NaN</td>\n",
       "      <td>NaN</td>\n",
       "      <td>NaT</td>\n",
       "      <td>NaN</td>\n",
       "    </tr>\n",
       "  </tbody>\n",
       "</table>\n",
       "<p>2018352 rows × 8 columns</p>\n",
       "</div>"
      ],
      "text/plain": [
       "         county  is_business  product_type       date  lowest_price_per_mwh  \\\n",
       "0             0            0             1 2021-09-01                 45.23   \n",
       "1             0            0             1 2021-09-01                 45.23   \n",
       "2             0            0             1 2021-09-01                 45.23   \n",
       "3             0            0             1 2021-09-01                 45.23   \n",
       "4             0            0             1 2021-09-01                 45.23   \n",
       "...         ...          ...           ...        ...                   ...   \n",
       "2018347      15            1             3 2023-05-31                   NaN   \n",
       "2018348      15            1             3 2023-05-31                   NaN   \n",
       "2018349      15            1             3 2023-05-31                   NaN   \n",
       "2018350      15            1             3 2023-05-31                   NaN   \n",
       "2018351      15            1             3 2023-05-31                   NaN   \n",
       "\n",
       "         highest_price_per_mwh origin_date  data_block_id_gas  \n",
       "0                        46.32  2021-08-31                1.0  \n",
       "1                        46.32  2021-08-31                1.0  \n",
       "2                        46.32  2021-08-31                1.0  \n",
       "3                        46.32  2021-08-31                1.0  \n",
       "4                        46.32  2021-08-31                1.0  \n",
       "...                        ...         ...                ...  \n",
       "2018347                    NaN         NaT                NaN  \n",
       "2018348                    NaN         NaT                NaN  \n",
       "2018349                    NaN         NaT                NaN  \n",
       "2018350                    NaN         NaT                NaN  \n",
       "2018351                    NaN         NaT                NaN  \n",
       "\n",
       "[2018352 rows x 8 columns]"
      ]
     },
     "execution_count": 94,
     "metadata": {},
     "output_type": "execute_result"
    }
   ],
   "source": [
    "train_m_2[[\"county\", \"is_business\", \"product_type\", \"date\", \"lowest_price_per_mwh\", \"highest_price_per_mwh\", \"origin_date\", \"data_block_id_gas\"]]"
   ]
  },
  {
   "cell_type": "code",
   "execution_count": 95,
   "metadata": {},
   "outputs": [],
   "source": [
    "missing_gas = train_m_2.groupby([\"county\", \"is_business\", \"product_type\", \"date\"])[\"lowest_price_per_mwh\", \"highest_price_per_mwh\"].mean().reset_index().ffill()"
   ]
  },
  {
   "cell_type": "code",
   "execution_count": 96,
   "metadata": {},
   "outputs": [
    {
     "data": {
      "text/html": [
       "<div>\n",
       "<style scoped>\n",
       "    .dataframe tbody tr th:only-of-type {\n",
       "        vertical-align: middle;\n",
       "    }\n",
       "\n",
       "    .dataframe tbody tr th {\n",
       "        vertical-align: top;\n",
       "    }\n",
       "\n",
       "    .dataframe thead th {\n",
       "        text-align: right;\n",
       "    }\n",
       "</style>\n",
       "<table border=\"1\" class=\"dataframe\">\n",
       "  <thead>\n",
       "    <tr style=\"text-align: right;\">\n",
       "      <th></th>\n",
       "      <th>county</th>\n",
       "      <th>is_business</th>\n",
       "      <th>product_type</th>\n",
       "      <th>date</th>\n",
       "      <th>lowest_price_per_mwh</th>\n",
       "      <th>highest_price_per_mwh</th>\n",
       "    </tr>\n",
       "  </thead>\n",
       "  <tbody>\n",
       "    <tr>\n",
       "      <th>42044</th>\n",
       "      <td>15</td>\n",
       "      <td>1</td>\n",
       "      <td>3</td>\n",
       "      <td>2023-05-27</td>\n",
       "      <td>28.30</td>\n",
       "      <td>34.10</td>\n",
       "    </tr>\n",
       "    <tr>\n",
       "      <th>42045</th>\n",
       "      <td>15</td>\n",
       "      <td>1</td>\n",
       "      <td>3</td>\n",
       "      <td>2023-05-28</td>\n",
       "      <td>28.10</td>\n",
       "      <td>34.10</td>\n",
       "    </tr>\n",
       "    <tr>\n",
       "      <th>42046</th>\n",
       "      <td>15</td>\n",
       "      <td>1</td>\n",
       "      <td>3</td>\n",
       "      <td>2023-05-29</td>\n",
       "      <td>28.16</td>\n",
       "      <td>36.98</td>\n",
       "    </tr>\n",
       "    <tr>\n",
       "      <th>42047</th>\n",
       "      <td>15</td>\n",
       "      <td>1</td>\n",
       "      <td>3</td>\n",
       "      <td>2023-05-30</td>\n",
       "      <td>29.00</td>\n",
       "      <td>34.00</td>\n",
       "    </tr>\n",
       "    <tr>\n",
       "      <th>42048</th>\n",
       "      <td>15</td>\n",
       "      <td>1</td>\n",
       "      <td>3</td>\n",
       "      <td>2023-05-31</td>\n",
       "      <td>29.00</td>\n",
       "      <td>34.00</td>\n",
       "    </tr>\n",
       "  </tbody>\n",
       "</table>\n",
       "</div>"
      ],
      "text/plain": [
       "       county  is_business  product_type       date  lowest_price_per_mwh  \\\n",
       "42044      15            1             3 2023-05-27                 28.30   \n",
       "42045      15            1             3 2023-05-28                 28.10   \n",
       "42046      15            1             3 2023-05-29                 28.16   \n",
       "42047      15            1             3 2023-05-30                 29.00   \n",
       "42048      15            1             3 2023-05-31                 29.00   \n",
       "\n",
       "       highest_price_per_mwh  \n",
       "42044                  34.10  \n",
       "42045                  34.10  \n",
       "42046                  36.98  \n",
       "42047                  34.00  \n",
       "42048                  34.00  "
      ]
     },
     "execution_count": 96,
     "metadata": {},
     "output_type": "execute_result"
    }
   ],
   "source": [
    "missing_gas.tail()"
   ]
  },
  {
   "cell_type": "code",
   "execution_count": 97,
   "metadata": {},
   "outputs": [
    {
     "data": {
      "text/plain": [
       "(2018352, 15)"
      ]
     },
     "execution_count": 97,
     "metadata": {},
     "output_type": "execute_result"
    }
   ],
   "source": [
    "train_m_2.drop(columns=[\"lowest_price_per_mwh\", \"highest_price_per_mwh\", \"origin_date\", \"data_block_id_gas\"], inplace=True)\n",
    "train_m_2 = train_m_2.merge(\n",
    "    missing_gas,\n",
    "    how=\"left\",\n",
    "    on=[\"county\", \"is_business\", \"product_type\", \"date\"],\n",
    "    suffixes=(\"\", \"_gas\")\n",
    ")\n",
    "train_m_2.shape"
   ]
  },
  {
   "cell_type": "code",
   "execution_count": 98,
   "metadata": {},
   "outputs": [
    {
     "data": {
      "text/plain": [
       "county                   0\n",
       "is_business              0\n",
       "product_type             0\n",
       "is_consumption           0\n",
       "datetime                 0\n",
       "data_block_id            0\n",
       "row_id                   0\n",
       "prediction_unit_id       0\n",
       "date                     0\n",
       "time                     0\n",
       "target                   0\n",
       "eic_count                0\n",
       "installed_capacity       0\n",
       "lowest_price_per_mwh     0\n",
       "highest_price_per_mwh    0\n",
       "dtype: int64"
      ]
     },
     "execution_count": 98,
     "metadata": {},
     "output_type": "execute_result"
    }
   ],
   "source": [
    "train_m_2.isna().sum()"
   ]
  },
  {
   "cell_type": "markdown",
   "metadata": {},
   "source": [
    "* No missing data anymore, let's move to next dataset."
   ]
  },
  {
   "cell_type": "code",
   "execution_count": 99,
   "metadata": {},
   "outputs": [],
   "source": [
    "del train_m"
   ]
  },
  {
   "cell_type": "markdown",
   "metadata": {},
   "source": [
    "## 4.5 Merging electricity prices to train data"
   ]
  },
  {
   "cell_type": "code",
   "execution_count": 100,
   "metadata": {},
   "outputs": [
    {
     "data": {
      "text/html": [
       "<div>\n",
       "<style scoped>\n",
       "    .dataframe tbody tr th:only-of-type {\n",
       "        vertical-align: middle;\n",
       "    }\n",
       "\n",
       "    .dataframe tbody tr th {\n",
       "        vertical-align: top;\n",
       "    }\n",
       "\n",
       "    .dataframe thead th {\n",
       "        text-align: right;\n",
       "    }\n",
       "</style>\n",
       "<table border=\"1\" class=\"dataframe\">\n",
       "  <thead>\n",
       "    <tr style=\"text-align: right;\">\n",
       "      <th></th>\n",
       "      <th>forecast_date</th>\n",
       "      <th>euros_per_mwh</th>\n",
       "      <th>origin_date</th>\n",
       "      <th>data_block_id</th>\n",
       "    </tr>\n",
       "  </thead>\n",
       "  <tbody>\n",
       "    <tr>\n",
       "      <th>15281</th>\n",
       "      <td>2023-05-30 19:00:00</td>\n",
       "      <td>82.10</td>\n",
       "      <td>2023-05-29 19:00:00</td>\n",
       "      <td>637</td>\n",
       "    </tr>\n",
       "    <tr>\n",
       "      <th>15282</th>\n",
       "      <td>2023-05-30 20:00:00</td>\n",
       "      <td>150.85</td>\n",
       "      <td>2023-05-29 20:00:00</td>\n",
       "      <td>637</td>\n",
       "    </tr>\n",
       "    <tr>\n",
       "      <th>15283</th>\n",
       "      <td>2023-05-30 21:00:00</td>\n",
       "      <td>82.10</td>\n",
       "      <td>2023-05-29 21:00:00</td>\n",
       "      <td>637</td>\n",
       "    </tr>\n",
       "    <tr>\n",
       "      <th>15284</th>\n",
       "      <td>2023-05-30 22:00:00</td>\n",
       "      <td>82.09</td>\n",
       "      <td>2023-05-29 22:00:00</td>\n",
       "      <td>637</td>\n",
       "    </tr>\n",
       "    <tr>\n",
       "      <th>15285</th>\n",
       "      <td>2023-05-30 23:00:00</td>\n",
       "      <td>-1.29</td>\n",
       "      <td>2023-05-29 23:00:00</td>\n",
       "      <td>637</td>\n",
       "    </tr>\n",
       "  </tbody>\n",
       "</table>\n",
       "</div>"
      ],
      "text/plain": [
       "            forecast_date  euros_per_mwh         origin_date  data_block_id\n",
       "15281 2023-05-30 19:00:00          82.10 2023-05-29 19:00:00            637\n",
       "15282 2023-05-30 20:00:00         150.85 2023-05-29 20:00:00            637\n",
       "15283 2023-05-30 21:00:00          82.10 2023-05-29 21:00:00            637\n",
       "15284 2023-05-30 22:00:00          82.09 2023-05-29 22:00:00            637\n",
       "15285 2023-05-30 23:00:00          -1.29 2023-05-29 23:00:00            637"
      ]
     },
     "execution_count": 100,
     "metadata": {},
     "output_type": "execute_result"
    }
   ],
   "source": [
    "electricity_price.tail(5)"
   ]
  },
  {
   "cell_type": "code",
   "execution_count": 101,
   "metadata": {},
   "outputs": [
    {
     "data": {
      "text/html": [
       "<div>\n",
       "<style scoped>\n",
       "    .dataframe tbody tr th:only-of-type {\n",
       "        vertical-align: middle;\n",
       "    }\n",
       "\n",
       "    .dataframe tbody tr th {\n",
       "        vertical-align: top;\n",
       "    }\n",
       "\n",
       "    .dataframe thead th {\n",
       "        text-align: right;\n",
       "    }\n",
       "</style>\n",
       "<table border=\"1\" class=\"dataframe\">\n",
       "  <thead>\n",
       "    <tr style=\"text-align: right;\">\n",
       "      <th></th>\n",
       "      <th>county</th>\n",
       "      <th>is_business</th>\n",
       "      <th>product_type</th>\n",
       "      <th>is_consumption</th>\n",
       "      <th>datetime</th>\n",
       "      <th>data_block_id</th>\n",
       "      <th>row_id</th>\n",
       "      <th>prediction_unit_id</th>\n",
       "      <th>date</th>\n",
       "      <th>time</th>\n",
       "      <th>target</th>\n",
       "      <th>eic_count</th>\n",
       "      <th>installed_capacity</th>\n",
       "      <th>lowest_price_per_mwh</th>\n",
       "      <th>highest_price_per_mwh</th>\n",
       "    </tr>\n",
       "  </thead>\n",
       "  <tbody>\n",
       "    <tr>\n",
       "      <th>2018350</th>\n",
       "      <td>15</td>\n",
       "      <td>1</td>\n",
       "      <td>3</td>\n",
       "      <td>0</td>\n",
       "      <td>2023-05-31 23:00:00</td>\n",
       "      <td>637</td>\n",
       "      <td>2018350</td>\n",
       "      <td>60</td>\n",
       "      <td>2023-05-31</td>\n",
       "      <td>23:00:00</td>\n",
       "      <td>0.00</td>\n",
       "      <td>55.0</td>\n",
       "      <td>2188.2</td>\n",
       "      <td>29.0</td>\n",
       "      <td>34.0</td>\n",
       "    </tr>\n",
       "    <tr>\n",
       "      <th>2018351</th>\n",
       "      <td>15</td>\n",
       "      <td>1</td>\n",
       "      <td>3</td>\n",
       "      <td>1</td>\n",
       "      <td>2023-05-31 23:00:00</td>\n",
       "      <td>637</td>\n",
       "      <td>2018351</td>\n",
       "      <td>60</td>\n",
       "      <td>2023-05-31</td>\n",
       "      <td>23:00:00</td>\n",
       "      <td>196.24</td>\n",
       "      <td>55.0</td>\n",
       "      <td>2188.2</td>\n",
       "      <td>29.0</td>\n",
       "      <td>34.0</td>\n",
       "    </tr>\n",
       "  </tbody>\n",
       "</table>\n",
       "</div>"
      ],
      "text/plain": [
       "         county  is_business  product_type  is_consumption  \\\n",
       "2018350      15            1             3               0   \n",
       "2018351      15            1             3               1   \n",
       "\n",
       "                   datetime  data_block_id   row_id  prediction_unit_id  \\\n",
       "2018350 2023-05-31 23:00:00            637  2018350                  60   \n",
       "2018351 2023-05-31 23:00:00            637  2018351                  60   \n",
       "\n",
       "              date      time  target  eic_count  installed_capacity  \\\n",
       "2018350 2023-05-31  23:00:00    0.00       55.0              2188.2   \n",
       "2018351 2023-05-31  23:00:00  196.24       55.0              2188.2   \n",
       "\n",
       "         lowest_price_per_mwh  highest_price_per_mwh  \n",
       "2018350                  29.0                   34.0  \n",
       "2018351                  29.0                   34.0  "
      ]
     },
     "execution_count": 101,
     "metadata": {},
     "output_type": "execute_result"
    }
   ],
   "source": [
    "train_m_2.tail(2)"
   ]
  },
  {
   "cell_type": "code",
   "execution_count": 102,
   "metadata": {},
   "outputs": [
    {
     "data": {
      "text/plain": [
       "(2018352, 15)"
      ]
     },
     "execution_count": 102,
     "metadata": {},
     "output_type": "execute_result"
    }
   ],
   "source": [
    "train_m_2.shape"
   ]
  },
  {
   "cell_type": "code",
   "execution_count": 103,
   "metadata": {},
   "outputs": [
    {
     "data": {
      "text/plain": [
       "(dtype('<M8[ns]'), dtype('<M8[ns]'))"
      ]
     },
     "execution_count": 103,
     "metadata": {},
     "output_type": "execute_result"
    }
   ],
   "source": [
    "electricity_price.forecast_date.dtype, train_m_2.datetime.dtype"
   ]
  },
  {
   "cell_type": "code",
   "execution_count": 104,
   "metadata": {},
   "outputs": [],
   "source": [
    "electricity_price.rename(columns={\"forecast_date\": \"datetime\"}, inplace=True)"
   ]
  },
  {
   "cell_type": "code",
   "execution_count": 105,
   "metadata": {},
   "outputs": [
    {
     "data": {
      "text/plain": [
       "(2018352, 18)"
      ]
     },
     "execution_count": 105,
     "metadata": {},
     "output_type": "execute_result"
    }
   ],
   "source": [
    "train_m_3 = train_m_2.merge(\n",
    "    electricity_price,\n",
    "    how=\"left\",\n",
    "    on=\"datetime\",\n",
    "    suffixes=(\"\", \"_elec\")\n",
    ")\n",
    "train_m_3.shape"
   ]
  },
  {
   "cell_type": "code",
   "execution_count": 106,
   "metadata": {},
   "outputs": [
    {
     "data": {
      "text/plain": [
       "county                      0\n",
       "is_business                 0\n",
       "product_type                0\n",
       "is_consumption              0\n",
       "datetime                    0\n",
       "data_block_id               0\n",
       "row_id                      0\n",
       "prediction_unit_id          0\n",
       "date                        0\n",
       "time                        0\n",
       "target                      0\n",
       "eic_count                   0\n",
       "installed_capacity          0\n",
       "lowest_price_per_mwh        0\n",
       "highest_price_per_mwh       0\n",
       "euros_per_mwh            3386\n",
       "origin_date              3386\n",
       "data_block_id_elec       3386\n",
       "dtype: int64"
      ]
     },
     "execution_count": 106,
     "metadata": {},
     "output_type": "execute_result"
    }
   ],
   "source": [
    "train_m_3.isna().sum()"
   ]
  },
  {
   "cell_type": "code",
   "execution_count": 107,
   "metadata": {},
   "outputs": [
    {
     "data": {
      "text/plain": [
       "2023-05-31    3120\n",
       "2022-03-27     134\n",
       "2023-03-26     132\n",
       "Name: date, dtype: int64"
      ]
     },
     "execution_count": 107,
     "metadata": {},
     "output_type": "execute_result"
    }
   ],
   "source": [
    "train_m_3[train_m_3.euros_per_mwh.isna()][\"date\"].value_counts()"
   ]
  },
  {
   "cell_type": "markdown",
   "metadata": {},
   "source": [
    "* We do not have electricity price data for *31* and for hour 2:00:00 for two other dates. let's imput this with previous day values."
   ]
  },
  {
   "cell_type": "code",
   "execution_count": 108,
   "metadata": {},
   "outputs": [
    {
     "data": {
      "text/html": [
       "<div>\n",
       "<style scoped>\n",
       "    .dataframe tbody tr th:only-of-type {\n",
       "        vertical-align: middle;\n",
       "    }\n",
       "\n",
       "    .dataframe tbody tr th {\n",
       "        vertical-align: top;\n",
       "    }\n",
       "\n",
       "    .dataframe thead th {\n",
       "        text-align: right;\n",
       "    }\n",
       "</style>\n",
       "<table border=\"1\" class=\"dataframe\">\n",
       "  <thead>\n",
       "    <tr style=\"text-align: right;\">\n",
       "      <th></th>\n",
       "      <th>county</th>\n",
       "      <th>is_business</th>\n",
       "      <th>product_type</th>\n",
       "      <th>datetime</th>\n",
       "      <th>euros_per_mwh</th>\n",
       "      <th>origin_date</th>\n",
       "      <th>data_block_id_elec</th>\n",
       "    </tr>\n",
       "  </thead>\n",
       "  <tbody>\n",
       "    <tr>\n",
       "      <th>0</th>\n",
       "      <td>0</td>\n",
       "      <td>0</td>\n",
       "      <td>1</td>\n",
       "      <td>2021-09-01 00:00:00</td>\n",
       "      <td>92.51</td>\n",
       "      <td>2021-08-31 00:00:00</td>\n",
       "      <td>1.0</td>\n",
       "    </tr>\n",
       "    <tr>\n",
       "      <th>1</th>\n",
       "      <td>0</td>\n",
       "      <td>0</td>\n",
       "      <td>1</td>\n",
       "      <td>2021-09-01 00:00:00</td>\n",
       "      <td>92.51</td>\n",
       "      <td>2021-08-31 00:00:00</td>\n",
       "      <td>1.0</td>\n",
       "    </tr>\n",
       "    <tr>\n",
       "      <th>2</th>\n",
       "      <td>0</td>\n",
       "      <td>0</td>\n",
       "      <td>1</td>\n",
       "      <td>2021-09-01 01:00:00</td>\n",
       "      <td>88.90</td>\n",
       "      <td>2021-08-31 01:00:00</td>\n",
       "      <td>1.0</td>\n",
       "    </tr>\n",
       "    <tr>\n",
       "      <th>3</th>\n",
       "      <td>0</td>\n",
       "      <td>0</td>\n",
       "      <td>1</td>\n",
       "      <td>2021-09-01 01:00:00</td>\n",
       "      <td>88.90</td>\n",
       "      <td>2021-08-31 01:00:00</td>\n",
       "      <td>1.0</td>\n",
       "    </tr>\n",
       "    <tr>\n",
       "      <th>4</th>\n",
       "      <td>0</td>\n",
       "      <td>0</td>\n",
       "      <td>1</td>\n",
       "      <td>2021-09-01 02:00:00</td>\n",
       "      <td>87.35</td>\n",
       "      <td>2021-08-31 02:00:00</td>\n",
       "      <td>1.0</td>\n",
       "    </tr>\n",
       "    <tr>\n",
       "      <th>...</th>\n",
       "      <td>...</td>\n",
       "      <td>...</td>\n",
       "      <td>...</td>\n",
       "      <td>...</td>\n",
       "      <td>...</td>\n",
       "      <td>...</td>\n",
       "      <td>...</td>\n",
       "    </tr>\n",
       "    <tr>\n",
       "      <th>2018347</th>\n",
       "      <td>15</td>\n",
       "      <td>1</td>\n",
       "      <td>3</td>\n",
       "      <td>2023-05-31 21:00:00</td>\n",
       "      <td>NaN</td>\n",
       "      <td>NaT</td>\n",
       "      <td>NaN</td>\n",
       "    </tr>\n",
       "    <tr>\n",
       "      <th>2018348</th>\n",
       "      <td>15</td>\n",
       "      <td>1</td>\n",
       "      <td>3</td>\n",
       "      <td>2023-05-31 22:00:00</td>\n",
       "      <td>NaN</td>\n",
       "      <td>NaT</td>\n",
       "      <td>NaN</td>\n",
       "    </tr>\n",
       "    <tr>\n",
       "      <th>2018349</th>\n",
       "      <td>15</td>\n",
       "      <td>1</td>\n",
       "      <td>3</td>\n",
       "      <td>2023-05-31 22:00:00</td>\n",
       "      <td>NaN</td>\n",
       "      <td>NaT</td>\n",
       "      <td>NaN</td>\n",
       "    </tr>\n",
       "    <tr>\n",
       "      <th>2018350</th>\n",
       "      <td>15</td>\n",
       "      <td>1</td>\n",
       "      <td>3</td>\n",
       "      <td>2023-05-31 23:00:00</td>\n",
       "      <td>NaN</td>\n",
       "      <td>NaT</td>\n",
       "      <td>NaN</td>\n",
       "    </tr>\n",
       "    <tr>\n",
       "      <th>2018351</th>\n",
       "      <td>15</td>\n",
       "      <td>1</td>\n",
       "      <td>3</td>\n",
       "      <td>2023-05-31 23:00:00</td>\n",
       "      <td>NaN</td>\n",
       "      <td>NaT</td>\n",
       "      <td>NaN</td>\n",
       "    </tr>\n",
       "  </tbody>\n",
       "</table>\n",
       "<p>2018352 rows × 7 columns</p>\n",
       "</div>"
      ],
      "text/plain": [
       "         county  is_business  product_type            datetime  euros_per_mwh  \\\n",
       "0             0            0             1 2021-09-01 00:00:00          92.51   \n",
       "1             0            0             1 2021-09-01 00:00:00          92.51   \n",
       "2             0            0             1 2021-09-01 01:00:00          88.90   \n",
       "3             0            0             1 2021-09-01 01:00:00          88.90   \n",
       "4             0            0             1 2021-09-01 02:00:00          87.35   \n",
       "...         ...          ...           ...                 ...            ...   \n",
       "2018347      15            1             3 2023-05-31 21:00:00            NaN   \n",
       "2018348      15            1             3 2023-05-31 22:00:00            NaN   \n",
       "2018349      15            1             3 2023-05-31 22:00:00            NaN   \n",
       "2018350      15            1             3 2023-05-31 23:00:00            NaN   \n",
       "2018351      15            1             3 2023-05-31 23:00:00            NaN   \n",
       "\n",
       "                origin_date  data_block_id_elec  \n",
       "0       2021-08-31 00:00:00                 1.0  \n",
       "1       2021-08-31 00:00:00                 1.0  \n",
       "2       2021-08-31 01:00:00                 1.0  \n",
       "3       2021-08-31 01:00:00                 1.0  \n",
       "4       2021-08-31 02:00:00                 1.0  \n",
       "...                     ...                 ...  \n",
       "2018347                 NaT                 NaN  \n",
       "2018348                 NaT                 NaN  \n",
       "2018349                 NaT                 NaN  \n",
       "2018350                 NaT                 NaN  \n",
       "2018351                 NaT                 NaN  \n",
       "\n",
       "[2018352 rows x 7 columns]"
      ]
     },
     "execution_count": 108,
     "metadata": {},
     "output_type": "execute_result"
    }
   ],
   "source": [
    "train_m_3[[\"county\", \"is_business\", \"product_type\", \"datetime\", \"euros_per_mwh\", \"origin_date\", \"data_block_id_elec\"]]"
   ]
  },
  {
   "cell_type": "code",
   "execution_count": 109,
   "metadata": {},
   "outputs": [],
   "source": [
    "train_m_3[\"time\"] = train_m_3.datetime.dt.time"
   ]
  },
  {
   "cell_type": "code",
   "execution_count": 110,
   "metadata": {},
   "outputs": [
    {
     "data": {
      "text/plain": [
       "False    2018352\n",
       "dtype: int64"
      ]
     },
     "execution_count": 110,
     "metadata": {},
     "output_type": "execute_result"
    }
   ],
   "source": [
    "train_m_3[[\"county\", \"is_business\", \"product_type\", \"is_consumption\", \"time\", \"date\"]].duplicated().value_counts()"
   ]
  },
  {
   "cell_type": "code",
   "execution_count": 111,
   "metadata": {},
   "outputs": [],
   "source": [
    "missing_elec = train_m_3.groupby([\"county\", \"is_business\", \"product_type\", \"is_consumption\", \"time\", \"date\"])[\"euros_per_mwh\"].mean().reset_index().ffill()"
   ]
  },
  {
   "cell_type": "code",
   "execution_count": 112,
   "metadata": {},
   "outputs": [
    {
     "data": {
      "text/html": [
       "<div>\n",
       "<style scoped>\n",
       "    .dataframe tbody tr th:only-of-type {\n",
       "        vertical-align: middle;\n",
       "    }\n",
       "\n",
       "    .dataframe tbody tr th {\n",
       "        vertical-align: top;\n",
       "    }\n",
       "\n",
       "    .dataframe thead th {\n",
       "        text-align: right;\n",
       "    }\n",
       "</style>\n",
       "<table border=\"1\" class=\"dataframe\">\n",
       "  <thead>\n",
       "    <tr style=\"text-align: right;\">\n",
       "      <th></th>\n",
       "      <th>county</th>\n",
       "      <th>is_business</th>\n",
       "      <th>product_type</th>\n",
       "      <th>is_consumption</th>\n",
       "      <th>datetime</th>\n",
       "      <th>data_block_id</th>\n",
       "      <th>row_id</th>\n",
       "      <th>prediction_unit_id</th>\n",
       "      <th>date</th>\n",
       "      <th>time</th>\n",
       "      <th>target</th>\n",
       "      <th>eic_count</th>\n",
       "      <th>installed_capacity</th>\n",
       "      <th>lowest_price_per_mwh</th>\n",
       "      <th>highest_price_per_mwh</th>\n",
       "      <th>euros_per_mwh</th>\n",
       "      <th>origin_date</th>\n",
       "      <th>data_block_id_elec</th>\n",
       "    </tr>\n",
       "  </thead>\n",
       "  <tbody>\n",
       "    <tr>\n",
       "      <th>2012107</th>\n",
       "      <td>15</td>\n",
       "      <td>1</td>\n",
       "      <td>3</td>\n",
       "      <td>1</td>\n",
       "      <td>2023-05-29 21:00:00</td>\n",
       "      <td>635</td>\n",
       "      <td>2011851</td>\n",
       "      <td>60</td>\n",
       "      <td>2023-05-29</td>\n",
       "      <td>21:00:00</td>\n",
       "      <td>296.073</td>\n",
       "      <td>55.0</td>\n",
       "      <td>2188.2</td>\n",
       "      <td>28.16</td>\n",
       "      <td>36.98</td>\n",
       "      <td>82.30</td>\n",
       "      <td>2023-05-28 21:00:00</td>\n",
       "      <td>636.0</td>\n",
       "    </tr>\n",
       "    <tr>\n",
       "      <th>2012108</th>\n",
       "      <td>15</td>\n",
       "      <td>1</td>\n",
       "      <td>3</td>\n",
       "      <td>0</td>\n",
       "      <td>2023-05-29 22:00:00</td>\n",
       "      <td>635</td>\n",
       "      <td>2011980</td>\n",
       "      <td>60</td>\n",
       "      <td>2023-05-29</td>\n",
       "      <td>22:00:00</td>\n",
       "      <td>0.000</td>\n",
       "      <td>55.0</td>\n",
       "      <td>2188.2</td>\n",
       "      <td>28.16</td>\n",
       "      <td>36.98</td>\n",
       "      <td>82.29</td>\n",
       "      <td>2023-05-28 22:00:00</td>\n",
       "      <td>636.0</td>\n",
       "    </tr>\n",
       "    <tr>\n",
       "      <th>2012109</th>\n",
       "      <td>15</td>\n",
       "      <td>1</td>\n",
       "      <td>3</td>\n",
       "      <td>1</td>\n",
       "      <td>2023-05-29 22:00:00</td>\n",
       "      <td>635</td>\n",
       "      <td>2011981</td>\n",
       "      <td>60</td>\n",
       "      <td>2023-05-29</td>\n",
       "      <td>22:00:00</td>\n",
       "      <td>299.806</td>\n",
       "      <td>55.0</td>\n",
       "      <td>2188.2</td>\n",
       "      <td>28.16</td>\n",
       "      <td>36.98</td>\n",
       "      <td>82.29</td>\n",
       "      <td>2023-05-28 22:00:00</td>\n",
       "      <td>636.0</td>\n",
       "    </tr>\n",
       "    <tr>\n",
       "      <th>2012110</th>\n",
       "      <td>15</td>\n",
       "      <td>1</td>\n",
       "      <td>3</td>\n",
       "      <td>0</td>\n",
       "      <td>2023-05-29 23:00:00</td>\n",
       "      <td>635</td>\n",
       "      <td>2012110</td>\n",
       "      <td>60</td>\n",
       "      <td>2023-05-29</td>\n",
       "      <td>23:00:00</td>\n",
       "      <td>0.000</td>\n",
       "      <td>55.0</td>\n",
       "      <td>2188.2</td>\n",
       "      <td>28.16</td>\n",
       "      <td>36.98</td>\n",
       "      <td>77.27</td>\n",
       "      <td>2023-05-28 23:00:00</td>\n",
       "      <td>636.0</td>\n",
       "    </tr>\n",
       "    <tr>\n",
       "      <th>2012111</th>\n",
       "      <td>15</td>\n",
       "      <td>1</td>\n",
       "      <td>3</td>\n",
       "      <td>1</td>\n",
       "      <td>2023-05-29 23:00:00</td>\n",
       "      <td>635</td>\n",
       "      <td>2012111</td>\n",
       "      <td>60</td>\n",
       "      <td>2023-05-29</td>\n",
       "      <td>23:00:00</td>\n",
       "      <td>177.056</td>\n",
       "      <td>55.0</td>\n",
       "      <td>2188.2</td>\n",
       "      <td>28.16</td>\n",
       "      <td>36.98</td>\n",
       "      <td>77.27</td>\n",
       "      <td>2023-05-28 23:00:00</td>\n",
       "      <td>636.0</td>\n",
       "    </tr>\n",
       "  </tbody>\n",
       "</table>\n",
       "</div>"
      ],
      "text/plain": [
       "         county  is_business  product_type  is_consumption  \\\n",
       "2012107      15            1             3               1   \n",
       "2012108      15            1             3               0   \n",
       "2012109      15            1             3               1   \n",
       "2012110      15            1             3               0   \n",
       "2012111      15            1             3               1   \n",
       "\n",
       "                   datetime  data_block_id   row_id  prediction_unit_id  \\\n",
       "2012107 2023-05-29 21:00:00            635  2011851                  60   \n",
       "2012108 2023-05-29 22:00:00            635  2011980                  60   \n",
       "2012109 2023-05-29 22:00:00            635  2011981                  60   \n",
       "2012110 2023-05-29 23:00:00            635  2012110                  60   \n",
       "2012111 2023-05-29 23:00:00            635  2012111                  60   \n",
       "\n",
       "              date      time   target  eic_count  installed_capacity  \\\n",
       "2012107 2023-05-29  21:00:00  296.073       55.0              2188.2   \n",
       "2012108 2023-05-29  22:00:00    0.000       55.0              2188.2   \n",
       "2012109 2023-05-29  22:00:00  299.806       55.0              2188.2   \n",
       "2012110 2023-05-29  23:00:00    0.000       55.0              2188.2   \n",
       "2012111 2023-05-29  23:00:00  177.056       55.0              2188.2   \n",
       "\n",
       "         lowest_price_per_mwh  highest_price_per_mwh  euros_per_mwh  \\\n",
       "2012107                 28.16                  36.98          82.30   \n",
       "2012108                 28.16                  36.98          82.29   \n",
       "2012109                 28.16                  36.98          82.29   \n",
       "2012110                 28.16                  36.98          77.27   \n",
       "2012111                 28.16                  36.98          77.27   \n",
       "\n",
       "                origin_date  data_block_id_elec  \n",
       "2012107 2023-05-28 21:00:00               636.0  \n",
       "2012108 2023-05-28 22:00:00               636.0  \n",
       "2012109 2023-05-28 22:00:00               636.0  \n",
       "2012110 2023-05-28 23:00:00               636.0  \n",
       "2012111 2023-05-28 23:00:00               636.0  "
      ]
     },
     "execution_count": 112,
     "metadata": {},
     "output_type": "execute_result"
    }
   ],
   "source": [
    "train_m_3[(train_m_3.date == pd.to_datetime(\"2023-05-29\")) & (train_m_3.county == 15) & (train_m_3.is_business == 1) & (train_m_3.product_type == 3)].tail(5)"
   ]
  },
  {
   "cell_type": "code",
   "execution_count": 113,
   "metadata": {},
   "outputs": [
    {
     "data": {
      "text/html": [
       "<div>\n",
       "<style scoped>\n",
       "    .dataframe tbody tr th:only-of-type {\n",
       "        vertical-align: middle;\n",
       "    }\n",
       "\n",
       "    .dataframe tbody tr th {\n",
       "        vertical-align: top;\n",
       "    }\n",
       "\n",
       "    .dataframe thead th {\n",
       "        text-align: right;\n",
       "    }\n",
       "</style>\n",
       "<table border=\"1\" class=\"dataframe\">\n",
       "  <thead>\n",
       "    <tr style=\"text-align: right;\">\n",
       "      <th></th>\n",
       "      <th>county</th>\n",
       "      <th>is_business</th>\n",
       "      <th>product_type</th>\n",
       "      <th>is_consumption</th>\n",
       "      <th>time</th>\n",
       "      <th>date</th>\n",
       "      <th>euros_per_mwh</th>\n",
       "    </tr>\n",
       "  </thead>\n",
       "  <tbody>\n",
       "    <tr>\n",
       "      <th>2015797</th>\n",
       "      <td>15</td>\n",
       "      <td>1</td>\n",
       "      <td>3</td>\n",
       "      <td>1</td>\n",
       "      <td>19:00:00</td>\n",
       "      <td>2023-05-29</td>\n",
       "      <td>82.30</td>\n",
       "    </tr>\n",
       "    <tr>\n",
       "      <th>2016435</th>\n",
       "      <td>15</td>\n",
       "      <td>1</td>\n",
       "      <td>3</td>\n",
       "      <td>1</td>\n",
       "      <td>20:00:00</td>\n",
       "      <td>2023-05-29</td>\n",
       "      <td>82.30</td>\n",
       "    </tr>\n",
       "    <tr>\n",
       "      <th>2017073</th>\n",
       "      <td>15</td>\n",
       "      <td>1</td>\n",
       "      <td>3</td>\n",
       "      <td>1</td>\n",
       "      <td>21:00:00</td>\n",
       "      <td>2023-05-29</td>\n",
       "      <td>82.30</td>\n",
       "    </tr>\n",
       "    <tr>\n",
       "      <th>2017711</th>\n",
       "      <td>15</td>\n",
       "      <td>1</td>\n",
       "      <td>3</td>\n",
       "      <td>1</td>\n",
       "      <td>22:00:00</td>\n",
       "      <td>2023-05-29</td>\n",
       "      <td>82.29</td>\n",
       "    </tr>\n",
       "    <tr>\n",
       "      <th>2018349</th>\n",
       "      <td>15</td>\n",
       "      <td>1</td>\n",
       "      <td>3</td>\n",
       "      <td>1</td>\n",
       "      <td>23:00:00</td>\n",
       "      <td>2023-05-29</td>\n",
       "      <td>77.27</td>\n",
       "    </tr>\n",
       "  </tbody>\n",
       "</table>\n",
       "</div>"
      ],
      "text/plain": [
       "         county  is_business  product_type  is_consumption      time  \\\n",
       "2015797      15            1             3               1  19:00:00   \n",
       "2016435      15            1             3               1  20:00:00   \n",
       "2017073      15            1             3               1  21:00:00   \n",
       "2017711      15            1             3               1  22:00:00   \n",
       "2018349      15            1             3               1  23:00:00   \n",
       "\n",
       "              date  euros_per_mwh  \n",
       "2015797 2023-05-29          82.30  \n",
       "2016435 2023-05-29          82.30  \n",
       "2017073 2023-05-29          82.30  \n",
       "2017711 2023-05-29          82.29  \n",
       "2018349 2023-05-29          77.27  "
      ]
     },
     "execution_count": 113,
     "metadata": {},
     "output_type": "execute_result"
    }
   ],
   "source": [
    "missing_elec[(missing_elec.date == pd.to_datetime(\"2023-05-29\"))].tail(5)"
   ]
  },
  {
   "cell_type": "code",
   "execution_count": 114,
   "metadata": {},
   "outputs": [
    {
     "data": {
      "text/html": [
       "<div>\n",
       "<style scoped>\n",
       "    .dataframe tbody tr th:only-of-type {\n",
       "        vertical-align: middle;\n",
       "    }\n",
       "\n",
       "    .dataframe tbody tr th {\n",
       "        vertical-align: top;\n",
       "    }\n",
       "\n",
       "    .dataframe thead th {\n",
       "        text-align: right;\n",
       "    }\n",
       "</style>\n",
       "<table border=\"1\" class=\"dataframe\">\n",
       "  <thead>\n",
       "    <tr style=\"text-align: right;\">\n",
       "      <th></th>\n",
       "      <th>county</th>\n",
       "      <th>is_business</th>\n",
       "      <th>product_type</th>\n",
       "      <th>is_consumption</th>\n",
       "      <th>time</th>\n",
       "      <th>date</th>\n",
       "      <th>euros_per_mwh</th>\n",
       "    </tr>\n",
       "  </thead>\n",
       "  <tbody>\n",
       "    <tr>\n",
       "      <th>2018347</th>\n",
       "      <td>15</td>\n",
       "      <td>1</td>\n",
       "      <td>3</td>\n",
       "      <td>1</td>\n",
       "      <td>23:00:00</td>\n",
       "      <td>2023-05-27</td>\n",
       "      <td>94.71</td>\n",
       "    </tr>\n",
       "    <tr>\n",
       "      <th>2018348</th>\n",
       "      <td>15</td>\n",
       "      <td>1</td>\n",
       "      <td>3</td>\n",
       "      <td>1</td>\n",
       "      <td>23:00:00</td>\n",
       "      <td>2023-05-28</td>\n",
       "      <td>69.50</td>\n",
       "    </tr>\n",
       "    <tr>\n",
       "      <th>2018349</th>\n",
       "      <td>15</td>\n",
       "      <td>1</td>\n",
       "      <td>3</td>\n",
       "      <td>1</td>\n",
       "      <td>23:00:00</td>\n",
       "      <td>2023-05-29</td>\n",
       "      <td>77.27</td>\n",
       "    </tr>\n",
       "    <tr>\n",
       "      <th>2018350</th>\n",
       "      <td>15</td>\n",
       "      <td>1</td>\n",
       "      <td>3</td>\n",
       "      <td>1</td>\n",
       "      <td>23:00:00</td>\n",
       "      <td>2023-05-30</td>\n",
       "      <td>-1.29</td>\n",
       "    </tr>\n",
       "    <tr>\n",
       "      <th>2018351</th>\n",
       "      <td>15</td>\n",
       "      <td>1</td>\n",
       "      <td>3</td>\n",
       "      <td>1</td>\n",
       "      <td>23:00:00</td>\n",
       "      <td>2023-05-31</td>\n",
       "      <td>-1.29</td>\n",
       "    </tr>\n",
       "  </tbody>\n",
       "</table>\n",
       "</div>"
      ],
      "text/plain": [
       "         county  is_business  product_type  is_consumption      time  \\\n",
       "2018347      15            1             3               1  23:00:00   \n",
       "2018348      15            1             3               1  23:00:00   \n",
       "2018349      15            1             3               1  23:00:00   \n",
       "2018350      15            1             3               1  23:00:00   \n",
       "2018351      15            1             3               1  23:00:00   \n",
       "\n",
       "              date  euros_per_mwh  \n",
       "2018347 2023-05-27          94.71  \n",
       "2018348 2023-05-28          69.50  \n",
       "2018349 2023-05-29          77.27  \n",
       "2018350 2023-05-30          -1.29  \n",
       "2018351 2023-05-31          -1.29  "
      ]
     },
     "execution_count": 114,
     "metadata": {},
     "output_type": "execute_result"
    }
   ],
   "source": [
    "missing_elec.tail()"
   ]
  },
  {
   "cell_type": "code",
   "execution_count": 115,
   "metadata": {},
   "outputs": [
    {
     "data": {
      "text/plain": [
       "(2018352, 16)"
      ]
     },
     "execution_count": 115,
     "metadata": {},
     "output_type": "execute_result"
    }
   ],
   "source": [
    "train_m_3.drop(columns=[\"euros_per_mwh\", \"origin_date\", \"data_block_id_elec\"], inplace=True)\n",
    "train_m_3 = train_m_3.merge(\n",
    "    missing_elec,\n",
    "    how=\"left\",\n",
    "    on=[\"county\", \"is_business\", \"product_type\", \"is_consumption\", \"time\", \"date\"],\n",
    "    suffixes=(\"\", \"_elec\")\n",
    ")\n",
    "train_m_3.shape"
   ]
  },
  {
   "cell_type": "code",
   "execution_count": 116,
   "metadata": {},
   "outputs": [
    {
     "data": {
      "text/plain": [
       "county                   0\n",
       "is_business              0\n",
       "product_type             0\n",
       "is_consumption           0\n",
       "datetime                 0\n",
       "data_block_id            0\n",
       "row_id                   0\n",
       "prediction_unit_id       0\n",
       "date                     0\n",
       "time                     0\n",
       "target                   0\n",
       "eic_count                0\n",
       "installed_capacity       0\n",
       "lowest_price_per_mwh     0\n",
       "highest_price_per_mwh    0\n",
       "euros_per_mwh            0\n",
       "dtype: int64"
      ]
     },
     "execution_count": 116,
     "metadata": {},
     "output_type": "execute_result"
    }
   ],
   "source": [
    "train_m_3.isna().sum()"
   ]
  },
  {
   "cell_type": "markdown",
   "metadata": {},
   "source": [
    "* No missing data anymore, let's move to next dataset."
   ]
  },
  {
   "cell_type": "code",
   "execution_count": 117,
   "metadata": {},
   "outputs": [],
   "source": [
    "del train_m_2"
   ]
  },
  {
   "cell_type": "markdown",
   "metadata": {},
   "source": [
    "## 4.6 Merging forecast_weather to train data"
   ]
  },
  {
   "cell_type": "code",
   "execution_count": 118,
   "metadata": {},
   "outputs": [
    {
     "data": {
      "text/html": [
       "<div>\n",
       "<style scoped>\n",
       "    .dataframe tbody tr th:only-of-type {\n",
       "        vertical-align: middle;\n",
       "    }\n",
       "\n",
       "    .dataframe tbody tr th {\n",
       "        vertical-align: top;\n",
       "    }\n",
       "\n",
       "    .dataframe thead th {\n",
       "        text-align: right;\n",
       "    }\n",
       "</style>\n",
       "<table border=\"1\" class=\"dataframe\">\n",
       "  <thead>\n",
       "    <tr style=\"text-align: right;\">\n",
       "      <th></th>\n",
       "      <th>latitude</th>\n",
       "      <th>longitude</th>\n",
       "      <th>origin_datetime</th>\n",
       "      <th>hours_ahead</th>\n",
       "      <th>temperature</th>\n",
       "      <th>dewpoint</th>\n",
       "      <th>cloudcover_high</th>\n",
       "      <th>cloudcover_low</th>\n",
       "      <th>cloudcover_mid</th>\n",
       "      <th>cloudcover_total</th>\n",
       "      <th>10_metre_u_wind_component</th>\n",
       "      <th>10_metre_v_wind_component</th>\n",
       "      <th>data_block_id</th>\n",
       "      <th>forecast_datetime</th>\n",
       "      <th>direct_solar_radiation</th>\n",
       "      <th>surface_solar_radiation_downwards</th>\n",
       "      <th>snowfall</th>\n",
       "      <th>total_precipitation</th>\n",
       "      <th>county_name</th>\n",
       "      <th>county</th>\n",
       "    </tr>\n",
       "  </thead>\n",
       "  <tbody>\n",
       "    <tr>\n",
       "      <th>0</th>\n",
       "      <td>57.6</td>\n",
       "      <td>21.7</td>\n",
       "      <td>2021-09-01 02:00:00</td>\n",
       "      <td>1</td>\n",
       "      <td>15.655786</td>\n",
       "      <td>11.553613</td>\n",
       "      <td>0.904816</td>\n",
       "      <td>0.019714</td>\n",
       "      <td>0.0</td>\n",
       "      <td>0.905899</td>\n",
       "      <td>-0.411328</td>\n",
       "      <td>-9.106137</td>\n",
       "      <td>1</td>\n",
       "      <td>2021-09-01 03:00:00</td>\n",
       "      <td>0.0</td>\n",
       "      <td>0.0</td>\n",
       "      <td>0.0</td>\n",
       "      <td>0.0</td>\n",
       "      <td>UNKOWN</td>\n",
       "      <td>12</td>\n",
       "    </tr>\n",
       "    <tr>\n",
       "      <th>1</th>\n",
       "      <td>57.6</td>\n",
       "      <td>22.2</td>\n",
       "      <td>2021-09-01 02:00:00</td>\n",
       "      <td>1</td>\n",
       "      <td>13.003931</td>\n",
       "      <td>10.689844</td>\n",
       "      <td>0.886322</td>\n",
       "      <td>0.004456</td>\n",
       "      <td>0.0</td>\n",
       "      <td>0.886658</td>\n",
       "      <td>0.206347</td>\n",
       "      <td>-5.355405</td>\n",
       "      <td>1</td>\n",
       "      <td>2021-09-01 03:00:00</td>\n",
       "      <td>0.0</td>\n",
       "      <td>0.0</td>\n",
       "      <td>0.0</td>\n",
       "      <td>0.0</td>\n",
       "      <td>UNKOWN</td>\n",
       "      <td>12</td>\n",
       "    </tr>\n",
       "    <tr>\n",
       "      <th>2</th>\n",
       "      <td>57.6</td>\n",
       "      <td>22.7</td>\n",
       "      <td>2021-09-01 02:00:00</td>\n",
       "      <td>1</td>\n",
       "      <td>14.206567</td>\n",
       "      <td>11.671777</td>\n",
       "      <td>0.729034</td>\n",
       "      <td>0.005615</td>\n",
       "      <td>0.0</td>\n",
       "      <td>0.730499</td>\n",
       "      <td>1.451587</td>\n",
       "      <td>-7.417905</td>\n",
       "      <td>1</td>\n",
       "      <td>2021-09-01 03:00:00</td>\n",
       "      <td>0.0</td>\n",
       "      <td>0.0</td>\n",
       "      <td>0.0</td>\n",
       "      <td>0.0</td>\n",
       "      <td>UNKOWN</td>\n",
       "      <td>12</td>\n",
       "    </tr>\n",
       "  </tbody>\n",
       "</table>\n",
       "</div>"
      ],
      "text/plain": [
       "   latitude  longitude     origin_datetime  hours_ahead  temperature  \\\n",
       "0      57.6       21.7 2021-09-01 02:00:00            1    15.655786   \n",
       "1      57.6       22.2 2021-09-01 02:00:00            1    13.003931   \n",
       "2      57.6       22.7 2021-09-01 02:00:00            1    14.206567   \n",
       "\n",
       "    dewpoint  cloudcover_high  cloudcover_low  cloudcover_mid  \\\n",
       "0  11.553613         0.904816        0.019714             0.0   \n",
       "1  10.689844         0.886322        0.004456             0.0   \n",
       "2  11.671777         0.729034        0.005615             0.0   \n",
       "\n",
       "   cloudcover_total  10_metre_u_wind_component  10_metre_v_wind_component  \\\n",
       "0          0.905899                  -0.411328                  -9.106137   \n",
       "1          0.886658                   0.206347                  -5.355405   \n",
       "2          0.730499                   1.451587                  -7.417905   \n",
       "\n",
       "   data_block_id   forecast_datetime  direct_solar_radiation  \\\n",
       "0              1 2021-09-01 03:00:00                     0.0   \n",
       "1              1 2021-09-01 03:00:00                     0.0   \n",
       "2              1 2021-09-01 03:00:00                     0.0   \n",
       "\n",
       "   surface_solar_radiation_downwards  snowfall  total_precipitation  \\\n",
       "0                                0.0       0.0                  0.0   \n",
       "1                                0.0       0.0                  0.0   \n",
       "2                                0.0       0.0                  0.0   \n",
       "\n",
       "  county_name  county  \n",
       "0      UNKOWN      12  \n",
       "1      UNKOWN      12  \n",
       "2      UNKOWN      12  "
      ]
     },
     "execution_count": 118,
     "metadata": {},
     "output_type": "execute_result"
    }
   ],
   "source": [
    "forecast_weather_m.head(3)"
   ]
  },
  {
   "cell_type": "code",
   "execution_count": 119,
   "metadata": {},
   "outputs": [
    {
     "data": {
      "text/html": [
       "<div>\n",
       "<style scoped>\n",
       "    .dataframe tbody tr th:only-of-type {\n",
       "        vertical-align: middle;\n",
       "    }\n",
       "\n",
       "    .dataframe tbody tr th {\n",
       "        vertical-align: top;\n",
       "    }\n",
       "\n",
       "    .dataframe thead th {\n",
       "        text-align: right;\n",
       "    }\n",
       "</style>\n",
       "<table border=\"1\" class=\"dataframe\">\n",
       "  <thead>\n",
       "    <tr style=\"text-align: right;\">\n",
       "      <th></th>\n",
       "      <th>county</th>\n",
       "      <th>is_business</th>\n",
       "      <th>product_type</th>\n",
       "      <th>is_consumption</th>\n",
       "      <th>datetime</th>\n",
       "      <th>data_block_id</th>\n",
       "      <th>row_id</th>\n",
       "      <th>prediction_unit_id</th>\n",
       "      <th>date</th>\n",
       "      <th>time</th>\n",
       "      <th>target</th>\n",
       "      <th>eic_count</th>\n",
       "      <th>installed_capacity</th>\n",
       "      <th>lowest_price_per_mwh</th>\n",
       "      <th>highest_price_per_mwh</th>\n",
       "      <th>euros_per_mwh</th>\n",
       "    </tr>\n",
       "  </thead>\n",
       "  <tbody>\n",
       "    <tr>\n",
       "      <th>2018350</th>\n",
       "      <td>15</td>\n",
       "      <td>1</td>\n",
       "      <td>3</td>\n",
       "      <td>0</td>\n",
       "      <td>2023-05-31 23:00:00</td>\n",
       "      <td>637</td>\n",
       "      <td>2018350</td>\n",
       "      <td>60</td>\n",
       "      <td>2023-05-31</td>\n",
       "      <td>23:00:00</td>\n",
       "      <td>0.00</td>\n",
       "      <td>55.0</td>\n",
       "      <td>2188.2</td>\n",
       "      <td>29.0</td>\n",
       "      <td>34.0</td>\n",
       "      <td>-1.29</td>\n",
       "    </tr>\n",
       "    <tr>\n",
       "      <th>2018351</th>\n",
       "      <td>15</td>\n",
       "      <td>1</td>\n",
       "      <td>3</td>\n",
       "      <td>1</td>\n",
       "      <td>2023-05-31 23:00:00</td>\n",
       "      <td>637</td>\n",
       "      <td>2018351</td>\n",
       "      <td>60</td>\n",
       "      <td>2023-05-31</td>\n",
       "      <td>23:00:00</td>\n",
       "      <td>196.24</td>\n",
       "      <td>55.0</td>\n",
       "      <td>2188.2</td>\n",
       "      <td>29.0</td>\n",
       "      <td>34.0</td>\n",
       "      <td>-1.29</td>\n",
       "    </tr>\n",
       "  </tbody>\n",
       "</table>\n",
       "</div>"
      ],
      "text/plain": [
       "         county  is_business  product_type  is_consumption  \\\n",
       "2018350      15            1             3               0   \n",
       "2018351      15            1             3               1   \n",
       "\n",
       "                   datetime  data_block_id   row_id  prediction_unit_id  \\\n",
       "2018350 2023-05-31 23:00:00            637  2018350                  60   \n",
       "2018351 2023-05-31 23:00:00            637  2018351                  60   \n",
       "\n",
       "              date      time  target  eic_count  installed_capacity  \\\n",
       "2018350 2023-05-31  23:00:00    0.00       55.0              2188.2   \n",
       "2018351 2023-05-31  23:00:00  196.24       55.0              2188.2   \n",
       "\n",
       "         lowest_price_per_mwh  highest_price_per_mwh  euros_per_mwh  \n",
       "2018350                  29.0                   34.0          -1.29  \n",
       "2018351                  29.0                   34.0          -1.29  "
      ]
     },
     "execution_count": 119,
     "metadata": {},
     "output_type": "execute_result"
    }
   ],
   "source": [
    "train_m_3.tail(2)"
   ]
  },
  {
   "cell_type": "code",
   "execution_count": 120,
   "metadata": {},
   "outputs": [],
   "source": [
    "# forecast_weather_m.hours_ahead.value_counts()"
   ]
  },
  {
   "cell_type": "code",
   "execution_count": 121,
   "metadata": {},
   "outputs": [
    {
     "data": {
      "text/plain": [
       "(dtype('<M8[ns]'), dtype('<M8[ns]'))"
      ]
     },
     "execution_count": 121,
     "metadata": {},
     "output_type": "execute_result"
    }
   ],
   "source": [
    "forecast_weather_m.forecast_datetime.dtype, train_m_3.datetime.dtype"
   ]
  },
  {
   "cell_type": "code",
   "execution_count": 122,
   "metadata": {},
   "outputs": [],
   "source": [
    "forecast_weather_m.rename(columns={\"forecast_datetime\": \"datetime\"}, inplace=True)"
   ]
  },
  {
   "cell_type": "code",
   "execution_count": 123,
   "metadata": {},
   "outputs": [],
   "source": [
    "forecast_weather_m = forecast_weather_m.groupby([\"county\", \"datetime\"]).mean().reset_index()"
   ]
  },
  {
   "cell_type": "code",
   "execution_count": 124,
   "metadata": {},
   "outputs": [],
   "source": [
    "forecast_weather_m[\"county\"] = forecast_weather_m.county.astype(\"int\")"
   ]
  },
  {
   "cell_type": "code",
   "execution_count": 125,
   "metadata": {},
   "outputs": [
    {
     "data": {
      "text/plain": [
       "(2018352, 16)"
      ]
     },
     "execution_count": 125,
     "metadata": {},
     "output_type": "execute_result"
    }
   ],
   "source": [
    "train_m_3.shape"
   ]
  },
  {
   "cell_type": "code",
   "execution_count": 126,
   "metadata": {},
   "outputs": [
    {
     "data": {
      "text/plain": [
       "(2018352, 32)"
      ]
     },
     "execution_count": 126,
     "metadata": {},
     "output_type": "execute_result"
    }
   ],
   "source": [
    "train_m_4 = train_m_3.merge(\n",
    "    forecast_weather_m,\n",
    "    how=\"left\",\n",
    "    on=[\"county\", \"datetime\"],\n",
    "    suffixes=(\"\", \"_fw\") \n",
    ")\n",
    "train_m_4.shape"
   ]
  },
  {
   "cell_type": "code",
   "execution_count": 127,
   "metadata": {},
   "outputs": [
    {
     "data": {
      "text/plain": [
       "county                                 0\n",
       "is_business                            0\n",
       "product_type                           0\n",
       "is_consumption                         0\n",
       "datetime                               0\n",
       "data_block_id                          0\n",
       "row_id                                 0\n",
       "prediction_unit_id                     0\n",
       "date                                   0\n",
       "time                                   0\n",
       "target                                 0\n",
       "eic_count                              0\n",
       "installed_capacity                     0\n",
       "lowest_price_per_mwh                   0\n",
       "highest_price_per_mwh                  0\n",
       "euros_per_mwh                          0\n",
       "latitude                             632\n",
       "longitude                            632\n",
       "hours_ahead                          632\n",
       "temperature                          632\n",
       "dewpoint                             632\n",
       "cloudcover_high                      632\n",
       "cloudcover_low                       632\n",
       "cloudcover_mid                       632\n",
       "cloudcover_total                     632\n",
       "10_metre_u_wind_component            632\n",
       "10_metre_v_wind_component            632\n",
       "data_block_id_fw                     632\n",
       "direct_solar_radiation               632\n",
       "surface_solar_radiation_downwards    632\n",
       "snowfall                             632\n",
       "total_precipitation                  632\n",
       "dtype: int64"
      ]
     },
     "execution_count": 127,
     "metadata": {},
     "output_type": "execute_result"
    }
   ],
   "source": [
    "train_m_4.isna().sum()"
   ]
  },
  {
   "cell_type": "code",
   "execution_count": 128,
   "metadata": {},
   "outputs": [
    {
     "data": {
      "text/plain": [
       "2022-03-27 03:00:00    134\n",
       "2023-03-26 03:00:00    132\n",
       "2021-09-01 00:00:00    122\n",
       "2021-09-01 01:00:00    122\n",
       "2021-09-01 02:00:00    122\n",
       "Name: datetime, dtype: int64"
      ]
     },
     "execution_count": 128,
     "metadata": {},
     "output_type": "execute_result"
    }
   ],
   "source": [
    "train_m_4[train_m_4.hours_ahead.isna()].datetime.value_counts()"
   ]
  },
  {
   "cell_type": "markdown",
   "metadata": {},
   "source": [
    "* We do not have forecast weather data for some dates. let's imput this with previous day values."
   ]
  },
  {
   "cell_type": "code",
   "execution_count": 129,
   "metadata": {},
   "outputs": [
    {
     "data": {
      "text/html": [
       "<div>\n",
       "<style scoped>\n",
       "    .dataframe tbody tr th:only-of-type {\n",
       "        vertical-align: middle;\n",
       "    }\n",
       "\n",
       "    .dataframe tbody tr th {\n",
       "        vertical-align: top;\n",
       "    }\n",
       "\n",
       "    .dataframe thead th {\n",
       "        text-align: right;\n",
       "    }\n",
       "</style>\n",
       "<table border=\"1\" class=\"dataframe\">\n",
       "  <thead>\n",
       "    <tr style=\"text-align: right;\">\n",
       "      <th></th>\n",
       "      <th>county</th>\n",
       "      <th>is_business</th>\n",
       "      <th>product_type</th>\n",
       "      <th>datetime</th>\n",
       "      <th>temperature</th>\n",
       "    </tr>\n",
       "  </thead>\n",
       "  <tbody>\n",
       "    <tr>\n",
       "      <th>0</th>\n",
       "      <td>0</td>\n",
       "      <td>0</td>\n",
       "      <td>1</td>\n",
       "      <td>2021-09-01 00:00:00</td>\n",
       "      <td>NaN</td>\n",
       "    </tr>\n",
       "    <tr>\n",
       "      <th>1</th>\n",
       "      <td>0</td>\n",
       "      <td>0</td>\n",
       "      <td>1</td>\n",
       "      <td>2021-09-01 00:00:00</td>\n",
       "      <td>NaN</td>\n",
       "    </tr>\n",
       "    <tr>\n",
       "      <th>2</th>\n",
       "      <td>0</td>\n",
       "      <td>0</td>\n",
       "      <td>1</td>\n",
       "      <td>2021-09-01 01:00:00</td>\n",
       "      <td>NaN</td>\n",
       "    </tr>\n",
       "    <tr>\n",
       "      <th>3</th>\n",
       "      <td>0</td>\n",
       "      <td>0</td>\n",
       "      <td>1</td>\n",
       "      <td>2021-09-01 01:00:00</td>\n",
       "      <td>NaN</td>\n",
       "    </tr>\n",
       "    <tr>\n",
       "      <th>4</th>\n",
       "      <td>0</td>\n",
       "      <td>0</td>\n",
       "      <td>1</td>\n",
       "      <td>2021-09-01 02:00:00</td>\n",
       "      <td>NaN</td>\n",
       "    </tr>\n",
       "    <tr>\n",
       "      <th>...</th>\n",
       "      <td>...</td>\n",
       "      <td>...</td>\n",
       "      <td>...</td>\n",
       "      <td>...</td>\n",
       "      <td>...</td>\n",
       "    </tr>\n",
       "    <tr>\n",
       "      <th>2018347</th>\n",
       "      <td>15</td>\n",
       "      <td>1</td>\n",
       "      <td>3</td>\n",
       "      <td>2023-05-31 21:00:00</td>\n",
       "      <td>13.916846</td>\n",
       "    </tr>\n",
       "    <tr>\n",
       "      <th>2018348</th>\n",
       "      <td>15</td>\n",
       "      <td>1</td>\n",
       "      <td>3</td>\n",
       "      <td>2023-05-31 22:00:00</td>\n",
       "      <td>12.470825</td>\n",
       "    </tr>\n",
       "    <tr>\n",
       "      <th>2018349</th>\n",
       "      <td>15</td>\n",
       "      <td>1</td>\n",
       "      <td>3</td>\n",
       "      <td>2023-05-31 22:00:00</td>\n",
       "      <td>12.470825</td>\n",
       "    </tr>\n",
       "    <tr>\n",
       "      <th>2018350</th>\n",
       "      <td>15</td>\n",
       "      <td>1</td>\n",
       "      <td>3</td>\n",
       "      <td>2023-05-31 23:00:00</td>\n",
       "      <td>11.484033</td>\n",
       "    </tr>\n",
       "    <tr>\n",
       "      <th>2018351</th>\n",
       "      <td>15</td>\n",
       "      <td>1</td>\n",
       "      <td>3</td>\n",
       "      <td>2023-05-31 23:00:00</td>\n",
       "      <td>11.484033</td>\n",
       "    </tr>\n",
       "  </tbody>\n",
       "</table>\n",
       "<p>2018352 rows × 5 columns</p>\n",
       "</div>"
      ],
      "text/plain": [
       "         county  is_business  product_type            datetime  temperature\n",
       "0             0            0             1 2021-09-01 00:00:00          NaN\n",
       "1             0            0             1 2021-09-01 00:00:00          NaN\n",
       "2             0            0             1 2021-09-01 01:00:00          NaN\n",
       "3             0            0             1 2021-09-01 01:00:00          NaN\n",
       "4             0            0             1 2021-09-01 02:00:00          NaN\n",
       "...         ...          ...           ...                 ...          ...\n",
       "2018347      15            1             3 2023-05-31 21:00:00    13.916846\n",
       "2018348      15            1             3 2023-05-31 22:00:00    12.470825\n",
       "2018349      15            1             3 2023-05-31 22:00:00    12.470825\n",
       "2018350      15            1             3 2023-05-31 23:00:00    11.484033\n",
       "2018351      15            1             3 2023-05-31 23:00:00    11.484033\n",
       "\n",
       "[2018352 rows x 5 columns]"
      ]
     },
     "execution_count": 129,
     "metadata": {},
     "output_type": "execute_result"
    }
   ],
   "source": [
    "train_m_4[[\"county\", \"is_business\", \"product_type\", \"datetime\", \"temperature\"]]"
   ]
  },
  {
   "cell_type": "code",
   "execution_count": 130,
   "metadata": {},
   "outputs": [
    {
     "data": {
      "text/plain": [
       "False    2018352\n",
       "dtype: int64"
      ]
     },
     "execution_count": 130,
     "metadata": {},
     "output_type": "execute_result"
    }
   ],
   "source": [
    "train_m_4[[\"county\", \"is_business\", \"product_type\", \"is_consumption\", \"time\", \"date\"]].duplicated().value_counts()"
   ]
  },
  {
   "cell_type": "code",
   "execution_count": 131,
   "metadata": {},
   "outputs": [],
   "source": [
    "missing_fw = train_m_4.groupby([\"county\", \"is_business\", \"product_type\", \"is_consumption\", \"time\", \"date\"])[\"temperature\",\"dewpoint\",\"cloudcover_high\",\"cloudcover_low\",\"cloudcover_mid\",\"cloudcover_total\",\"10_metre_u_wind_component\",\"10_metre_v_wind_component\",\"data_block_id_fw\",\"direct_solar_radiation\",\"surface_solar_radiation_downwards\",\"snowfall\",\"total_precipitation\"].mean().reset_index().ffill()\n",
    "missing_fw = missing_fw.bfill()"
   ]
  },
  {
   "cell_type": "code",
   "execution_count": 132,
   "metadata": {},
   "outputs": [
    {
     "data": {
      "text/html": [
       "<div>\n",
       "<style scoped>\n",
       "    .dataframe tbody tr th:only-of-type {\n",
       "        vertical-align: middle;\n",
       "    }\n",
       "\n",
       "    .dataframe tbody tr th {\n",
       "        vertical-align: top;\n",
       "    }\n",
       "\n",
       "    .dataframe thead th {\n",
       "        text-align: right;\n",
       "    }\n",
       "</style>\n",
       "<table border=\"1\" class=\"dataframe\">\n",
       "  <thead>\n",
       "    <tr style=\"text-align: right;\">\n",
       "      <th></th>\n",
       "      <th>county</th>\n",
       "      <th>is_business</th>\n",
       "      <th>product_type</th>\n",
       "      <th>is_consumption</th>\n",
       "      <th>datetime</th>\n",
       "      <th>data_block_id</th>\n",
       "      <th>row_id</th>\n",
       "      <th>prediction_unit_id</th>\n",
       "      <th>date</th>\n",
       "      <th>time</th>\n",
       "      <th>...</th>\n",
       "      <th>cloudcover_low</th>\n",
       "      <th>cloudcover_mid</th>\n",
       "      <th>cloudcover_total</th>\n",
       "      <th>10_metre_u_wind_component</th>\n",
       "      <th>10_metre_v_wind_component</th>\n",
       "      <th>data_block_id_fw</th>\n",
       "      <th>direct_solar_radiation</th>\n",
       "      <th>surface_solar_radiation_downwards</th>\n",
       "      <th>snowfall</th>\n",
       "      <th>total_precipitation</th>\n",
       "    </tr>\n",
       "  </thead>\n",
       "  <tbody>\n",
       "    <tr>\n",
       "      <th>1808976</th>\n",
       "      <td>15</td>\n",
       "      <td>1</td>\n",
       "      <td>3</td>\n",
       "      <td>0</td>\n",
       "      <td>2023-03-26 00:00:00</td>\n",
       "      <td>571</td>\n",
       "      <td>1805986</td>\n",
       "      <td>60</td>\n",
       "      <td>2023-03-26</td>\n",
       "      <td>00:00:00</td>\n",
       "      <td>...</td>\n",
       "      <td>0.307510</td>\n",
       "      <td>0.457578</td>\n",
       "      <td>0.902218</td>\n",
       "      <td>1.449661</td>\n",
       "      <td>1.515520</td>\n",
       "      <td>570.5</td>\n",
       "      <td>0.0</td>\n",
       "      <td>0.0</td>\n",
       "      <td>0.000001</td>\n",
       "      <td>0.000239</td>\n",
       "    </tr>\n",
       "    <tr>\n",
       "      <th>1808977</th>\n",
       "      <td>15</td>\n",
       "      <td>1</td>\n",
       "      <td>3</td>\n",
       "      <td>1</td>\n",
       "      <td>2023-03-26 00:00:00</td>\n",
       "      <td>571</td>\n",
       "      <td>1805987</td>\n",
       "      <td>60</td>\n",
       "      <td>2023-03-26</td>\n",
       "      <td>00:00:00</td>\n",
       "      <td>...</td>\n",
       "      <td>0.307510</td>\n",
       "      <td>0.457578</td>\n",
       "      <td>0.902218</td>\n",
       "      <td>1.449661</td>\n",
       "      <td>1.515520</td>\n",
       "      <td>570.5</td>\n",
       "      <td>0.0</td>\n",
       "      <td>0.0</td>\n",
       "      <td>0.000001</td>\n",
       "      <td>0.000239</td>\n",
       "    </tr>\n",
       "    <tr>\n",
       "      <th>1808978</th>\n",
       "      <td>15</td>\n",
       "      <td>1</td>\n",
       "      <td>3</td>\n",
       "      <td>0</td>\n",
       "      <td>2023-03-26 01:00:00</td>\n",
       "      <td>571</td>\n",
       "      <td>1806118</td>\n",
       "      <td>60</td>\n",
       "      <td>2023-03-26</td>\n",
       "      <td>01:00:00</td>\n",
       "      <td>...</td>\n",
       "      <td>0.549413</td>\n",
       "      <td>0.142081</td>\n",
       "      <td>0.966574</td>\n",
       "      <td>1.487020</td>\n",
       "      <td>1.497897</td>\n",
       "      <td>570.5</td>\n",
       "      <td>0.0</td>\n",
       "      <td>0.0</td>\n",
       "      <td>0.000000</td>\n",
       "      <td>0.000028</td>\n",
       "    </tr>\n",
       "    <tr>\n",
       "      <th>1808979</th>\n",
       "      <td>15</td>\n",
       "      <td>1</td>\n",
       "      <td>3</td>\n",
       "      <td>1</td>\n",
       "      <td>2023-03-26 01:00:00</td>\n",
       "      <td>571</td>\n",
       "      <td>1806119</td>\n",
       "      <td>60</td>\n",
       "      <td>2023-03-26</td>\n",
       "      <td>01:00:00</td>\n",
       "      <td>...</td>\n",
       "      <td>0.549413</td>\n",
       "      <td>0.142081</td>\n",
       "      <td>0.966574</td>\n",
       "      <td>1.487020</td>\n",
       "      <td>1.497897</td>\n",
       "      <td>570.5</td>\n",
       "      <td>0.0</td>\n",
       "      <td>0.0</td>\n",
       "      <td>0.000000</td>\n",
       "      <td>0.000028</td>\n",
       "    </tr>\n",
       "    <tr>\n",
       "      <th>1808980</th>\n",
       "      <td>15</td>\n",
       "      <td>1</td>\n",
       "      <td>3</td>\n",
       "      <td>0</td>\n",
       "      <td>2023-03-26 02:00:00</td>\n",
       "      <td>571</td>\n",
       "      <td>1806250</td>\n",
       "      <td>60</td>\n",
       "      <td>2023-03-26</td>\n",
       "      <td>02:00:00</td>\n",
       "      <td>...</td>\n",
       "      <td>0.541530</td>\n",
       "      <td>0.122595</td>\n",
       "      <td>0.661326</td>\n",
       "      <td>1.555820</td>\n",
       "      <td>1.498167</td>\n",
       "      <td>571.5</td>\n",
       "      <td>0.0</td>\n",
       "      <td>0.0</td>\n",
       "      <td>0.000000</td>\n",
       "      <td>0.000003</td>\n",
       "    </tr>\n",
       "    <tr>\n",
       "      <th>1808981</th>\n",
       "      <td>15</td>\n",
       "      <td>1</td>\n",
       "      <td>3</td>\n",
       "      <td>1</td>\n",
       "      <td>2023-03-26 02:00:00</td>\n",
       "      <td>571</td>\n",
       "      <td>1806251</td>\n",
       "      <td>60</td>\n",
       "      <td>2023-03-26</td>\n",
       "      <td>02:00:00</td>\n",
       "      <td>...</td>\n",
       "      <td>0.541530</td>\n",
       "      <td>0.122595</td>\n",
       "      <td>0.661326</td>\n",
       "      <td>1.555820</td>\n",
       "      <td>1.498167</td>\n",
       "      <td>571.5</td>\n",
       "      <td>0.0</td>\n",
       "      <td>0.0</td>\n",
       "      <td>0.000000</td>\n",
       "      <td>0.000003</td>\n",
       "    </tr>\n",
       "    <tr>\n",
       "      <th>1808982</th>\n",
       "      <td>15</td>\n",
       "      <td>1</td>\n",
       "      <td>3</td>\n",
       "      <td>0</td>\n",
       "      <td>2023-03-26 03:00:00</td>\n",
       "      <td>571</td>\n",
       "      <td>1806382</td>\n",
       "      <td>60</td>\n",
       "      <td>2023-03-26</td>\n",
       "      <td>03:00:00</td>\n",
       "      <td>...</td>\n",
       "      <td>NaN</td>\n",
       "      <td>NaN</td>\n",
       "      <td>NaN</td>\n",
       "      <td>NaN</td>\n",
       "      <td>NaN</td>\n",
       "      <td>NaN</td>\n",
       "      <td>NaN</td>\n",
       "      <td>NaN</td>\n",
       "      <td>NaN</td>\n",
       "      <td>NaN</td>\n",
       "    </tr>\n",
       "    <tr>\n",
       "      <th>1808983</th>\n",
       "      <td>15</td>\n",
       "      <td>1</td>\n",
       "      <td>3</td>\n",
       "      <td>1</td>\n",
       "      <td>2023-03-26 03:00:00</td>\n",
       "      <td>571</td>\n",
       "      <td>1806383</td>\n",
       "      <td>60</td>\n",
       "      <td>2023-03-26</td>\n",
       "      <td>03:00:00</td>\n",
       "      <td>...</td>\n",
       "      <td>NaN</td>\n",
       "      <td>NaN</td>\n",
       "      <td>NaN</td>\n",
       "      <td>NaN</td>\n",
       "      <td>NaN</td>\n",
       "      <td>NaN</td>\n",
       "      <td>NaN</td>\n",
       "      <td>NaN</td>\n",
       "      <td>NaN</td>\n",
       "      <td>NaN</td>\n",
       "    </tr>\n",
       "  </tbody>\n",
       "</table>\n",
       "<p>8 rows × 32 columns</p>\n",
       "</div>"
      ],
      "text/plain": [
       "         county  is_business  product_type  is_consumption  \\\n",
       "1808976      15            1             3               0   \n",
       "1808977      15            1             3               1   \n",
       "1808978      15            1             3               0   \n",
       "1808979      15            1             3               1   \n",
       "1808980      15            1             3               0   \n",
       "1808981      15            1             3               1   \n",
       "1808982      15            1             3               0   \n",
       "1808983      15            1             3               1   \n",
       "\n",
       "                   datetime  data_block_id   row_id  prediction_unit_id  \\\n",
       "1808976 2023-03-26 00:00:00            571  1805986                  60   \n",
       "1808977 2023-03-26 00:00:00            571  1805987                  60   \n",
       "1808978 2023-03-26 01:00:00            571  1806118                  60   \n",
       "1808979 2023-03-26 01:00:00            571  1806119                  60   \n",
       "1808980 2023-03-26 02:00:00            571  1806250                  60   \n",
       "1808981 2023-03-26 02:00:00            571  1806251                  60   \n",
       "1808982 2023-03-26 03:00:00            571  1806382                  60   \n",
       "1808983 2023-03-26 03:00:00            571  1806383                  60   \n",
       "\n",
       "              date      time  ...  cloudcover_low  cloudcover_mid  \\\n",
       "1808976 2023-03-26  00:00:00  ...        0.307510        0.457578   \n",
       "1808977 2023-03-26  00:00:00  ...        0.307510        0.457578   \n",
       "1808978 2023-03-26  01:00:00  ...        0.549413        0.142081   \n",
       "1808979 2023-03-26  01:00:00  ...        0.549413        0.142081   \n",
       "1808980 2023-03-26  02:00:00  ...        0.541530        0.122595   \n",
       "1808981 2023-03-26  02:00:00  ...        0.541530        0.122595   \n",
       "1808982 2023-03-26  03:00:00  ...             NaN             NaN   \n",
       "1808983 2023-03-26  03:00:00  ...             NaN             NaN   \n",
       "\n",
       "         cloudcover_total  10_metre_u_wind_component  \\\n",
       "1808976          0.902218                   1.449661   \n",
       "1808977          0.902218                   1.449661   \n",
       "1808978          0.966574                   1.487020   \n",
       "1808979          0.966574                   1.487020   \n",
       "1808980          0.661326                   1.555820   \n",
       "1808981          0.661326                   1.555820   \n",
       "1808982               NaN                        NaN   \n",
       "1808983               NaN                        NaN   \n",
       "\n",
       "         10_metre_v_wind_component  data_block_id_fw  direct_solar_radiation  \\\n",
       "1808976                   1.515520             570.5                     0.0   \n",
       "1808977                   1.515520             570.5                     0.0   \n",
       "1808978                   1.497897             570.5                     0.0   \n",
       "1808979                   1.497897             570.5                     0.0   \n",
       "1808980                   1.498167             571.5                     0.0   \n",
       "1808981                   1.498167             571.5                     0.0   \n",
       "1808982                        NaN               NaN                     NaN   \n",
       "1808983                        NaN               NaN                     NaN   \n",
       "\n",
       "         surface_solar_radiation_downwards  snowfall  total_precipitation  \n",
       "1808976                                0.0  0.000001             0.000239  \n",
       "1808977                                0.0  0.000001             0.000239  \n",
       "1808978                                0.0  0.000000             0.000028  \n",
       "1808979                                0.0  0.000000             0.000028  \n",
       "1808980                                0.0  0.000000             0.000003  \n",
       "1808981                                0.0  0.000000             0.000003  \n",
       "1808982                                NaN       NaN                  NaN  \n",
       "1808983                                NaN       NaN                  NaN  \n",
       "\n",
       "[8 rows x 32 columns]"
      ]
     },
     "execution_count": 132,
     "metadata": {},
     "output_type": "execute_result"
    }
   ],
   "source": [
    "train_m_4[(train_m_4.date == pd.to_datetime(\"2023-03-26\")) & (train_m_4.county == 15) & (train_m_4.is_business == 1) & (train_m_4.product_type == 3)].head(8)"
   ]
  },
  {
   "cell_type": "code",
   "execution_count": 133,
   "metadata": {},
   "outputs": [
    {
     "data": {
      "text/html": [
       "<div>\n",
       "<style scoped>\n",
       "    .dataframe tbody tr th:only-of-type {\n",
       "        vertical-align: middle;\n",
       "    }\n",
       "\n",
       "    .dataframe tbody tr th {\n",
       "        vertical-align: top;\n",
       "    }\n",
       "\n",
       "    .dataframe thead th {\n",
       "        text-align: right;\n",
       "    }\n",
       "</style>\n",
       "<table border=\"1\" class=\"dataframe\">\n",
       "  <thead>\n",
       "    <tr style=\"text-align: right;\">\n",
       "      <th></th>\n",
       "      <th>county</th>\n",
       "      <th>is_business</th>\n",
       "      <th>product_type</th>\n",
       "      <th>is_consumption</th>\n",
       "      <th>time</th>\n",
       "      <th>date</th>\n",
       "      <th>temperature</th>\n",
       "      <th>dewpoint</th>\n",
       "      <th>cloudcover_high</th>\n",
       "      <th>cloudcover_low</th>\n",
       "      <th>cloudcover_mid</th>\n",
       "      <th>cloudcover_total</th>\n",
       "      <th>10_metre_u_wind_component</th>\n",
       "      <th>10_metre_v_wind_component</th>\n",
       "      <th>data_block_id_fw</th>\n",
       "      <th>direct_solar_radiation</th>\n",
       "      <th>surface_solar_radiation_downwards</th>\n",
       "      <th>snowfall</th>\n",
       "      <th>total_precipitation</th>\n",
       "    </tr>\n",
       "  </thead>\n",
       "  <tbody>\n",
       "    <tr>\n",
       "      <th>571</th>\n",
       "      <td>0</td>\n",
       "      <td>0</td>\n",
       "      <td>1</td>\n",
       "      <td>0</td>\n",
       "      <td>00:00:00</td>\n",
       "      <td>2023-03-26</td>\n",
       "      <td>3.764520</td>\n",
       "      <td>3.160537</td>\n",
       "      <td>0.664223</td>\n",
       "      <td>1.000000</td>\n",
       "      <td>0.597473</td>\n",
       "      <td>1.000001</td>\n",
       "      <td>0.614123</td>\n",
       "      <td>2.390402</td>\n",
       "      <td>570.5</td>\n",
       "      <td>0.0</td>\n",
       "      <td>0.000000</td>\n",
       "      <td>0.0</td>\n",
       "      <td>0.000131</td>\n",
       "    </tr>\n",
       "    <tr>\n",
       "      <th>1209</th>\n",
       "      <td>0</td>\n",
       "      <td>0</td>\n",
       "      <td>1</td>\n",
       "      <td>0</td>\n",
       "      <td>01:00:00</td>\n",
       "      <td>2023-03-26</td>\n",
       "      <td>3.765833</td>\n",
       "      <td>3.277256</td>\n",
       "      <td>0.557884</td>\n",
       "      <td>1.000001</td>\n",
       "      <td>0.404747</td>\n",
       "      <td>1.000006</td>\n",
       "      <td>0.988135</td>\n",
       "      <td>2.054371</td>\n",
       "      <td>570.5</td>\n",
       "      <td>0.0</td>\n",
       "      <td>0.000000</td>\n",
       "      <td>0.0</td>\n",
       "      <td>0.000126</td>\n",
       "    </tr>\n",
       "    <tr>\n",
       "      <th>1847</th>\n",
       "      <td>0</td>\n",
       "      <td>0</td>\n",
       "      <td>1</td>\n",
       "      <td>0</td>\n",
       "      <td>02:00:00</td>\n",
       "      <td>2023-03-26</td>\n",
       "      <td>3.784113</td>\n",
       "      <td>3.506982</td>\n",
       "      <td>0.094894</td>\n",
       "      <td>0.999999</td>\n",
       "      <td>0.160533</td>\n",
       "      <td>0.999997</td>\n",
       "      <td>1.031340</td>\n",
       "      <td>0.896555</td>\n",
       "      <td>571.5</td>\n",
       "      <td>0.0</td>\n",
       "      <td>0.000000</td>\n",
       "      <td>0.0</td>\n",
       "      <td>0.000043</td>\n",
       "    </tr>\n",
       "    <tr>\n",
       "      <th>2485</th>\n",
       "      <td>0</td>\n",
       "      <td>0</td>\n",
       "      <td>1</td>\n",
       "      <td>0</td>\n",
       "      <td>03:00:00</td>\n",
       "      <td>2023-03-26</td>\n",
       "      <td>5.226272</td>\n",
       "      <td>3.108118</td>\n",
       "      <td>0.143425</td>\n",
       "      <td>1.000001</td>\n",
       "      <td>0.295176</td>\n",
       "      <td>1.000001</td>\n",
       "      <td>4.941571</td>\n",
       "      <td>6.262753</td>\n",
       "      <td>570.5</td>\n",
       "      <td>0.0</td>\n",
       "      <td>-0.019028</td>\n",
       "      <td>0.0</td>\n",
       "      <td>0.000002</td>\n",
       "    </tr>\n",
       "    <tr>\n",
       "      <th>3123</th>\n",
       "      <td>0</td>\n",
       "      <td>0</td>\n",
       "      <td>1</td>\n",
       "      <td>0</td>\n",
       "      <td>04:00:00</td>\n",
       "      <td>2023-03-26</td>\n",
       "      <td>3.662602</td>\n",
       "      <td>3.446029</td>\n",
       "      <td>0.000389</td>\n",
       "      <td>0.999999</td>\n",
       "      <td>0.081057</td>\n",
       "      <td>1.000000</td>\n",
       "      <td>0.560785</td>\n",
       "      <td>0.736835</td>\n",
       "      <td>571.5</td>\n",
       "      <td>0.0</td>\n",
       "      <td>-0.016759</td>\n",
       "      <td>0.0</td>\n",
       "      <td>0.000035</td>\n",
       "    </tr>\n",
       "  </tbody>\n",
       "</table>\n",
       "</div>"
      ],
      "text/plain": [
       "      county  is_business  product_type  is_consumption      time       date  \\\n",
       "571        0            0             1               0  00:00:00 2023-03-26   \n",
       "1209       0            0             1               0  01:00:00 2023-03-26   \n",
       "1847       0            0             1               0  02:00:00 2023-03-26   \n",
       "2485       0            0             1               0  03:00:00 2023-03-26   \n",
       "3123       0            0             1               0  04:00:00 2023-03-26   \n",
       "\n",
       "      temperature  dewpoint  cloudcover_high  cloudcover_low  cloudcover_mid  \\\n",
       "571      3.764520  3.160537         0.664223        1.000000        0.597473   \n",
       "1209     3.765833  3.277256         0.557884        1.000001        0.404747   \n",
       "1847     3.784113  3.506982         0.094894        0.999999        0.160533   \n",
       "2485     5.226272  3.108118         0.143425        1.000001        0.295176   \n",
       "3123     3.662602  3.446029         0.000389        0.999999        0.081057   \n",
       "\n",
       "      cloudcover_total  10_metre_u_wind_component  10_metre_v_wind_component  \\\n",
       "571           1.000001                   0.614123                   2.390402   \n",
       "1209          1.000006                   0.988135                   2.054371   \n",
       "1847          0.999997                   1.031340                   0.896555   \n",
       "2485          1.000001                   4.941571                   6.262753   \n",
       "3123          1.000000                   0.560785                   0.736835   \n",
       "\n",
       "      data_block_id_fw  direct_solar_radiation  \\\n",
       "571              570.5                     0.0   \n",
       "1209             570.5                     0.0   \n",
       "1847             571.5                     0.0   \n",
       "2485             570.5                     0.0   \n",
       "3123             571.5                     0.0   \n",
       "\n",
       "      surface_solar_radiation_downwards  snowfall  total_precipitation  \n",
       "571                            0.000000       0.0             0.000131  \n",
       "1209                           0.000000       0.0             0.000126  \n",
       "1847                           0.000000       0.0             0.000043  \n",
       "2485                          -0.019028       0.0             0.000002  \n",
       "3123                          -0.016759       0.0             0.000035  "
      ]
     },
     "execution_count": 133,
     "metadata": {},
     "output_type": "execute_result"
    }
   ],
   "source": [
    "missing_fw[(missing_fw.date == pd.to_datetime(\"2023-03-26\"))].head()"
   ]
  },
  {
   "cell_type": "code",
   "execution_count": 134,
   "metadata": {},
   "outputs": [
    {
     "data": {
      "text/plain": [
       "(2018352, 29)"
      ]
     },
     "execution_count": 134,
     "metadata": {},
     "output_type": "execute_result"
    }
   ],
   "source": [
    "train_m_4.drop(columns=[\"latitude\",\"longitude\",\"hours_ahead\",\"temperature\",\"dewpoint\",\"cloudcover_high\",\"cloudcover_low\",\"cloudcover_mid\",\"cloudcover_total\",\"10_metre_u_wind_component\",\"10_metre_v_wind_component\",\"data_block_id_fw\",\"direct_solar_radiation\",\"surface_solar_radiation_downwards\",\"snowfall\",\"total_precipitation\"], inplace=True)\n",
    "train_m_4 = train_m_4.merge(\n",
    "    missing_fw,\n",
    "    how=\"left\",\n",
    "    on=[\"county\", \"is_business\", \"product_type\", \"is_consumption\", \"time\", \"date\"],\n",
    "    suffixes=(\"\", \"_fw\")\n",
    ")\n",
    "train_m_4.shape"
   ]
  },
  {
   "cell_type": "code",
   "execution_count": 135,
   "metadata": {},
   "outputs": [
    {
     "data": {
      "text/plain": [
       "county                               0\n",
       "is_business                          0\n",
       "product_type                         0\n",
       "is_consumption                       0\n",
       "datetime                             0\n",
       "data_block_id                        0\n",
       "row_id                               0\n",
       "prediction_unit_id                   0\n",
       "date                                 0\n",
       "time                                 0\n",
       "target                               0\n",
       "eic_count                            0\n",
       "installed_capacity                   0\n",
       "lowest_price_per_mwh                 0\n",
       "highest_price_per_mwh                0\n",
       "euros_per_mwh                        0\n",
       "temperature                          0\n",
       "dewpoint                             0\n",
       "cloudcover_high                      0\n",
       "cloudcover_low                       0\n",
       "cloudcover_mid                       0\n",
       "cloudcover_total                     0\n",
       "10_metre_u_wind_component            0\n",
       "10_metre_v_wind_component            0\n",
       "data_block_id_fw                     0\n",
       "direct_solar_radiation               0\n",
       "surface_solar_radiation_downwards    0\n",
       "snowfall                             0\n",
       "total_precipitation                  0\n",
       "dtype: int64"
      ]
     },
     "execution_count": 135,
     "metadata": {},
     "output_type": "execute_result"
    }
   ],
   "source": [
    "train_m_4.isna().sum()"
   ]
  },
  {
   "cell_type": "markdown",
   "metadata": {},
   "source": [
    "* No missing data anymore, let's move to next dataset."
   ]
  },
  {
   "cell_type": "code",
   "execution_count": 136,
   "metadata": {},
   "outputs": [],
   "source": [
    "del train_m_3"
   ]
  },
  {
   "cell_type": "markdown",
   "metadata": {},
   "source": [
    "## 4.7 Merging historic_weather to train data"
   ]
  },
  {
   "cell_type": "code",
   "execution_count": 137,
   "metadata": {},
   "outputs": [
    {
     "data": {
      "text/html": [
       "<div>\n",
       "<style scoped>\n",
       "    .dataframe tbody tr th:only-of-type {\n",
       "        vertical-align: middle;\n",
       "    }\n",
       "\n",
       "    .dataframe tbody tr th {\n",
       "        vertical-align: top;\n",
       "    }\n",
       "\n",
       "    .dataframe thead th {\n",
       "        text-align: right;\n",
       "    }\n",
       "</style>\n",
       "<table border=\"1\" class=\"dataframe\">\n",
       "  <thead>\n",
       "    <tr style=\"text-align: right;\">\n",
       "      <th></th>\n",
       "      <th>datetime</th>\n",
       "      <th>temperature</th>\n",
       "      <th>dewpoint</th>\n",
       "      <th>rain</th>\n",
       "      <th>snowfall</th>\n",
       "      <th>surface_pressure</th>\n",
       "      <th>cloudcover_total</th>\n",
       "      <th>cloudcover_low</th>\n",
       "      <th>cloudcover_mid</th>\n",
       "      <th>cloudcover_high</th>\n",
       "      <th>windspeed_10m</th>\n",
       "      <th>winddirection_10m</th>\n",
       "      <th>shortwave_radiation</th>\n",
       "      <th>direct_solar_radiation</th>\n",
       "      <th>diffuse_radiation</th>\n",
       "      <th>latitude</th>\n",
       "      <th>longitude</th>\n",
       "      <th>data_block_id</th>\n",
       "      <th>county_name</th>\n",
       "      <th>county</th>\n",
       "    </tr>\n",
       "  </thead>\n",
       "  <tbody>\n",
       "    <tr>\n",
       "      <th>0</th>\n",
       "      <td>2021-09-01</td>\n",
       "      <td>14.2</td>\n",
       "      <td>11.6</td>\n",
       "      <td>0.0</td>\n",
       "      <td>0.0</td>\n",
       "      <td>1015.9</td>\n",
       "      <td>31</td>\n",
       "      <td>31</td>\n",
       "      <td>0</td>\n",
       "      <td>11</td>\n",
       "      <td>7.083333</td>\n",
       "      <td>8</td>\n",
       "      <td>0.0</td>\n",
       "      <td>0.0</td>\n",
       "      <td>0.0</td>\n",
       "      <td>57.6</td>\n",
       "      <td>21.7</td>\n",
       "      <td>1.0</td>\n",
       "      <td>UNKOWN</td>\n",
       "      <td>12</td>\n",
       "    </tr>\n",
       "    <tr>\n",
       "      <th>1</th>\n",
       "      <td>2021-09-01</td>\n",
       "      <td>13.9</td>\n",
       "      <td>11.5</td>\n",
       "      <td>0.0</td>\n",
       "      <td>0.0</td>\n",
       "      <td>1010.7</td>\n",
       "      <td>33</td>\n",
       "      <td>37</td>\n",
       "      <td>0</td>\n",
       "      <td>0</td>\n",
       "      <td>5.111111</td>\n",
       "      <td>359</td>\n",
       "      <td>0.0</td>\n",
       "      <td>0.0</td>\n",
       "      <td>0.0</td>\n",
       "      <td>57.6</td>\n",
       "      <td>22.2</td>\n",
       "      <td>1.0</td>\n",
       "      <td>UNKOWN</td>\n",
       "      <td>12</td>\n",
       "    </tr>\n",
       "    <tr>\n",
       "      <th>2</th>\n",
       "      <td>2021-09-01</td>\n",
       "      <td>14.0</td>\n",
       "      <td>12.5</td>\n",
       "      <td>0.0</td>\n",
       "      <td>0.0</td>\n",
       "      <td>1015.0</td>\n",
       "      <td>31</td>\n",
       "      <td>34</td>\n",
       "      <td>0</td>\n",
       "      <td>0</td>\n",
       "      <td>6.333333</td>\n",
       "      <td>355</td>\n",
       "      <td>0.0</td>\n",
       "      <td>0.0</td>\n",
       "      <td>0.0</td>\n",
       "      <td>57.6</td>\n",
       "      <td>22.7</td>\n",
       "      <td>1.0</td>\n",
       "      <td>UNKOWN</td>\n",
       "      <td>12</td>\n",
       "    </tr>\n",
       "  </tbody>\n",
       "</table>\n",
       "</div>"
      ],
      "text/plain": [
       "    datetime  temperature  dewpoint  rain  snowfall  surface_pressure  \\\n",
       "0 2021-09-01         14.2      11.6   0.0       0.0            1015.9   \n",
       "1 2021-09-01         13.9      11.5   0.0       0.0            1010.7   \n",
       "2 2021-09-01         14.0      12.5   0.0       0.0            1015.0   \n",
       "\n",
       "   cloudcover_total  cloudcover_low  cloudcover_mid  cloudcover_high  \\\n",
       "0                31              31               0               11   \n",
       "1                33              37               0                0   \n",
       "2                31              34               0                0   \n",
       "\n",
       "   windspeed_10m  winddirection_10m  shortwave_radiation  \\\n",
       "0       7.083333                  8                  0.0   \n",
       "1       5.111111                359                  0.0   \n",
       "2       6.333333                355                  0.0   \n",
       "\n",
       "   direct_solar_radiation  diffuse_radiation  latitude  longitude  \\\n",
       "0                     0.0                0.0      57.6       21.7   \n",
       "1                     0.0                0.0      57.6       22.2   \n",
       "2                     0.0                0.0      57.6       22.7   \n",
       "\n",
       "   data_block_id county_name  county  \n",
       "0            1.0      UNKOWN      12  \n",
       "1            1.0      UNKOWN      12  \n",
       "2            1.0      UNKOWN      12  "
      ]
     },
     "execution_count": 137,
     "metadata": {},
     "output_type": "execute_result"
    }
   ],
   "source": [
    "historic_weather_m.head(3)"
   ]
  },
  {
   "cell_type": "code",
   "execution_count": 138,
   "metadata": {},
   "outputs": [
    {
     "data": {
      "text/html": [
       "<div>\n",
       "<style scoped>\n",
       "    .dataframe tbody tr th:only-of-type {\n",
       "        vertical-align: middle;\n",
       "    }\n",
       "\n",
       "    .dataframe tbody tr th {\n",
       "        vertical-align: top;\n",
       "    }\n",
       "\n",
       "    .dataframe thead th {\n",
       "        text-align: right;\n",
       "    }\n",
       "</style>\n",
       "<table border=\"1\" class=\"dataframe\">\n",
       "  <thead>\n",
       "    <tr style=\"text-align: right;\">\n",
       "      <th></th>\n",
       "      <th>county</th>\n",
       "      <th>is_business</th>\n",
       "      <th>product_type</th>\n",
       "      <th>is_consumption</th>\n",
       "      <th>datetime</th>\n",
       "      <th>data_block_id</th>\n",
       "      <th>row_id</th>\n",
       "      <th>prediction_unit_id</th>\n",
       "      <th>date</th>\n",
       "      <th>time</th>\n",
       "      <th>...</th>\n",
       "      <th>cloudcover_low</th>\n",
       "      <th>cloudcover_mid</th>\n",
       "      <th>cloudcover_total</th>\n",
       "      <th>10_metre_u_wind_component</th>\n",
       "      <th>10_metre_v_wind_component</th>\n",
       "      <th>data_block_id_fw</th>\n",
       "      <th>direct_solar_radiation</th>\n",
       "      <th>surface_solar_radiation_downwards</th>\n",
       "      <th>snowfall</th>\n",
       "      <th>total_precipitation</th>\n",
       "    </tr>\n",
       "  </thead>\n",
       "  <tbody>\n",
       "    <tr>\n",
       "      <th>2018350</th>\n",
       "      <td>15</td>\n",
       "      <td>1</td>\n",
       "      <td>3</td>\n",
       "      <td>0</td>\n",
       "      <td>2023-05-31 23:00:00</td>\n",
       "      <td>637</td>\n",
       "      <td>2018350</td>\n",
       "      <td>60</td>\n",
       "      <td>2023-05-31</td>\n",
       "      <td>23:00:00</td>\n",
       "      <td>...</td>\n",
       "      <td>0.045816</td>\n",
       "      <td>0.017661</td>\n",
       "      <td>0.488751</td>\n",
       "      <td>3.560166</td>\n",
       "      <td>-0.286433</td>\n",
       "      <td>637.0</td>\n",
       "      <td>-0.335111</td>\n",
       "      <td>0.0</td>\n",
       "      <td>0.0</td>\n",
       "      <td>0.0</td>\n",
       "    </tr>\n",
       "    <tr>\n",
       "      <th>2018351</th>\n",
       "      <td>15</td>\n",
       "      <td>1</td>\n",
       "      <td>3</td>\n",
       "      <td>1</td>\n",
       "      <td>2023-05-31 23:00:00</td>\n",
       "      <td>637</td>\n",
       "      <td>2018351</td>\n",
       "      <td>60</td>\n",
       "      <td>2023-05-31</td>\n",
       "      <td>23:00:00</td>\n",
       "      <td>...</td>\n",
       "      <td>0.045816</td>\n",
       "      <td>0.017661</td>\n",
       "      <td>0.488751</td>\n",
       "      <td>3.560166</td>\n",
       "      <td>-0.286433</td>\n",
       "      <td>637.0</td>\n",
       "      <td>-0.335111</td>\n",
       "      <td>0.0</td>\n",
       "      <td>0.0</td>\n",
       "      <td>0.0</td>\n",
       "    </tr>\n",
       "  </tbody>\n",
       "</table>\n",
       "<p>2 rows × 29 columns</p>\n",
       "</div>"
      ],
      "text/plain": [
       "         county  is_business  product_type  is_consumption  \\\n",
       "2018350      15            1             3               0   \n",
       "2018351      15            1             3               1   \n",
       "\n",
       "                   datetime  data_block_id   row_id  prediction_unit_id  \\\n",
       "2018350 2023-05-31 23:00:00            637  2018350                  60   \n",
       "2018351 2023-05-31 23:00:00            637  2018351                  60   \n",
       "\n",
       "              date      time  ...  cloudcover_low  cloudcover_mid  \\\n",
       "2018350 2023-05-31  23:00:00  ...        0.045816        0.017661   \n",
       "2018351 2023-05-31  23:00:00  ...        0.045816        0.017661   \n",
       "\n",
       "         cloudcover_total  10_metre_u_wind_component  \\\n",
       "2018350          0.488751                   3.560166   \n",
       "2018351          0.488751                   3.560166   \n",
       "\n",
       "         10_metre_v_wind_component  data_block_id_fw  direct_solar_radiation  \\\n",
       "2018350                  -0.286433             637.0               -0.335111   \n",
       "2018351                  -0.286433             637.0               -0.335111   \n",
       "\n",
       "         surface_solar_radiation_downwards  snowfall  total_precipitation  \n",
       "2018350                                0.0       0.0                  0.0  \n",
       "2018351                                0.0       0.0                  0.0  \n",
       "\n",
       "[2 rows x 29 columns]"
      ]
     },
     "execution_count": 138,
     "metadata": {},
     "output_type": "execute_result"
    }
   ],
   "source": [
    "train_m_4.tail(2)"
   ]
  },
  {
   "cell_type": "code",
   "execution_count": 139,
   "metadata": {},
   "outputs": [
    {
     "data": {
      "text/plain": [
       "(dtype('<M8[ns]'), dtype('<M8[ns]'))"
      ]
     },
     "execution_count": 139,
     "metadata": {},
     "output_type": "execute_result"
    }
   ],
   "source": [
    "historic_weather_m.datetime.dtype, train_m_4.datetime.dtype"
   ]
  },
  {
   "cell_type": "code",
   "execution_count": 140,
   "metadata": {},
   "outputs": [],
   "source": [
    "historic_weather_m = historic_weather_m.groupby([\"county\", \"datetime\"]).mean().reset_index()"
   ]
  },
  {
   "cell_type": "code",
   "execution_count": 141,
   "metadata": {},
   "outputs": [],
   "source": [
    "historic_weather_m[\"county\"] = historic_weather_m.county.astype(\"int\")"
   ]
  },
  {
   "cell_type": "code",
   "execution_count": 142,
   "metadata": {},
   "outputs": [
    {
     "data": {
      "text/plain": [
       "(2018352, 29)"
      ]
     },
     "execution_count": 142,
     "metadata": {},
     "output_type": "execute_result"
    }
   ],
   "source": [
    "train_m_4.shape"
   ]
  },
  {
   "cell_type": "code",
   "execution_count": 143,
   "metadata": {},
   "outputs": [
    {
     "data": {
      "text/plain": [
       "(2018352, 46)"
      ]
     },
     "execution_count": 143,
     "metadata": {},
     "output_type": "execute_result"
    }
   ],
   "source": [
    "train_m_5 = train_m_4.merge(\n",
    "    historic_weather_m,\n",
    "    how=\"left\",\n",
    "    on=[\"county\", \"datetime\"],\n",
    "    suffixes=(\"\", \"_hw\") \n",
    ")\n",
    "train_m_5.shape"
   ]
  },
  {
   "cell_type": "code",
   "execution_count": 144,
   "metadata": {},
   "outputs": [
    {
     "data": {
      "text/plain": [
       "county                                  0\n",
       "is_business                             0\n",
       "product_type                            0\n",
       "is_consumption                          0\n",
       "datetime                                0\n",
       "data_block_id                           0\n",
       "row_id                                  0\n",
       "prediction_unit_id                      0\n",
       "date                                    0\n",
       "time                                    0\n",
       "target                                  0\n",
       "eic_count                               0\n",
       "installed_capacity                      0\n",
       "lowest_price_per_mwh                    0\n",
       "highest_price_per_mwh                   0\n",
       "euros_per_mwh                           0\n",
       "temperature                             0\n",
       "dewpoint                                0\n",
       "cloudcover_high                         0\n",
       "cloudcover_low                          0\n",
       "cloudcover_mid                          0\n",
       "cloudcover_total                        0\n",
       "10_metre_u_wind_component               0\n",
       "10_metre_v_wind_component               0\n",
       "data_block_id_fw                        0\n",
       "direct_solar_radiation                  0\n",
       "surface_solar_radiation_downwards       0\n",
       "snowfall                                0\n",
       "total_precipitation                     0\n",
       "temperature_hw                       4810\n",
       "dewpoint_hw                          4810\n",
       "rain                                 4810\n",
       "snowfall_hw                          4810\n",
       "surface_pressure                     4810\n",
       "cloudcover_total_hw                  4810\n",
       "cloudcover_low_hw                    4810\n",
       "cloudcover_mid_hw                    4810\n",
       "cloudcover_high_hw                   4810\n",
       "windspeed_10m                        4810\n",
       "winddirection_10m                    4810\n",
       "shortwave_radiation                  4810\n",
       "direct_solar_radiation_hw            4810\n",
       "diffuse_radiation                    4810\n",
       "latitude                             4810\n",
       "longitude                            4810\n",
       "data_block_id_hw                     4810\n",
       "dtype: int64"
      ]
     },
     "execution_count": 144,
     "metadata": {},
     "output_type": "execute_result"
    }
   ],
   "source": [
    "train_m_5.isna().sum()"
   ]
  },
  {
   "cell_type": "code",
   "execution_count": 145,
   "metadata": {},
   "outputs": [
    {
     "data": {
      "text/plain": [
       "2023-05-31    3120\n",
       "2023-05-30    1690\n",
       "Name: date, dtype: int64"
      ]
     },
     "execution_count": 145,
     "metadata": {},
     "output_type": "execute_result"
    }
   ],
   "source": [
    "train_m_5[train_m_5.temperature_hw.isna()].date.value_counts()"
   ]
  },
  {
   "cell_type": "markdown",
   "metadata": {},
   "source": [
    "* We do not have historic weather data for **301 and 31** dates. let's imput this with previous day values."
   ]
  },
  {
   "cell_type": "code",
   "execution_count": 146,
   "metadata": {},
   "outputs": [
    {
     "data": {
      "text/html": [
       "<div>\n",
       "<style scoped>\n",
       "    .dataframe tbody tr th:only-of-type {\n",
       "        vertical-align: middle;\n",
       "    }\n",
       "\n",
       "    .dataframe tbody tr th {\n",
       "        vertical-align: top;\n",
       "    }\n",
       "\n",
       "    .dataframe thead th {\n",
       "        text-align: right;\n",
       "    }\n",
       "</style>\n",
       "<table border=\"1\" class=\"dataframe\">\n",
       "  <thead>\n",
       "    <tr style=\"text-align: right;\">\n",
       "      <th></th>\n",
       "      <th>county</th>\n",
       "      <th>is_business</th>\n",
       "      <th>product_type</th>\n",
       "      <th>datetime</th>\n",
       "      <th>temperature_hw</th>\n",
       "    </tr>\n",
       "  </thead>\n",
       "  <tbody>\n",
       "    <tr>\n",
       "      <th>0</th>\n",
       "      <td>0</td>\n",
       "      <td>0</td>\n",
       "      <td>1</td>\n",
       "      <td>2021-09-01 00:00:00</td>\n",
       "      <td>13.600000</td>\n",
       "    </tr>\n",
       "    <tr>\n",
       "      <th>1</th>\n",
       "      <td>0</td>\n",
       "      <td>0</td>\n",
       "      <td>1</td>\n",
       "      <td>2021-09-01 00:00:00</td>\n",
       "      <td>13.600000</td>\n",
       "    </tr>\n",
       "    <tr>\n",
       "      <th>2</th>\n",
       "      <td>0</td>\n",
       "      <td>0</td>\n",
       "      <td>1</td>\n",
       "      <td>2021-09-01 01:00:00</td>\n",
       "      <td>13.566667</td>\n",
       "    </tr>\n",
       "    <tr>\n",
       "      <th>3</th>\n",
       "      <td>0</td>\n",
       "      <td>0</td>\n",
       "      <td>1</td>\n",
       "      <td>2021-09-01 01:00:00</td>\n",
       "      <td>13.566667</td>\n",
       "    </tr>\n",
       "    <tr>\n",
       "      <th>4</th>\n",
       "      <td>0</td>\n",
       "      <td>0</td>\n",
       "      <td>1</td>\n",
       "      <td>2021-09-01 02:00:00</td>\n",
       "      <td>13.100000</td>\n",
       "    </tr>\n",
       "    <tr>\n",
       "      <th>...</th>\n",
       "      <td>...</td>\n",
       "      <td>...</td>\n",
       "      <td>...</td>\n",
       "      <td>...</td>\n",
       "      <td>...</td>\n",
       "    </tr>\n",
       "    <tr>\n",
       "      <th>2018347</th>\n",
       "      <td>15</td>\n",
       "      <td>1</td>\n",
       "      <td>3</td>\n",
       "      <td>2023-05-31 21:00:00</td>\n",
       "      <td>NaN</td>\n",
       "    </tr>\n",
       "    <tr>\n",
       "      <th>2018348</th>\n",
       "      <td>15</td>\n",
       "      <td>1</td>\n",
       "      <td>3</td>\n",
       "      <td>2023-05-31 22:00:00</td>\n",
       "      <td>NaN</td>\n",
       "    </tr>\n",
       "    <tr>\n",
       "      <th>2018349</th>\n",
       "      <td>15</td>\n",
       "      <td>1</td>\n",
       "      <td>3</td>\n",
       "      <td>2023-05-31 22:00:00</td>\n",
       "      <td>NaN</td>\n",
       "    </tr>\n",
       "    <tr>\n",
       "      <th>2018350</th>\n",
       "      <td>15</td>\n",
       "      <td>1</td>\n",
       "      <td>3</td>\n",
       "      <td>2023-05-31 23:00:00</td>\n",
       "      <td>NaN</td>\n",
       "    </tr>\n",
       "    <tr>\n",
       "      <th>2018351</th>\n",
       "      <td>15</td>\n",
       "      <td>1</td>\n",
       "      <td>3</td>\n",
       "      <td>2023-05-31 23:00:00</td>\n",
       "      <td>NaN</td>\n",
       "    </tr>\n",
       "  </tbody>\n",
       "</table>\n",
       "<p>2018352 rows × 5 columns</p>\n",
       "</div>"
      ],
      "text/plain": [
       "         county  is_business  product_type            datetime  temperature_hw\n",
       "0             0            0             1 2021-09-01 00:00:00       13.600000\n",
       "1             0            0             1 2021-09-01 00:00:00       13.600000\n",
       "2             0            0             1 2021-09-01 01:00:00       13.566667\n",
       "3             0            0             1 2021-09-01 01:00:00       13.566667\n",
       "4             0            0             1 2021-09-01 02:00:00       13.100000\n",
       "...         ...          ...           ...                 ...             ...\n",
       "2018347      15            1             3 2023-05-31 21:00:00             NaN\n",
       "2018348      15            1             3 2023-05-31 22:00:00             NaN\n",
       "2018349      15            1             3 2023-05-31 22:00:00             NaN\n",
       "2018350      15            1             3 2023-05-31 23:00:00             NaN\n",
       "2018351      15            1             3 2023-05-31 23:00:00             NaN\n",
       "\n",
       "[2018352 rows x 5 columns]"
      ]
     },
     "execution_count": 146,
     "metadata": {},
     "output_type": "execute_result"
    }
   ],
   "source": [
    "train_m_5[[\"county\", \"is_business\", \"product_type\", \"datetime\", \"temperature_hw\"]]"
   ]
  },
  {
   "cell_type": "code",
   "execution_count": 147,
   "metadata": {},
   "outputs": [
    {
     "data": {
      "text/plain": [
       "False    2018352\n",
       "dtype: int64"
      ]
     },
     "execution_count": 147,
     "metadata": {},
     "output_type": "execute_result"
    }
   ],
   "source": [
    "train_m_5[[\"county\", \"is_business\", \"product_type\", \"is_consumption\", \"time\", \"date\"]].duplicated().value_counts()"
   ]
  },
  {
   "cell_type": "code",
   "execution_count": 148,
   "metadata": {},
   "outputs": [],
   "source": [
    "missing_hw = train_m_5.groupby([\"county\", \"is_business\", \"product_type\", \"is_consumption\", \"time\", \"date\"])[\"latitude\",\"longitude\",\"temperature_hw\",\"dewpoint_hw\",\"rain\",\"snowfall_hw\",\"surface_pressure\",\"cloudcover_total_hw\",\"cloudcover_low_hw\",\"cloudcover_mid_hw\",\"cloudcover_high_hw\",\"windspeed_10m\",\"winddirection_10m\",\"shortwave_radiation\",\"direct_solar_radiation_hw\",\"diffuse_radiation\"].mean().reset_index().ffill()"
   ]
  },
  {
   "cell_type": "code",
   "execution_count": 149,
   "metadata": {},
   "outputs": [
    {
     "data": {
      "text/html": [
       "<div>\n",
       "<style scoped>\n",
       "    .dataframe tbody tr th:only-of-type {\n",
       "        vertical-align: middle;\n",
       "    }\n",
       "\n",
       "    .dataframe tbody tr th {\n",
       "        vertical-align: top;\n",
       "    }\n",
       "\n",
       "    .dataframe thead th {\n",
       "        text-align: right;\n",
       "    }\n",
       "</style>\n",
       "<table border=\"1\" class=\"dataframe\">\n",
       "  <thead>\n",
       "    <tr style=\"text-align: right;\">\n",
       "      <th></th>\n",
       "      <th>county</th>\n",
       "      <th>is_business</th>\n",
       "      <th>product_type</th>\n",
       "      <th>is_consumption</th>\n",
       "      <th>datetime</th>\n",
       "      <th>data_block_id</th>\n",
       "      <th>row_id</th>\n",
       "      <th>prediction_unit_id</th>\n",
       "      <th>date</th>\n",
       "      <th>time</th>\n",
       "      <th>...</th>\n",
       "      <th>cloudcover_mid_hw</th>\n",
       "      <th>cloudcover_high_hw</th>\n",
       "      <th>windspeed_10m</th>\n",
       "      <th>winddirection_10m</th>\n",
       "      <th>shortwave_radiation</th>\n",
       "      <th>direct_solar_radiation_hw</th>\n",
       "      <th>diffuse_radiation</th>\n",
       "      <th>latitude</th>\n",
       "      <th>longitude</th>\n",
       "      <th>data_block_id_hw</th>\n",
       "    </tr>\n",
       "  </thead>\n",
       "  <tbody>\n",
       "    <tr>\n",
       "      <th>2018347</th>\n",
       "      <td>15</td>\n",
       "      <td>1</td>\n",
       "      <td>3</td>\n",
       "      <td>1</td>\n",
       "      <td>2023-05-31 21:00:00</td>\n",
       "      <td>637</td>\n",
       "      <td>2018091</td>\n",
       "      <td>60</td>\n",
       "      <td>2023-05-31</td>\n",
       "      <td>21:00:00</td>\n",
       "      <td>...</td>\n",
       "      <td>NaN</td>\n",
       "      <td>NaN</td>\n",
       "      <td>NaN</td>\n",
       "      <td>NaN</td>\n",
       "      <td>NaN</td>\n",
       "      <td>NaN</td>\n",
       "      <td>NaN</td>\n",
       "      <td>NaN</td>\n",
       "      <td>NaN</td>\n",
       "      <td>NaN</td>\n",
       "    </tr>\n",
       "    <tr>\n",
       "      <th>2018348</th>\n",
       "      <td>15</td>\n",
       "      <td>1</td>\n",
       "      <td>3</td>\n",
       "      <td>0</td>\n",
       "      <td>2023-05-31 22:00:00</td>\n",
       "      <td>637</td>\n",
       "      <td>2018220</td>\n",
       "      <td>60</td>\n",
       "      <td>2023-05-31</td>\n",
       "      <td>22:00:00</td>\n",
       "      <td>...</td>\n",
       "      <td>NaN</td>\n",
       "      <td>NaN</td>\n",
       "      <td>NaN</td>\n",
       "      <td>NaN</td>\n",
       "      <td>NaN</td>\n",
       "      <td>NaN</td>\n",
       "      <td>NaN</td>\n",
       "      <td>NaN</td>\n",
       "      <td>NaN</td>\n",
       "      <td>NaN</td>\n",
       "    </tr>\n",
       "    <tr>\n",
       "      <th>2018349</th>\n",
       "      <td>15</td>\n",
       "      <td>1</td>\n",
       "      <td>3</td>\n",
       "      <td>1</td>\n",
       "      <td>2023-05-31 22:00:00</td>\n",
       "      <td>637</td>\n",
       "      <td>2018221</td>\n",
       "      <td>60</td>\n",
       "      <td>2023-05-31</td>\n",
       "      <td>22:00:00</td>\n",
       "      <td>...</td>\n",
       "      <td>NaN</td>\n",
       "      <td>NaN</td>\n",
       "      <td>NaN</td>\n",
       "      <td>NaN</td>\n",
       "      <td>NaN</td>\n",
       "      <td>NaN</td>\n",
       "      <td>NaN</td>\n",
       "      <td>NaN</td>\n",
       "      <td>NaN</td>\n",
       "      <td>NaN</td>\n",
       "    </tr>\n",
       "    <tr>\n",
       "      <th>2018350</th>\n",
       "      <td>15</td>\n",
       "      <td>1</td>\n",
       "      <td>3</td>\n",
       "      <td>0</td>\n",
       "      <td>2023-05-31 23:00:00</td>\n",
       "      <td>637</td>\n",
       "      <td>2018350</td>\n",
       "      <td>60</td>\n",
       "      <td>2023-05-31</td>\n",
       "      <td>23:00:00</td>\n",
       "      <td>...</td>\n",
       "      <td>NaN</td>\n",
       "      <td>NaN</td>\n",
       "      <td>NaN</td>\n",
       "      <td>NaN</td>\n",
       "      <td>NaN</td>\n",
       "      <td>NaN</td>\n",
       "      <td>NaN</td>\n",
       "      <td>NaN</td>\n",
       "      <td>NaN</td>\n",
       "      <td>NaN</td>\n",
       "    </tr>\n",
       "    <tr>\n",
       "      <th>2018351</th>\n",
       "      <td>15</td>\n",
       "      <td>1</td>\n",
       "      <td>3</td>\n",
       "      <td>1</td>\n",
       "      <td>2023-05-31 23:00:00</td>\n",
       "      <td>637</td>\n",
       "      <td>2018351</td>\n",
       "      <td>60</td>\n",
       "      <td>2023-05-31</td>\n",
       "      <td>23:00:00</td>\n",
       "      <td>...</td>\n",
       "      <td>NaN</td>\n",
       "      <td>NaN</td>\n",
       "      <td>NaN</td>\n",
       "      <td>NaN</td>\n",
       "      <td>NaN</td>\n",
       "      <td>NaN</td>\n",
       "      <td>NaN</td>\n",
       "      <td>NaN</td>\n",
       "      <td>NaN</td>\n",
       "      <td>NaN</td>\n",
       "    </tr>\n",
       "  </tbody>\n",
       "</table>\n",
       "<p>5 rows × 46 columns</p>\n",
       "</div>"
      ],
      "text/plain": [
       "         county  is_business  product_type  is_consumption  \\\n",
       "2018347      15            1             3               1   \n",
       "2018348      15            1             3               0   \n",
       "2018349      15            1             3               1   \n",
       "2018350      15            1             3               0   \n",
       "2018351      15            1             3               1   \n",
       "\n",
       "                   datetime  data_block_id   row_id  prediction_unit_id  \\\n",
       "2018347 2023-05-31 21:00:00            637  2018091                  60   \n",
       "2018348 2023-05-31 22:00:00            637  2018220                  60   \n",
       "2018349 2023-05-31 22:00:00            637  2018221                  60   \n",
       "2018350 2023-05-31 23:00:00            637  2018350                  60   \n",
       "2018351 2023-05-31 23:00:00            637  2018351                  60   \n",
       "\n",
       "              date      time  ...  cloudcover_mid_hw  cloudcover_high_hw  \\\n",
       "2018347 2023-05-31  21:00:00  ...                NaN                 NaN   \n",
       "2018348 2023-05-31  22:00:00  ...                NaN                 NaN   \n",
       "2018349 2023-05-31  22:00:00  ...                NaN                 NaN   \n",
       "2018350 2023-05-31  23:00:00  ...                NaN                 NaN   \n",
       "2018351 2023-05-31  23:00:00  ...                NaN                 NaN   \n",
       "\n",
       "         windspeed_10m  winddirection_10m  shortwave_radiation  \\\n",
       "2018347            NaN                NaN                  NaN   \n",
       "2018348            NaN                NaN                  NaN   \n",
       "2018349            NaN                NaN                  NaN   \n",
       "2018350            NaN                NaN                  NaN   \n",
       "2018351            NaN                NaN                  NaN   \n",
       "\n",
       "         direct_solar_radiation_hw  diffuse_radiation  latitude  longitude  \\\n",
       "2018347                        NaN                NaN       NaN        NaN   \n",
       "2018348                        NaN                NaN       NaN        NaN   \n",
       "2018349                        NaN                NaN       NaN        NaN   \n",
       "2018350                        NaN                NaN       NaN        NaN   \n",
       "2018351                        NaN                NaN       NaN        NaN   \n",
       "\n",
       "         data_block_id_hw  \n",
       "2018347               NaN  \n",
       "2018348               NaN  \n",
       "2018349               NaN  \n",
       "2018350               NaN  \n",
       "2018351               NaN  \n",
       "\n",
       "[5 rows x 46 columns]"
      ]
     },
     "execution_count": 149,
     "metadata": {},
     "output_type": "execute_result"
    }
   ],
   "source": [
    "train_m_5.tail()"
   ]
  },
  {
   "cell_type": "code",
   "execution_count": 150,
   "metadata": {},
   "outputs": [
    {
     "data": {
      "text/html": [
       "<div>\n",
       "<style scoped>\n",
       "    .dataframe tbody tr th:only-of-type {\n",
       "        vertical-align: middle;\n",
       "    }\n",
       "\n",
       "    .dataframe tbody tr th {\n",
       "        vertical-align: top;\n",
       "    }\n",
       "\n",
       "    .dataframe thead th {\n",
       "        text-align: right;\n",
       "    }\n",
       "</style>\n",
       "<table border=\"1\" class=\"dataframe\">\n",
       "  <thead>\n",
       "    <tr style=\"text-align: right;\">\n",
       "      <th></th>\n",
       "      <th>county</th>\n",
       "      <th>is_business</th>\n",
       "      <th>product_type</th>\n",
       "      <th>is_consumption</th>\n",
       "      <th>time</th>\n",
       "      <th>date</th>\n",
       "      <th>latitude</th>\n",
       "      <th>longitude</th>\n",
       "      <th>temperature_hw</th>\n",
       "      <th>dewpoint_hw</th>\n",
       "      <th>...</th>\n",
       "      <th>surface_pressure</th>\n",
       "      <th>cloudcover_total_hw</th>\n",
       "      <th>cloudcover_low_hw</th>\n",
       "      <th>cloudcover_mid_hw</th>\n",
       "      <th>cloudcover_high_hw</th>\n",
       "      <th>windspeed_10m</th>\n",
       "      <th>winddirection_10m</th>\n",
       "      <th>shortwave_radiation</th>\n",
       "      <th>direct_solar_radiation_hw</th>\n",
       "      <th>diffuse_radiation</th>\n",
       "    </tr>\n",
       "  </thead>\n",
       "  <tbody>\n",
       "    <tr>\n",
       "      <th>2018347</th>\n",
       "      <td>15</td>\n",
       "      <td>1</td>\n",
       "      <td>3</td>\n",
       "      <td>1</td>\n",
       "      <td>23:00:00</td>\n",
       "      <td>2023-05-27</td>\n",
       "      <td>57.78</td>\n",
       "      <td>27.1</td>\n",
       "      <td>8.62</td>\n",
       "      <td>1.20</td>\n",
       "      <td>...</td>\n",
       "      <td>1010.40</td>\n",
       "      <td>0.0</td>\n",
       "      <td>0.0</td>\n",
       "      <td>0.0</td>\n",
       "      <td>0.0</td>\n",
       "      <td>1.955556</td>\n",
       "      <td>148.6</td>\n",
       "      <td>0.0</td>\n",
       "      <td>0.0</td>\n",
       "      <td>0.0</td>\n",
       "    </tr>\n",
       "    <tr>\n",
       "      <th>2018348</th>\n",
       "      <td>15</td>\n",
       "      <td>1</td>\n",
       "      <td>3</td>\n",
       "      <td>1</td>\n",
       "      <td>23:00:00</td>\n",
       "      <td>2023-05-28</td>\n",
       "      <td>57.78</td>\n",
       "      <td>27.1</td>\n",
       "      <td>12.72</td>\n",
       "      <td>4.06</td>\n",
       "      <td>...</td>\n",
       "      <td>1003.16</td>\n",
       "      <td>17.6</td>\n",
       "      <td>5.2</td>\n",
       "      <td>21.8</td>\n",
       "      <td>0.0</td>\n",
       "      <td>3.055556</td>\n",
       "      <td>229.0</td>\n",
       "      <td>0.0</td>\n",
       "      <td>0.0</td>\n",
       "      <td>0.0</td>\n",
       "    </tr>\n",
       "    <tr>\n",
       "      <th>2018349</th>\n",
       "      <td>15</td>\n",
       "      <td>1</td>\n",
       "      <td>3</td>\n",
       "      <td>1</td>\n",
       "      <td>23:00:00</td>\n",
       "      <td>2023-05-29</td>\n",
       "      <td>57.78</td>\n",
       "      <td>27.1</td>\n",
       "      <td>11.18</td>\n",
       "      <td>6.98</td>\n",
       "      <td>...</td>\n",
       "      <td>1003.74</td>\n",
       "      <td>21.2</td>\n",
       "      <td>2.8</td>\n",
       "      <td>16.4</td>\n",
       "      <td>29.8</td>\n",
       "      <td>1.772222</td>\n",
       "      <td>170.0</td>\n",
       "      <td>0.0</td>\n",
       "      <td>0.0</td>\n",
       "      <td>0.0</td>\n",
       "    </tr>\n",
       "    <tr>\n",
       "      <th>2018350</th>\n",
       "      <td>15</td>\n",
       "      <td>1</td>\n",
       "      <td>3</td>\n",
       "      <td>1</td>\n",
       "      <td>23:00:00</td>\n",
       "      <td>2023-05-30</td>\n",
       "      <td>57.78</td>\n",
       "      <td>27.1</td>\n",
       "      <td>11.18</td>\n",
       "      <td>6.98</td>\n",
       "      <td>...</td>\n",
       "      <td>1003.74</td>\n",
       "      <td>21.2</td>\n",
       "      <td>2.8</td>\n",
       "      <td>16.4</td>\n",
       "      <td>29.8</td>\n",
       "      <td>1.772222</td>\n",
       "      <td>170.0</td>\n",
       "      <td>0.0</td>\n",
       "      <td>0.0</td>\n",
       "      <td>0.0</td>\n",
       "    </tr>\n",
       "    <tr>\n",
       "      <th>2018351</th>\n",
       "      <td>15</td>\n",
       "      <td>1</td>\n",
       "      <td>3</td>\n",
       "      <td>1</td>\n",
       "      <td>23:00:00</td>\n",
       "      <td>2023-05-31</td>\n",
       "      <td>57.78</td>\n",
       "      <td>27.1</td>\n",
       "      <td>11.18</td>\n",
       "      <td>6.98</td>\n",
       "      <td>...</td>\n",
       "      <td>1003.74</td>\n",
       "      <td>21.2</td>\n",
       "      <td>2.8</td>\n",
       "      <td>16.4</td>\n",
       "      <td>29.8</td>\n",
       "      <td>1.772222</td>\n",
       "      <td>170.0</td>\n",
       "      <td>0.0</td>\n",
       "      <td>0.0</td>\n",
       "      <td>0.0</td>\n",
       "    </tr>\n",
       "  </tbody>\n",
       "</table>\n",
       "<p>5 rows × 22 columns</p>\n",
       "</div>"
      ],
      "text/plain": [
       "         county  is_business  product_type  is_consumption      time  \\\n",
       "2018347      15            1             3               1  23:00:00   \n",
       "2018348      15            1             3               1  23:00:00   \n",
       "2018349      15            1             3               1  23:00:00   \n",
       "2018350      15            1             3               1  23:00:00   \n",
       "2018351      15            1             3               1  23:00:00   \n",
       "\n",
       "              date  latitude  longitude  temperature_hw  dewpoint_hw  ...  \\\n",
       "2018347 2023-05-27     57.78       27.1            8.62         1.20  ...   \n",
       "2018348 2023-05-28     57.78       27.1           12.72         4.06  ...   \n",
       "2018349 2023-05-29     57.78       27.1           11.18         6.98  ...   \n",
       "2018350 2023-05-30     57.78       27.1           11.18         6.98  ...   \n",
       "2018351 2023-05-31     57.78       27.1           11.18         6.98  ...   \n",
       "\n",
       "         surface_pressure  cloudcover_total_hw  cloudcover_low_hw  \\\n",
       "2018347           1010.40                  0.0                0.0   \n",
       "2018348           1003.16                 17.6                5.2   \n",
       "2018349           1003.74                 21.2                2.8   \n",
       "2018350           1003.74                 21.2                2.8   \n",
       "2018351           1003.74                 21.2                2.8   \n",
       "\n",
       "         cloudcover_mid_hw  cloudcover_high_hw  windspeed_10m  \\\n",
       "2018347                0.0                 0.0       1.955556   \n",
       "2018348               21.8                 0.0       3.055556   \n",
       "2018349               16.4                29.8       1.772222   \n",
       "2018350               16.4                29.8       1.772222   \n",
       "2018351               16.4                29.8       1.772222   \n",
       "\n",
       "         winddirection_10m  shortwave_radiation  direct_solar_radiation_hw  \\\n",
       "2018347              148.6                  0.0                        0.0   \n",
       "2018348              229.0                  0.0                        0.0   \n",
       "2018349              170.0                  0.0                        0.0   \n",
       "2018350              170.0                  0.0                        0.0   \n",
       "2018351              170.0                  0.0                        0.0   \n",
       "\n",
       "         diffuse_radiation  \n",
       "2018347                0.0  \n",
       "2018348                0.0  \n",
       "2018349                0.0  \n",
       "2018350                0.0  \n",
       "2018351                0.0  \n",
       "\n",
       "[5 rows x 22 columns]"
      ]
     },
     "execution_count": 150,
     "metadata": {},
     "output_type": "execute_result"
    }
   ],
   "source": [
    "missing_hw.tail()"
   ]
  },
  {
   "cell_type": "code",
   "execution_count": 151,
   "metadata": {},
   "outputs": [
    {
     "data": {
      "text/plain": [
       "(2018352, 45)"
      ]
     },
     "execution_count": 151,
     "metadata": {},
     "output_type": "execute_result"
    }
   ],
   "source": [
    "train_m_5.drop(columns=[\"latitude\", \"longitude\", \"temperature_hw\",\"dewpoint_hw\",\"rain\",\"snowfall_hw\",\"surface_pressure\",\"cloudcover_total_hw\",\"cloudcover_low_hw\",\"cloudcover_mid_hw\",\"cloudcover_high_hw\",\"windspeed_10m\",\"winddirection_10m\",\"shortwave_radiation\",\"direct_solar_radiation_hw\",\"diffuse_radiation\",\"data_block_id_hw\"], inplace=True)\n",
    "train_m_5 = train_m_5.merge(\n",
    "    missing_hw,\n",
    "    how=\"left\",\n",
    "    on=[\"county\", \"is_business\", \"product_type\", \"is_consumption\", \"time\", \"date\"],\n",
    "    suffixes=(\"\", \"_hw\")\n",
    ")\n",
    "train_m_5.shape"
   ]
  },
  {
   "cell_type": "code",
   "execution_count": 152,
   "metadata": {},
   "outputs": [
    {
     "data": {
      "text/plain": [
       "county                               0\n",
       "is_business                          0\n",
       "product_type                         0\n",
       "is_consumption                       0\n",
       "datetime                             0\n",
       "data_block_id                        0\n",
       "row_id                               0\n",
       "prediction_unit_id                   0\n",
       "date                                 0\n",
       "time                                 0\n",
       "target                               0\n",
       "eic_count                            0\n",
       "installed_capacity                   0\n",
       "lowest_price_per_mwh                 0\n",
       "highest_price_per_mwh                0\n",
       "euros_per_mwh                        0\n",
       "temperature                          0\n",
       "dewpoint                             0\n",
       "cloudcover_high                      0\n",
       "cloudcover_low                       0\n",
       "cloudcover_mid                       0\n",
       "cloudcover_total                     0\n",
       "10_metre_u_wind_component            0\n",
       "10_metre_v_wind_component            0\n",
       "data_block_id_fw                     0\n",
       "direct_solar_radiation               0\n",
       "surface_solar_radiation_downwards    0\n",
       "snowfall                             0\n",
       "total_precipitation                  0\n",
       "latitude                             0\n",
       "longitude                            0\n",
       "temperature_hw                       0\n",
       "dewpoint_hw                          0\n",
       "rain                                 0\n",
       "snowfall_hw                          0\n",
       "surface_pressure                     0\n",
       "cloudcover_total_hw                  0\n",
       "cloudcover_low_hw                    0\n",
       "cloudcover_mid_hw                    0\n",
       "cloudcover_high_hw                   0\n",
       "windspeed_10m                        0\n",
       "winddirection_10m                    0\n",
       "shortwave_radiation                  0\n",
       "direct_solar_radiation_hw            0\n",
       "diffuse_radiation                    0\n",
       "dtype: int64"
      ]
     },
     "execution_count": 152,
     "metadata": {},
     "output_type": "execute_result"
    }
   ],
   "source": [
    "train_m_5.isna().sum()"
   ]
  },
  {
   "cell_type": "markdown",
   "metadata": {},
   "source": [
    "* No missing data anymore, let's move to next dataset."
   ]
  },
  {
   "cell_type": "code",
   "execution_count": 153,
   "metadata": {},
   "outputs": [],
   "source": [
    "del train_m_4"
   ]
  },
  {
   "cell_type": "code",
   "execution_count": 155,
   "metadata": {},
   "outputs": [
    {
     "data": {
      "text/plain": [
       "(2018352, 45)"
      ]
     },
     "execution_count": 155,
     "metadata": {},
     "output_type": "execute_result"
    }
   ],
   "source": [
    "train_m_5.shape"
   ]
  },
  {
   "cell_type": "markdown",
   "metadata": {},
   "source": [
    "* We have **2018352** records and **45** column in our final dataset. Let's save this for further analysis."
   ]
  },
  {
   "cell_type": "code",
   "execution_count": 154,
   "metadata": {},
   "outputs": [],
   "source": [
    "train_m_5.to_pickle(f\"{INPUT_DIR}/train_merged.pkl\")"
   ]
  },
  {
   "cell_type": "code",
   "execution_count": null,
   "metadata": {},
   "outputs": [],
   "source": []
  }
 ],
 "metadata": {
  "kernelspec": {
   "display_name": "base",
   "language": "python",
   "name": "python3"
  },
  "language_info": {
   "codemirror_mode": {
    "name": "ipython",
    "version": 3
   },
   "file_extension": ".py",
   "mimetype": "text/x-python",
   "name": "python",
   "nbconvert_exporter": "python",
   "pygments_lexer": "ipython3",
   "version": "3.9.13"
  }
 },
 "nbformat": 4,
 "nbformat_minor": 2
}
